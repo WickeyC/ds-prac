{
 "cells": [
  {
   "cell_type": "markdown",
   "metadata": {
    "colab_type": "text",
    "id": "m1X3RsyYpXas"
   },
   "source": [
    "# 3.0 Pandas\n",
    "\n"
   ]
  },
  {
   "cell_type": "markdown",
   "metadata": {
    "colab_type": "text",
    "id": "NaFAla4FpXat"
   },
   "source": [
    "### Good reference:\n",
    "\n",
    "[Pandas Documentation](http://pandas.pydata.org/pandas-docs/stable/index.html)\n"
   ]
  },
  {
   "cell_type": "code",
   "execution_count": 2,
   "metadata": {
    "colab": {},
    "colab_type": "code",
    "executionInfo": {
     "elapsed": 1883,
     "status": "ok",
     "timestamp": 1595569543991,
     "user": {
      "displayName": "YONG POH YU",
      "photoUrl": "https://lh3.googleusercontent.com/a-/AOh14Ggm8MLlDEFXwbBGZ_6JuVPq1RxXTXVK7REHsxrG=s64",
      "userId": "15844820659946946317"
     },
     "user_tz": -480
    },
    "id": "e6zDoVqepXau"
   },
   "outputs": [],
   "source": [
    "import pandas as pd\n",
    "\n",
    "import numpy as np"
   ]
  },
  {
   "cell_type": "code",
   "execution_count": 44,
   "metadata": {
    "colab": {
     "base_uri": "https://localhost:8080/",
     "height": 138
    },
    "colab_type": "code",
    "executionInfo": {
     "elapsed": 1196,
     "status": "ok",
     "timestamp": 1595569641341,
     "user": {
      "displayName": "YONG POH YU",
      "photoUrl": "https://lh3.googleusercontent.com/a-/AOh14Ggm8MLlDEFXwbBGZ_6JuVPq1RxXTXVK7REHsxrG=s64",
      "userId": "15844820659946946317"
     },
     "user_tz": -480
    },
    "id": "KJITVEvTpXaz",
    "outputId": "fa3b03a6-1748-401d-adce-b8f8ac13f963",
    "scrolled": true
   },
   "outputs": [
    {
     "data": {
      "text/plain": [
       "0    1.0\n",
       "1    3.0\n",
       "2    5.0\n",
       "3    NaN\n",
       "4    6.0\n",
       "5    8.0\n",
       "dtype: float64"
      ]
     },
     "execution_count": 44,
     "metadata": {},
     "output_type": "execute_result"
    }
   ],
   "source": [
    "s = pd.Series([1,3,5,np.nan,6,8])\n",
    "s\n",
    "#float because of the nan"
   ]
  },
  {
   "cell_type": "code",
   "execution_count": 45,
   "metadata": {},
   "outputs": [
    {
     "data": {
      "text/plain": [
       "0    1\n",
       "1    3\n",
       "2    5\n",
       "3    0\n",
       "4    6\n",
       "5    8\n",
       "dtype: int64"
      ]
     },
     "execution_count": 45,
     "metadata": {},
     "output_type": "execute_result"
    }
   ],
   "source": [
    "s = pd.Series([1,3,5,0,6,8])\n",
    "s"
   ]
  },
  {
   "cell_type": "markdown",
   "metadata": {
    "colab_type": "text",
    "id": "SuMWbZpHpXa9"
   },
   "source": [
    "### Data Frame"
   ]
  },
  {
   "cell_type": "code",
   "execution_count": 51,
   "metadata": {
    "colab": {
     "base_uri": "https://localhost:8080/",
     "height": 69
    },
    "colab_type": "code",
    "executionInfo": {
     "elapsed": 1180,
     "status": "ok",
     "timestamp": 1595569683714,
     "user": {
      "displayName": "YONG POH YU",
      "photoUrl": "https://lh3.googleusercontent.com/a-/AOh14Ggm8MLlDEFXwbBGZ_6JuVPq1RxXTXVK7REHsxrG=s64",
      "userId": "15844820659946946317"
     },
     "user_tz": -480
    },
    "id": "bzI1pxzKpXa-",
    "outputId": "fa31d11a-f384-4c64-d42f-bba7c4a89a19",
    "scrolled": false
   },
   "outputs": [
    {
     "data": {
      "text/plain": [
       "DatetimeIndex(['2018-05-01', '2018-05-02', '2018-05-03', '2018-05-04',\n",
       "               '2018-05-05', '2018-05-06'],\n",
       "              dtype='datetime64[ns]', freq='D')"
      ]
     },
     "execution_count": 51,
     "metadata": {},
     "output_type": "execute_result"
    }
   ],
   "source": [
    "dates = pd.date_range('20180501', periods=6)\n",
    "dates"
   ]
  },
  {
   "cell_type": "code",
   "execution_count": 52,
   "metadata": {},
   "outputs": [
    {
     "data": {
      "text/plain": [
       "DatetimeIndex(['2018-05-07', '2018-05-14', '2018-05-21', '2018-05-28',\n",
       "               '2018-06-04', '2018-06-11'],\n",
       "              dtype='datetime64[ns]', freq='W-MON')"
      ]
     },
     "execution_count": 52,
     "metadata": {},
     "output_type": "execute_result"
    }
   ],
   "source": [
    "dates1 = pd.date_range('20180501', periods=6, freq='W-MON')\n",
    "dates1"
   ]
  },
  {
   "cell_type": "code",
   "execution_count": 55,
   "metadata": {
    "colab": {
     "base_uri": "https://localhost:8080/",
     "height": 237
    },
    "colab_type": "code",
    "executionInfo": {
     "elapsed": 1083,
     "status": "ok",
     "timestamp": 1595569780172,
     "user": {
      "displayName": "YONG POH YU",
      "photoUrl": "https://lh3.googleusercontent.com/a-/AOh14Ggm8MLlDEFXwbBGZ_6JuVPq1RxXTXVK7REHsxrG=s64",
      "userId": "15844820659946946317"
     },
     "user_tz": -480
    },
    "id": "6rj-ZX22pXbB",
    "outputId": "c9fa3f18-5315-486b-c61b-ba42baf124a6",
    "scrolled": true
   },
   "outputs": [
    {
     "data": {
      "text/html": [
       "<div>\n",
       "<style scoped>\n",
       "    .dataframe tbody tr th:only-of-type {\n",
       "        vertical-align: middle;\n",
       "    }\n",
       "\n",
       "    .dataframe tbody tr th {\n",
       "        vertical-align: top;\n",
       "    }\n",
       "\n",
       "    .dataframe thead th {\n",
       "        text-align: right;\n",
       "    }\n",
       "</style>\n",
       "<table border=\"1\" class=\"dataframe\">\n",
       "  <thead>\n",
       "    <tr style=\"text-align: right;\">\n",
       "      <th></th>\n",
       "      <th>A</th>\n",
       "      <th>B</th>\n",
       "      <th>C</th>\n",
       "      <th>D</th>\n",
       "    </tr>\n",
       "  </thead>\n",
       "  <tbody>\n",
       "    <tr>\n",
       "      <th>2018-05-01</th>\n",
       "      <td>0.481016</td>\n",
       "      <td>1.675912</td>\n",
       "      <td>0.394839</td>\n",
       "      <td>-0.008451</td>\n",
       "    </tr>\n",
       "    <tr>\n",
       "      <th>2018-05-02</th>\n",
       "      <td>-0.545258</td>\n",
       "      <td>-0.056680</td>\n",
       "      <td>0.395455</td>\n",
       "      <td>-0.203042</td>\n",
       "    </tr>\n",
       "    <tr>\n",
       "      <th>2018-05-03</th>\n",
       "      <td>-1.181007</td>\n",
       "      <td>0.721598</td>\n",
       "      <td>-0.923762</td>\n",
       "      <td>2.203624</td>\n",
       "    </tr>\n",
       "    <tr>\n",
       "      <th>2018-05-04</th>\n",
       "      <td>0.111885</td>\n",
       "      <td>1.271961</td>\n",
       "      <td>0.256533</td>\n",
       "      <td>0.515110</td>\n",
       "    </tr>\n",
       "    <tr>\n",
       "      <th>2018-05-05</th>\n",
       "      <td>0.167895</td>\n",
       "      <td>0.053903</td>\n",
       "      <td>0.610575</td>\n",
       "      <td>-0.620919</td>\n",
       "    </tr>\n",
       "    <tr>\n",
       "      <th>2018-05-06</th>\n",
       "      <td>1.964214</td>\n",
       "      <td>0.347219</td>\n",
       "      <td>-1.981952</td>\n",
       "      <td>-0.264981</td>\n",
       "    </tr>\n",
       "  </tbody>\n",
       "</table>\n",
       "</div>"
      ],
      "text/plain": [
       "                   A         B         C         D\n",
       "2018-05-01  0.481016  1.675912  0.394839 -0.008451\n",
       "2018-05-02 -0.545258 -0.056680  0.395455 -0.203042\n",
       "2018-05-03 -1.181007  0.721598 -0.923762  2.203624\n",
       "2018-05-04  0.111885  1.271961  0.256533  0.515110\n",
       "2018-05-05  0.167895  0.053903  0.610575 -0.620919\n",
       "2018-05-06  1.964214  0.347219 -1.981952 -0.264981"
      ]
     },
     "execution_count": 55,
     "metadata": {},
     "output_type": "execute_result"
    }
   ],
   "source": [
    "df = pd.DataFrame(np.random.randn(6,4), index=dates, columns=list('ABCD'))\n",
    "df"
   ]
  },
  {
   "cell_type": "code",
   "execution_count": 59,
   "metadata": {
    "colab": {
     "base_uri": "https://localhost:8080/",
     "height": 174
    },
    "colab_type": "code",
    "executionInfo": {
     "elapsed": 1139,
     "status": "ok",
     "timestamp": 1595569803227,
     "user": {
      "displayName": "YONG POH YU",
      "photoUrl": "https://lh3.googleusercontent.com/a-/AOh14Ggm8MLlDEFXwbBGZ_6JuVPq1RxXTXVK7REHsxrG=s64",
      "userId": "15844820659946946317"
     },
     "user_tz": -480
    },
    "id": "5f6xyJgHpXbJ",
    "outputId": "7ed510da-6ef5-4fc8-981e-bfce14e4f1d2",
    "scrolled": true
   },
   "outputs": [
    {
     "data": {
      "text/html": [
       "<div>\n",
       "<style scoped>\n",
       "    .dataframe tbody tr th:only-of-type {\n",
       "        vertical-align: middle;\n",
       "    }\n",
       "\n",
       "    .dataframe tbody tr th {\n",
       "        vertical-align: top;\n",
       "    }\n",
       "\n",
       "    .dataframe thead th {\n",
       "        text-align: right;\n",
       "    }\n",
       "</style>\n",
       "<table border=\"1\" class=\"dataframe\">\n",
       "  <thead>\n",
       "    <tr style=\"text-align: right;\">\n",
       "      <th></th>\n",
       "      <th>A</th>\n",
       "      <th>B</th>\n",
       "      <th>C</th>\n",
       "      <th>D</th>\n",
       "      <th>E</th>\n",
       "      <th>F</th>\n",
       "    </tr>\n",
       "  </thead>\n",
       "  <tbody>\n",
       "    <tr>\n",
       "      <th>0</th>\n",
       "      <td>1.0</td>\n",
       "      <td>2013-01-02</td>\n",
       "      <td>1.0</td>\n",
       "      <td>3</td>\n",
       "      <td>test</td>\n",
       "      <td>foo</td>\n",
       "    </tr>\n",
       "    <tr>\n",
       "      <th>1</th>\n",
       "      <td>1.0</td>\n",
       "      <td>2013-01-02</td>\n",
       "      <td>1.0</td>\n",
       "      <td>3</td>\n",
       "      <td>train</td>\n",
       "      <td>foo</td>\n",
       "    </tr>\n",
       "    <tr>\n",
       "      <th>2</th>\n",
       "      <td>1.0</td>\n",
       "      <td>2013-01-02</td>\n",
       "      <td>1.0</td>\n",
       "      <td>3</td>\n",
       "      <td>test</td>\n",
       "      <td>foo</td>\n",
       "    </tr>\n",
       "    <tr>\n",
       "      <th>3</th>\n",
       "      <td>1.0</td>\n",
       "      <td>2013-01-02</td>\n",
       "      <td>1.0</td>\n",
       "      <td>3</td>\n",
       "      <td>train</td>\n",
       "      <td>foo</td>\n",
       "    </tr>\n",
       "  </tbody>\n",
       "</table>\n",
       "</div>"
      ],
      "text/plain": [
       "     A          B    C  D      E    F\n",
       "0  1.0 2013-01-02  1.0  3   test  foo\n",
       "1  1.0 2013-01-02  1.0  3  train  foo\n",
       "2  1.0 2013-01-02  1.0  3   test  foo\n",
       "3  1.0 2013-01-02  1.0  3  train  foo"
      ]
     },
     "execution_count": 59,
     "metadata": {},
     "output_type": "execute_result"
    }
   ],
   "source": [
    "df2 = pd.DataFrame({'A' : 1.,\n",
    "                    'B' : pd.Timestamp('20130102'),\n",
    "                    'C' : pd.Series(1,index=list(range(4)),dtype='float32'),\n",
    "                    'D' : np.array([3] * 4,dtype='int32'),\n",
    "                    'E' : pd.Categorical([\"test\",\"train\",\"test\",\"train\"]),\n",
    "                    'F' : 'foo' }) # object\n",
    "\n",
    "df2\n",
    "\n",
    "# univariate: one variable\n",
    "# multivariate: many variables"
   ]
  },
  {
   "cell_type": "code",
   "execution_count": 60,
   "metadata": {
    "colab": {
     "base_uri": "https://localhost:8080/",
     "height": 138
    },
    "colab_type": "code",
    "executionInfo": {
     "elapsed": 1114,
     "status": "ok",
     "timestamp": 1595569931225,
     "user": {
      "displayName": "YONG POH YU",
      "photoUrl": "https://lh3.googleusercontent.com/a-/AOh14Ggm8MLlDEFXwbBGZ_6JuVPq1RxXTXVK7REHsxrG=s64",
      "userId": "15844820659946946317"
     },
     "user_tz": -480
    },
    "id": "BxYtyHGwpXbO",
    "outputId": "b57a5cc6-20f1-4a66-f50d-0fe2512eeabb",
    "scrolled": true
   },
   "outputs": [
    {
     "data": {
      "text/plain": [
       "A           float64\n",
       "B    datetime64[ns]\n",
       "C           float32\n",
       "D             int32\n",
       "E          category\n",
       "F            object\n",
       "dtype: object"
      ]
     },
     "execution_count": 60,
     "metadata": {},
     "output_type": "execute_result"
    }
   ],
   "source": [
    "df2.dtypes"
   ]
  },
  {
   "cell_type": "markdown",
   "metadata": {
    "colab_type": "text",
    "id": "zdg5yVBMpXbS"
   },
   "source": [
    "### try:\n",
    "\n",
    "type df2. and then press tab\n"
   ]
  },
  {
   "cell_type": "code",
   "execution_count": 61,
   "metadata": {},
   "outputs": [
    {
     "data": {
      "text/html": [
       "<div>\n",
       "<style scoped>\n",
       "    .dataframe tbody tr th:only-of-type {\n",
       "        vertical-align: middle;\n",
       "    }\n",
       "\n",
       "    .dataframe tbody tr th {\n",
       "        vertical-align: top;\n",
       "    }\n",
       "\n",
       "    .dataframe thead th {\n",
       "        text-align: right;\n",
       "    }\n",
       "</style>\n",
       "<table border=\"1\" class=\"dataframe\">\n",
       "  <thead>\n",
       "    <tr style=\"text-align: right;\">\n",
       "      <th></th>\n",
       "      <th>A</th>\n",
       "      <th>B</th>\n",
       "      <th>C</th>\n",
       "      <th>D</th>\n",
       "      <th>E</th>\n",
       "      <th>F</th>\n",
       "    </tr>\n",
       "  </thead>\n",
       "  <tbody>\n",
       "    <tr>\n",
       "      <th>0</th>\n",
       "      <td>1.0</td>\n",
       "      <td>2013-01-02</td>\n",
       "      <td>1.0</td>\n",
       "      <td>3</td>\n",
       "      <td>test</td>\n",
       "      <td>foo</td>\n",
       "    </tr>\n",
       "    <tr>\n",
       "      <th>1</th>\n",
       "      <td>1.0</td>\n",
       "      <td>2013-01-02</td>\n",
       "      <td>1.0</td>\n",
       "      <td>3</td>\n",
       "      <td>train</td>\n",
       "      <td>foo</td>\n",
       "    </tr>\n",
       "    <tr>\n",
       "      <th>2</th>\n",
       "      <td>1.0</td>\n",
       "      <td>2013-01-02</td>\n",
       "      <td>1.0</td>\n",
       "      <td>3</td>\n",
       "      <td>test</td>\n",
       "      <td>foo</td>\n",
       "    </tr>\n",
       "    <tr>\n",
       "      <th>3</th>\n",
       "      <td>1.0</td>\n",
       "      <td>2013-01-02</td>\n",
       "      <td>1.0</td>\n",
       "      <td>3</td>\n",
       "      <td>train</td>\n",
       "      <td>foo</td>\n",
       "    </tr>\n",
       "  </tbody>\n",
       "</table>\n",
       "</div>"
      ],
      "text/plain": [
       "     A          B    C  D      E    F\n",
       "0  1.0 2013-01-02  1.0  3   test  foo\n",
       "1  1.0 2013-01-02  1.0  3  train  foo\n",
       "2  1.0 2013-01-02  1.0  3   test  foo\n",
       "3  1.0 2013-01-02  1.0  3  train  foo"
      ]
     },
     "execution_count": 61,
     "metadata": {},
     "output_type": "execute_result"
    }
   ],
   "source": [
    "df2"
   ]
  },
  {
   "cell_type": "code",
   "execution_count": 8,
   "metadata": {
    "colab": {
     "base_uri": "https://localhost:8080/",
     "height": 174
    },
    "colab_type": "code",
    "executionInfo": {
     "elapsed": 1172,
     "status": "ok",
     "timestamp": 1595570032554,
     "user": {
      "displayName": "YONG POH YU",
      "photoUrl": "https://lh3.googleusercontent.com/a-/AOh14Ggm8MLlDEFXwbBGZ_6JuVPq1RxXTXVK7REHsxrG=s64",
      "userId": "15844820659946946317"
     },
     "user_tz": -480
    },
    "id": "jXNdFViXpXbT",
    "outputId": "33abcb0a-c9c9-4cd7-aa4d-c750b66f191b"
   },
   "outputs": [
    {
     "data": {
      "text/html": [
       "<div>\n",
       "<style scoped>\n",
       "    .dataframe tbody tr th:only-of-type {\n",
       "        vertical-align: middle;\n",
       "    }\n",
       "\n",
       "    .dataframe tbody tr th {\n",
       "        vertical-align: top;\n",
       "    }\n",
       "\n",
       "    .dataframe thead th {\n",
       "        text-align: right;\n",
       "    }\n",
       "</style>\n",
       "<table border=\"1\" class=\"dataframe\">\n",
       "  <thead>\n",
       "    <tr style=\"text-align: right;\">\n",
       "      <th></th>\n",
       "      <th>A</th>\n",
       "      <th>B</th>\n",
       "      <th>C</th>\n",
       "      <th>D</th>\n",
       "      <th>E</th>\n",
       "      <th>F</th>\n",
       "    </tr>\n",
       "  </thead>\n",
       "  <tbody>\n",
       "    <tr>\n",
       "      <th>0</th>\n",
       "      <td>False</td>\n",
       "      <td>False</td>\n",
       "      <td>False</td>\n",
       "      <td>False</td>\n",
       "      <td>False</td>\n",
       "      <td>False</td>\n",
       "    </tr>\n",
       "    <tr>\n",
       "      <th>1</th>\n",
       "      <td>False</td>\n",
       "      <td>False</td>\n",
       "      <td>False</td>\n",
       "      <td>False</td>\n",
       "      <td>False</td>\n",
       "      <td>False</td>\n",
       "    </tr>\n",
       "    <tr>\n",
       "      <th>2</th>\n",
       "      <td>False</td>\n",
       "      <td>False</td>\n",
       "      <td>False</td>\n",
       "      <td>False</td>\n",
       "      <td>False</td>\n",
       "      <td>False</td>\n",
       "    </tr>\n",
       "    <tr>\n",
       "      <th>3</th>\n",
       "      <td>False</td>\n",
       "      <td>False</td>\n",
       "      <td>False</td>\n",
       "      <td>False</td>\n",
       "      <td>False</td>\n",
       "      <td>False</td>\n",
       "    </tr>\n",
       "  </tbody>\n",
       "</table>\n",
       "</div>"
      ],
      "text/plain": [
       "       A      B      C      D      E      F\n",
       "0  False  False  False  False  False  False\n",
       "1  False  False  False  False  False  False\n",
       "2  False  False  False  False  False  False\n",
       "3  False  False  False  False  False  False"
      ]
     },
     "execution_count": 8,
     "metadata": {
      "tags": []
     },
     "output_type": "execute_result"
    }
   ],
   "source": [
    "df2.isnull()"
   ]
  },
  {
   "cell_type": "markdown",
   "metadata": {
    "colab_type": "text",
    "id": "DFmylKttpXbY"
   },
   "source": [
    "### Viewing Data"
   ]
  },
  {
   "cell_type": "code",
   "execution_count": 62,
   "metadata": {},
   "outputs": [
    {
     "data": {
      "text/html": [
       "<div>\n",
       "<style scoped>\n",
       "    .dataframe tbody tr th:only-of-type {\n",
       "        vertical-align: middle;\n",
       "    }\n",
       "\n",
       "    .dataframe tbody tr th {\n",
       "        vertical-align: top;\n",
       "    }\n",
       "\n",
       "    .dataframe thead th {\n",
       "        text-align: right;\n",
       "    }\n",
       "</style>\n",
       "<table border=\"1\" class=\"dataframe\">\n",
       "  <thead>\n",
       "    <tr style=\"text-align: right;\">\n",
       "      <th></th>\n",
       "      <th>A</th>\n",
       "      <th>B</th>\n",
       "      <th>C</th>\n",
       "      <th>D</th>\n",
       "    </tr>\n",
       "  </thead>\n",
       "  <tbody>\n",
       "    <tr>\n",
       "      <th>2018-05-01</th>\n",
       "      <td>0.481016</td>\n",
       "      <td>1.675912</td>\n",
       "      <td>0.394839</td>\n",
       "      <td>-0.008451</td>\n",
       "    </tr>\n",
       "    <tr>\n",
       "      <th>2018-05-02</th>\n",
       "      <td>-0.545258</td>\n",
       "      <td>-0.056680</td>\n",
       "      <td>0.395455</td>\n",
       "      <td>-0.203042</td>\n",
       "    </tr>\n",
       "    <tr>\n",
       "      <th>2018-05-03</th>\n",
       "      <td>-1.181007</td>\n",
       "      <td>0.721598</td>\n",
       "      <td>-0.923762</td>\n",
       "      <td>2.203624</td>\n",
       "    </tr>\n",
       "    <tr>\n",
       "      <th>2018-05-04</th>\n",
       "      <td>0.111885</td>\n",
       "      <td>1.271961</td>\n",
       "      <td>0.256533</td>\n",
       "      <td>0.515110</td>\n",
       "    </tr>\n",
       "    <tr>\n",
       "      <th>2018-05-05</th>\n",
       "      <td>0.167895</td>\n",
       "      <td>0.053903</td>\n",
       "      <td>0.610575</td>\n",
       "      <td>-0.620919</td>\n",
       "    </tr>\n",
       "    <tr>\n",
       "      <th>2018-05-06</th>\n",
       "      <td>1.964214</td>\n",
       "      <td>0.347219</td>\n",
       "      <td>-1.981952</td>\n",
       "      <td>-0.264981</td>\n",
       "    </tr>\n",
       "  </tbody>\n",
       "</table>\n",
       "</div>"
      ],
      "text/plain": [
       "                   A         B         C         D\n",
       "2018-05-01  0.481016  1.675912  0.394839 -0.008451\n",
       "2018-05-02 -0.545258 -0.056680  0.395455 -0.203042\n",
       "2018-05-03 -1.181007  0.721598 -0.923762  2.203624\n",
       "2018-05-04  0.111885  1.271961  0.256533  0.515110\n",
       "2018-05-05  0.167895  0.053903  0.610575 -0.620919\n",
       "2018-05-06  1.964214  0.347219 -1.981952 -0.264981"
      ]
     },
     "execution_count": 62,
     "metadata": {},
     "output_type": "execute_result"
    }
   ],
   "source": [
    "df"
   ]
  },
  {
   "cell_type": "code",
   "execution_count": 10,
   "metadata": {
    "colab": {
     "base_uri": "https://localhost:8080/",
     "height": 206
    },
    "colab_type": "code",
    "executionInfo": {
     "elapsed": 1147,
     "status": "ok",
     "timestamp": 1595570085191,
     "user": {
      "displayName": "YONG POH YU",
      "photoUrl": "https://lh3.googleusercontent.com/a-/AOh14Ggm8MLlDEFXwbBGZ_6JuVPq1RxXTXVK7REHsxrG=s64",
      "userId": "15844820659946946317"
     },
     "user_tz": -480
    },
    "id": "2hO0MAsqpXbZ",
    "outputId": "9ddb8595-c405-4311-a432-26362b29f18a",
    "scrolled": false
   },
   "outputs": [
    {
     "data": {
      "text/html": [
       "<div>\n",
       "<style scoped>\n",
       "    .dataframe tbody tr th:only-of-type {\n",
       "        vertical-align: middle;\n",
       "    }\n",
       "\n",
       "    .dataframe tbody tr th {\n",
       "        vertical-align: top;\n",
       "    }\n",
       "\n",
       "    .dataframe thead th {\n",
       "        text-align: right;\n",
       "    }\n",
       "</style>\n",
       "<table border=\"1\" class=\"dataframe\">\n",
       "  <thead>\n",
       "    <tr style=\"text-align: right;\">\n",
       "      <th></th>\n",
       "      <th>A</th>\n",
       "      <th>B</th>\n",
       "      <th>C</th>\n",
       "      <th>D</th>\n",
       "    </tr>\n",
       "  </thead>\n",
       "  <tbody>\n",
       "    <tr>\n",
       "      <th>2018-05-01</th>\n",
       "      <td>-0.136816</td>\n",
       "      <td>1.053772</td>\n",
       "      <td>-1.080220</td>\n",
       "      <td>-0.891702</td>\n",
       "    </tr>\n",
       "    <tr>\n",
       "      <th>2018-05-02</th>\n",
       "      <td>0.307539</td>\n",
       "      <td>-0.604560</td>\n",
       "      <td>0.083288</td>\n",
       "      <td>-1.344013</td>\n",
       "    </tr>\n",
       "    <tr>\n",
       "      <th>2018-05-03</th>\n",
       "      <td>-0.258059</td>\n",
       "      <td>0.253438</td>\n",
       "      <td>-1.051720</td>\n",
       "      <td>1.580398</td>\n",
       "    </tr>\n",
       "    <tr>\n",
       "      <th>2018-05-04</th>\n",
       "      <td>-0.270000</td>\n",
       "      <td>-0.374987</td>\n",
       "      <td>0.093251</td>\n",
       "      <td>0.874281</td>\n",
       "    </tr>\n",
       "    <tr>\n",
       "      <th>2018-05-05</th>\n",
       "      <td>-1.296546</td>\n",
       "      <td>0.520760</td>\n",
       "      <td>-0.057945</td>\n",
       "      <td>-1.521722</td>\n",
       "    </tr>\n",
       "  </tbody>\n",
       "</table>\n",
       "</div>"
      ],
      "text/plain": [
       "                   A         B         C         D\n",
       "2018-05-01 -0.136816  1.053772 -1.080220 -0.891702\n",
       "2018-05-02  0.307539 -0.604560  0.083288 -1.344013\n",
       "2018-05-03 -0.258059  0.253438 -1.051720  1.580398\n",
       "2018-05-04 -0.270000 -0.374987  0.093251  0.874281\n",
       "2018-05-05 -1.296546  0.520760 -0.057945 -1.521722"
      ]
     },
     "execution_count": 10,
     "metadata": {
      "tags": []
     },
     "output_type": "execute_result"
    }
   ],
   "source": [
    "df.head() # 5 by default"
   ]
  },
  {
   "cell_type": "code",
   "execution_count": 63,
   "metadata": {},
   "outputs": [
    {
     "data": {
      "text/html": [
       "<div>\n",
       "<style scoped>\n",
       "    .dataframe tbody tr th:only-of-type {\n",
       "        vertical-align: middle;\n",
       "    }\n",
       "\n",
       "    .dataframe tbody tr th {\n",
       "        vertical-align: top;\n",
       "    }\n",
       "\n",
       "    .dataframe thead th {\n",
       "        text-align: right;\n",
       "    }\n",
       "</style>\n",
       "<table border=\"1\" class=\"dataframe\">\n",
       "  <thead>\n",
       "    <tr style=\"text-align: right;\">\n",
       "      <th></th>\n",
       "      <th>A</th>\n",
       "      <th>B</th>\n",
       "      <th>C</th>\n",
       "      <th>D</th>\n",
       "    </tr>\n",
       "  </thead>\n",
       "  <tbody>\n",
       "    <tr>\n",
       "      <th>2018-05-01</th>\n",
       "      <td>0.481016</td>\n",
       "      <td>1.675912</td>\n",
       "      <td>0.394839</td>\n",
       "      <td>-0.008451</td>\n",
       "    </tr>\n",
       "    <tr>\n",
       "      <th>2018-05-02</th>\n",
       "      <td>-0.545258</td>\n",
       "      <td>-0.056680</td>\n",
       "      <td>0.395455</td>\n",
       "      <td>-0.203042</td>\n",
       "    </tr>\n",
       "  </tbody>\n",
       "</table>\n",
       "</div>"
      ],
      "text/plain": [
       "                   A         B         C         D\n",
       "2018-05-01  0.481016  1.675912  0.394839 -0.008451\n",
       "2018-05-02 -0.545258 -0.056680  0.395455 -0.203042"
      ]
     },
     "execution_count": 63,
     "metadata": {},
     "output_type": "execute_result"
    }
   ],
   "source": [
    "df.head(2)"
   ]
  },
  {
   "cell_type": "code",
   "execution_count": 65,
   "metadata": {},
   "outputs": [
    {
     "data": {
      "text/html": [
       "<div>\n",
       "<style scoped>\n",
       "    .dataframe tbody tr th:only-of-type {\n",
       "        vertical-align: middle;\n",
       "    }\n",
       "\n",
       "    .dataframe tbody tr th {\n",
       "        vertical-align: top;\n",
       "    }\n",
       "\n",
       "    .dataframe thead th {\n",
       "        text-align: right;\n",
       "    }\n",
       "</style>\n",
       "<table border=\"1\" class=\"dataframe\">\n",
       "  <thead>\n",
       "    <tr style=\"text-align: right;\">\n",
       "      <th></th>\n",
       "      <th>A</th>\n",
       "      <th>B</th>\n",
       "      <th>C</th>\n",
       "      <th>D</th>\n",
       "    </tr>\n",
       "  </thead>\n",
       "  <tbody>\n",
       "    <tr>\n",
       "      <th>2018-05-02</th>\n",
       "      <td>-0.545258</td>\n",
       "      <td>-0.056680</td>\n",
       "      <td>0.395455</td>\n",
       "      <td>-0.203042</td>\n",
       "    </tr>\n",
       "    <tr>\n",
       "      <th>2018-05-03</th>\n",
       "      <td>-1.181007</td>\n",
       "      <td>0.721598</td>\n",
       "      <td>-0.923762</td>\n",
       "      <td>2.203624</td>\n",
       "    </tr>\n",
       "    <tr>\n",
       "      <th>2018-05-04</th>\n",
       "      <td>0.111885</td>\n",
       "      <td>1.271961</td>\n",
       "      <td>0.256533</td>\n",
       "      <td>0.515110</td>\n",
       "    </tr>\n",
       "    <tr>\n",
       "      <th>2018-05-05</th>\n",
       "      <td>0.167895</td>\n",
       "      <td>0.053903</td>\n",
       "      <td>0.610575</td>\n",
       "      <td>-0.620919</td>\n",
       "    </tr>\n",
       "    <tr>\n",
       "      <th>2018-05-06</th>\n",
       "      <td>1.964214</td>\n",
       "      <td>0.347219</td>\n",
       "      <td>-1.981952</td>\n",
       "      <td>-0.264981</td>\n",
       "    </tr>\n",
       "  </tbody>\n",
       "</table>\n",
       "</div>"
      ],
      "text/plain": [
       "                   A         B         C         D\n",
       "2018-05-02 -0.545258 -0.056680  0.395455 -0.203042\n",
       "2018-05-03 -1.181007  0.721598 -0.923762  2.203624\n",
       "2018-05-04  0.111885  1.271961  0.256533  0.515110\n",
       "2018-05-05  0.167895  0.053903  0.610575 -0.620919\n",
       "2018-05-06  1.964214  0.347219 -1.981952 -0.264981"
      ]
     },
     "execution_count": 65,
     "metadata": {},
     "output_type": "execute_result"
    }
   ],
   "source": [
    "df.tail()"
   ]
  },
  {
   "cell_type": "code",
   "execution_count": 64,
   "metadata": {
    "colab": {
     "base_uri": "https://localhost:8080/",
     "height": 112
    },
    "colab_type": "code",
    "executionInfo": {
     "elapsed": 1096,
     "status": "ok",
     "timestamp": 1595570099838,
     "user": {
      "displayName": "YONG POH YU",
      "photoUrl": "https://lh3.googleusercontent.com/a-/AOh14Ggm8MLlDEFXwbBGZ_6JuVPq1RxXTXVK7REHsxrG=s64",
      "userId": "15844820659946946317"
     },
     "user_tz": -480
    },
    "id": "Pxl0BRojpXbd",
    "outputId": "5c953659-bc4a-4b4b-8fe3-71e063909e9f",
    "scrolled": false
   },
   "outputs": [
    {
     "data": {
      "text/html": [
       "<div>\n",
       "<style scoped>\n",
       "    .dataframe tbody tr th:only-of-type {\n",
       "        vertical-align: middle;\n",
       "    }\n",
       "\n",
       "    .dataframe tbody tr th {\n",
       "        vertical-align: top;\n",
       "    }\n",
       "\n",
       "    .dataframe thead th {\n",
       "        text-align: right;\n",
       "    }\n",
       "</style>\n",
       "<table border=\"1\" class=\"dataframe\">\n",
       "  <thead>\n",
       "    <tr style=\"text-align: right;\">\n",
       "      <th></th>\n",
       "      <th>A</th>\n",
       "      <th>B</th>\n",
       "      <th>C</th>\n",
       "      <th>D</th>\n",
       "    </tr>\n",
       "  </thead>\n",
       "  <tbody>\n",
       "    <tr>\n",
       "      <th>2018-05-05</th>\n",
       "      <td>0.167895</td>\n",
       "      <td>0.053903</td>\n",
       "      <td>0.610575</td>\n",
       "      <td>-0.620919</td>\n",
       "    </tr>\n",
       "    <tr>\n",
       "      <th>2018-05-06</th>\n",
       "      <td>1.964214</td>\n",
       "      <td>0.347219</td>\n",
       "      <td>-1.981952</td>\n",
       "      <td>-0.264981</td>\n",
       "    </tr>\n",
       "  </tbody>\n",
       "</table>\n",
       "</div>"
      ],
      "text/plain": [
       "                   A         B         C         D\n",
       "2018-05-05  0.167895  0.053903  0.610575 -0.620919\n",
       "2018-05-06  1.964214  0.347219 -1.981952 -0.264981"
      ]
     },
     "execution_count": 64,
     "metadata": {},
     "output_type": "execute_result"
    }
   ],
   "source": [
    "df.tail(2)"
   ]
  },
  {
   "cell_type": "code",
   "execution_count": 66,
   "metadata": {
    "colab": {
     "base_uri": "https://localhost:8080/",
     "height": 34
    },
    "colab_type": "code",
    "executionInfo": {
     "elapsed": 1152,
     "status": "ok",
     "timestamp": 1595570125289,
     "user": {
      "displayName": "YONG POH YU",
      "photoUrl": "https://lh3.googleusercontent.com/a-/AOh14Ggm8MLlDEFXwbBGZ_6JuVPq1RxXTXVK7REHsxrG=s64",
      "userId": "15844820659946946317"
     },
     "user_tz": -480
    },
    "id": "b-HG5aOGpXbg",
    "outputId": "75cc4ef4-9aa2-4863-999b-812c4453ac15"
   },
   "outputs": [
    {
     "data": {
      "text/plain": [
       "Index(['A', 'B', 'C', 'D'], dtype='object')"
      ]
     },
     "execution_count": 66,
     "metadata": {},
     "output_type": "execute_result"
    }
   ],
   "source": [
    "df.columns"
   ]
  },
  {
   "cell_type": "markdown",
   "metadata": {
    "colab_type": "text",
    "id": "aoc9ZBcQpXbi"
   },
   "source": [
    "### data aggregation"
   ]
  },
  {
   "cell_type": "code",
   "execution_count": 67,
   "metadata": {
    "colab": {
     "base_uri": "https://localhost:8080/",
     "height": 300
    },
    "colab_type": "code",
    "executionInfo": {
     "elapsed": 1101,
     "status": "ok",
     "timestamp": 1595570155545,
     "user": {
      "displayName": "YONG POH YU",
      "photoUrl": "https://lh3.googleusercontent.com/a-/AOh14Ggm8MLlDEFXwbBGZ_6JuVPq1RxXTXVK7REHsxrG=s64",
      "userId": "15844820659946946317"
     },
     "user_tz": -480
    },
    "id": "n7-lGs_VpXbj",
    "outputId": "fda41395-ff99-44ed-8922-99d19471cf63",
    "scrolled": true
   },
   "outputs": [
    {
     "data": {
      "text/html": [
       "<div>\n",
       "<style scoped>\n",
       "    .dataframe tbody tr th:only-of-type {\n",
       "        vertical-align: middle;\n",
       "    }\n",
       "\n",
       "    .dataframe tbody tr th {\n",
       "        vertical-align: top;\n",
       "    }\n",
       "\n",
       "    .dataframe thead th {\n",
       "        text-align: right;\n",
       "    }\n",
       "</style>\n",
       "<table border=\"1\" class=\"dataframe\">\n",
       "  <thead>\n",
       "    <tr style=\"text-align: right;\">\n",
       "      <th></th>\n",
       "      <th>A</th>\n",
       "      <th>B</th>\n",
       "      <th>C</th>\n",
       "      <th>D</th>\n",
       "    </tr>\n",
       "  </thead>\n",
       "  <tbody>\n",
       "    <tr>\n",
       "      <th>count</th>\n",
       "      <td>6.000000</td>\n",
       "      <td>6.000000</td>\n",
       "      <td>6.000000</td>\n",
       "      <td>6.000000</td>\n",
       "    </tr>\n",
       "    <tr>\n",
       "      <th>mean</th>\n",
       "      <td>0.166457</td>\n",
       "      <td>0.668985</td>\n",
       "      <td>-0.208052</td>\n",
       "      <td>0.270223</td>\n",
       "    </tr>\n",
       "    <tr>\n",
       "      <th>std</th>\n",
       "      <td>1.063584</td>\n",
       "      <td>0.691187</td>\n",
       "      <td>1.026903</td>\n",
       "      <td>1.017863</td>\n",
       "    </tr>\n",
       "    <tr>\n",
       "      <th>min</th>\n",
       "      <td>-1.181007</td>\n",
       "      <td>-0.056680</td>\n",
       "      <td>-1.981952</td>\n",
       "      <td>-0.620919</td>\n",
       "    </tr>\n",
       "    <tr>\n",
       "      <th>25%</th>\n",
       "      <td>-0.380973</td>\n",
       "      <td>0.127232</td>\n",
       "      <td>-0.628688</td>\n",
       "      <td>-0.249496</td>\n",
       "    </tr>\n",
       "    <tr>\n",
       "      <th>50%</th>\n",
       "      <td>0.139890</td>\n",
       "      <td>0.534408</td>\n",
       "      <td>0.325686</td>\n",
       "      <td>-0.105747</td>\n",
       "    </tr>\n",
       "    <tr>\n",
       "      <th>75%</th>\n",
       "      <td>0.402736</td>\n",
       "      <td>1.134370</td>\n",
       "      <td>0.395301</td>\n",
       "      <td>0.384220</td>\n",
       "    </tr>\n",
       "    <tr>\n",
       "      <th>max</th>\n",
       "      <td>1.964214</td>\n",
       "      <td>1.675912</td>\n",
       "      <td>0.610575</td>\n",
       "      <td>2.203624</td>\n",
       "    </tr>\n",
       "  </tbody>\n",
       "</table>\n",
       "</div>"
      ],
      "text/plain": [
       "              A         B         C         D\n",
       "count  6.000000  6.000000  6.000000  6.000000\n",
       "mean   0.166457  0.668985 -0.208052  0.270223\n",
       "std    1.063584  0.691187  1.026903  1.017863\n",
       "min   -1.181007 -0.056680 -1.981952 -0.620919\n",
       "25%   -0.380973  0.127232 -0.628688 -0.249496\n",
       "50%    0.139890  0.534408  0.325686 -0.105747\n",
       "75%    0.402736  1.134370  0.395301  0.384220\n",
       "max    1.964214  1.675912  0.610575  2.203624"
      ]
     },
     "execution_count": 67,
     "metadata": {},
     "output_type": "execute_result"
    }
   ],
   "source": [
    "df.describe()\n",
    "\n",
    "# normal distribution mean is 0, std is 1\n",
    "# real life data has different mean & std, that's why we have to know to preprocess it.\n",
    "# to determine outliers, to replace missing values, etc."
   ]
  },
  {
   "cell_type": "markdown",
   "metadata": {
    "colab_type": "text",
    "id": "oI6WmxEGpXbn"
   },
   "source": [
    "### Transpose your data"
   ]
  },
  {
   "cell_type": "code",
   "execution_count": 68,
   "metadata": {
    "colab": {
     "base_uri": "https://localhost:8080/",
     "height": 174
    },
    "colab_type": "code",
    "executionInfo": {
     "elapsed": 1113,
     "status": "ok",
     "timestamp": 1595570616865,
     "user": {
      "displayName": "YONG POH YU",
      "photoUrl": "https://lh3.googleusercontent.com/a-/AOh14Ggm8MLlDEFXwbBGZ_6JuVPq1RxXTXVK7REHsxrG=s64",
      "userId": "15844820659946946317"
     },
     "user_tz": -480
    },
    "id": "AEYkJ55ZpXbo",
    "outputId": "41d93e46-2a31-4965-a97a-c930638eb8b8",
    "scrolled": true
   },
   "outputs": [
    {
     "data": {
      "text/html": [
       "<div>\n",
       "<style scoped>\n",
       "    .dataframe tbody tr th:only-of-type {\n",
       "        vertical-align: middle;\n",
       "    }\n",
       "\n",
       "    .dataframe tbody tr th {\n",
       "        vertical-align: top;\n",
       "    }\n",
       "\n",
       "    .dataframe thead th {\n",
       "        text-align: right;\n",
       "    }\n",
       "</style>\n",
       "<table border=\"1\" class=\"dataframe\">\n",
       "  <thead>\n",
       "    <tr style=\"text-align: right;\">\n",
       "      <th></th>\n",
       "      <th>2018-05-01</th>\n",
       "      <th>2018-05-02</th>\n",
       "      <th>2018-05-03</th>\n",
       "      <th>2018-05-04</th>\n",
       "      <th>2018-05-05</th>\n",
       "      <th>2018-05-06</th>\n",
       "    </tr>\n",
       "  </thead>\n",
       "  <tbody>\n",
       "    <tr>\n",
       "      <th>A</th>\n",
       "      <td>0.481016</td>\n",
       "      <td>-0.545258</td>\n",
       "      <td>-1.181007</td>\n",
       "      <td>0.111885</td>\n",
       "      <td>0.167895</td>\n",
       "      <td>1.964214</td>\n",
       "    </tr>\n",
       "    <tr>\n",
       "      <th>B</th>\n",
       "      <td>1.675912</td>\n",
       "      <td>-0.056680</td>\n",
       "      <td>0.721598</td>\n",
       "      <td>1.271961</td>\n",
       "      <td>0.053903</td>\n",
       "      <td>0.347219</td>\n",
       "    </tr>\n",
       "    <tr>\n",
       "      <th>C</th>\n",
       "      <td>0.394839</td>\n",
       "      <td>0.395455</td>\n",
       "      <td>-0.923762</td>\n",
       "      <td>0.256533</td>\n",
       "      <td>0.610575</td>\n",
       "      <td>-1.981952</td>\n",
       "    </tr>\n",
       "    <tr>\n",
       "      <th>D</th>\n",
       "      <td>-0.008451</td>\n",
       "      <td>-0.203042</td>\n",
       "      <td>2.203624</td>\n",
       "      <td>0.515110</td>\n",
       "      <td>-0.620919</td>\n",
       "      <td>-0.264981</td>\n",
       "    </tr>\n",
       "  </tbody>\n",
       "</table>\n",
       "</div>"
      ],
      "text/plain": [
       "   2018-05-01  2018-05-02  2018-05-03  2018-05-04  2018-05-05  2018-05-06\n",
       "A    0.481016   -0.545258   -1.181007    0.111885    0.167895    1.964214\n",
       "B    1.675912   -0.056680    0.721598    1.271961    0.053903    0.347219\n",
       "C    0.394839    0.395455   -0.923762    0.256533    0.610575   -1.981952\n",
       "D   -0.008451   -0.203042    2.203624    0.515110   -0.620919   -0.264981"
      ]
     },
     "execution_count": 68,
     "metadata": {},
     "output_type": "execute_result"
    }
   ],
   "source": [
    "df.T"
   ]
  },
  {
   "cell_type": "code",
   "execution_count": 69,
   "metadata": {
    "colab": {
     "base_uri": "https://localhost:8080/",
     "height": 138
    },
    "colab_type": "code",
    "executionInfo": {
     "elapsed": 1280,
     "status": "ok",
     "timestamp": 1595570623700,
     "user": {
      "displayName": "YONG POH YU",
      "photoUrl": "https://lh3.googleusercontent.com/a-/AOh14Ggm8MLlDEFXwbBGZ_6JuVPq1RxXTXVK7REHsxrG=s64",
      "userId": "15844820659946946317"
     },
     "user_tz": -480
    },
    "id": "s3dQDZmcogwc",
    "outputId": "569f09cb-32f4-4ba8-c6ce-8cb356413de1"
   },
   "outputs": [
    {
     "data": {
      "text/plain": [
       "2018-05-01    0.394839\n",
       "2018-05-02    0.395455\n",
       "2018-05-03   -0.923762\n",
       "2018-05-04    0.256533\n",
       "2018-05-05    0.610575\n",
       "2018-05-06   -1.981952\n",
       "Freq: D, Name: C, dtype: float64"
      ]
     },
     "execution_count": 69,
     "metadata": {},
     "output_type": "execute_result"
    }
   ],
   "source": [
    "df['C']"
   ]
  },
  {
   "cell_type": "code",
   "execution_count": 70,
   "metadata": {
    "colab": {
     "base_uri": "https://localhost:8080/",
     "height": 138
    },
    "colab_type": "code",
    "executionInfo": {
     "elapsed": 1148,
     "status": "ok",
     "timestamp": 1595570634511,
     "user": {
      "displayName": "YONG POH YU",
      "photoUrl": "https://lh3.googleusercontent.com/a-/AOh14Ggm8MLlDEFXwbBGZ_6JuVPq1RxXTXVK7REHsxrG=s64",
      "userId": "15844820659946946317"
     },
     "user_tz": -480
    },
    "id": "mGYhWqtt5d_Y",
    "outputId": "cdb6ecc6-ee14-411c-9b2e-7c922f03fe4f"
   },
   "outputs": [
    {
     "data": {
      "text/plain": [
       "2018-05-01    0.394839\n",
       "2018-05-02    0.395455\n",
       "2018-05-03   -0.923762\n",
       "2018-05-04    0.256533\n",
       "2018-05-05    0.610575\n",
       "2018-05-06   -1.981952\n",
       "Freq: D, Name: C, dtype: float64"
      ]
     },
     "execution_count": 70,
     "metadata": {},
     "output_type": "execute_result"
    }
   ],
   "source": [
    "df.C"
   ]
  },
  {
   "cell_type": "markdown",
   "metadata": {
    "colab_type": "text",
    "id": "2gTyK6sDpXbr"
   },
   "source": [
    "### Sorting by an axis"
   ]
  },
  {
   "cell_type": "code",
   "execution_count": 76,
   "metadata": {
    "colab": {
     "base_uri": "https://localhost:8080/",
     "height": 237
    },
    "colab_type": "code",
    "executionInfo": {
     "elapsed": 1165,
     "status": "ok",
     "timestamp": 1595570761168,
     "user": {
      "displayName": "YONG POH YU",
      "photoUrl": "https://lh3.googleusercontent.com/a-/AOh14Ggm8MLlDEFXwbBGZ_6JuVPq1RxXTXVK7REHsxrG=s64",
      "userId": "15844820659946946317"
     },
     "user_tz": -480
    },
    "id": "yufszZMEpXbs",
    "outputId": "d8296671-8ad4-4048-a25a-d9addd8cc30b",
    "scrolled": false
   },
   "outputs": [
    {
     "data": {
      "text/html": [
       "<div>\n",
       "<style scoped>\n",
       "    .dataframe tbody tr th:only-of-type {\n",
       "        vertical-align: middle;\n",
       "    }\n",
       "\n",
       "    .dataframe tbody tr th {\n",
       "        vertical-align: top;\n",
       "    }\n",
       "\n",
       "    .dataframe thead th {\n",
       "        text-align: right;\n",
       "    }\n",
       "</style>\n",
       "<table border=\"1\" class=\"dataframe\">\n",
       "  <thead>\n",
       "    <tr style=\"text-align: right;\">\n",
       "      <th></th>\n",
       "      <th>D</th>\n",
       "      <th>C</th>\n",
       "      <th>B</th>\n",
       "      <th>A</th>\n",
       "    </tr>\n",
       "  </thead>\n",
       "  <tbody>\n",
       "    <tr>\n",
       "      <th>2018-05-01</th>\n",
       "      <td>-0.008451</td>\n",
       "      <td>0.394839</td>\n",
       "      <td>1.675912</td>\n",
       "      <td>0.481016</td>\n",
       "    </tr>\n",
       "    <tr>\n",
       "      <th>2018-05-02</th>\n",
       "      <td>-0.203042</td>\n",
       "      <td>0.395455</td>\n",
       "      <td>-0.056680</td>\n",
       "      <td>-0.545258</td>\n",
       "    </tr>\n",
       "    <tr>\n",
       "      <th>2018-05-03</th>\n",
       "      <td>2.203624</td>\n",
       "      <td>-0.923762</td>\n",
       "      <td>0.721598</td>\n",
       "      <td>-1.181007</td>\n",
       "    </tr>\n",
       "    <tr>\n",
       "      <th>2018-05-04</th>\n",
       "      <td>0.515110</td>\n",
       "      <td>0.256533</td>\n",
       "      <td>1.271961</td>\n",
       "      <td>0.111885</td>\n",
       "    </tr>\n",
       "    <tr>\n",
       "      <th>2018-05-05</th>\n",
       "      <td>-0.620919</td>\n",
       "      <td>0.610575</td>\n",
       "      <td>0.053903</td>\n",
       "      <td>0.167895</td>\n",
       "    </tr>\n",
       "    <tr>\n",
       "      <th>2018-05-06</th>\n",
       "      <td>-0.264981</td>\n",
       "      <td>-1.981952</td>\n",
       "      <td>0.347219</td>\n",
       "      <td>1.964214</td>\n",
       "    </tr>\n",
       "  </tbody>\n",
       "</table>\n",
       "</div>"
      ],
      "text/plain": [
       "                   D         C         B         A\n",
       "2018-05-01 -0.008451  0.394839  1.675912  0.481016\n",
       "2018-05-02 -0.203042  0.395455 -0.056680 -0.545258\n",
       "2018-05-03  2.203624 -0.923762  0.721598 -1.181007\n",
       "2018-05-04  0.515110  0.256533  1.271961  0.111885\n",
       "2018-05-05 -0.620919  0.610575  0.053903  0.167895\n",
       "2018-05-06 -0.264981 -1.981952  0.347219  1.964214"
      ]
     },
     "execution_count": 76,
     "metadata": {},
     "output_type": "execute_result"
    }
   ],
   "source": [
    "# axis 0 = row, 1= \n",
    "df.sort_index(axis=1, ascending=False)"
   ]
  },
  {
   "cell_type": "code",
   "execution_count": 77,
   "metadata": {
    "scrolled": false
   },
   "outputs": [
    {
     "data": {
      "text/html": [
       "<div>\n",
       "<style scoped>\n",
       "    .dataframe tbody tr th:only-of-type {\n",
       "        vertical-align: middle;\n",
       "    }\n",
       "\n",
       "    .dataframe tbody tr th {\n",
       "        vertical-align: top;\n",
       "    }\n",
       "\n",
       "    .dataframe thead th {\n",
       "        text-align: right;\n",
       "    }\n",
       "</style>\n",
       "<table border=\"1\" class=\"dataframe\">\n",
       "  <thead>\n",
       "    <tr style=\"text-align: right;\">\n",
       "      <th></th>\n",
       "      <th>A</th>\n",
       "      <th>B</th>\n",
       "      <th>C</th>\n",
       "      <th>D</th>\n",
       "    </tr>\n",
       "  </thead>\n",
       "  <tbody>\n",
       "    <tr>\n",
       "      <th>2018-05-01</th>\n",
       "      <td>0.481016</td>\n",
       "      <td>1.675912</td>\n",
       "      <td>0.394839</td>\n",
       "      <td>-0.008451</td>\n",
       "    </tr>\n",
       "    <tr>\n",
       "      <th>2018-05-02</th>\n",
       "      <td>-0.545258</td>\n",
       "      <td>-0.056680</td>\n",
       "      <td>0.395455</td>\n",
       "      <td>-0.203042</td>\n",
       "    </tr>\n",
       "    <tr>\n",
       "      <th>2018-05-03</th>\n",
       "      <td>-1.181007</td>\n",
       "      <td>0.721598</td>\n",
       "      <td>-0.923762</td>\n",
       "      <td>2.203624</td>\n",
       "    </tr>\n",
       "    <tr>\n",
       "      <th>2018-05-04</th>\n",
       "      <td>0.111885</td>\n",
       "      <td>1.271961</td>\n",
       "      <td>0.256533</td>\n",
       "      <td>0.515110</td>\n",
       "    </tr>\n",
       "    <tr>\n",
       "      <th>2018-05-05</th>\n",
       "      <td>0.167895</td>\n",
       "      <td>0.053903</td>\n",
       "      <td>0.610575</td>\n",
       "      <td>-0.620919</td>\n",
       "    </tr>\n",
       "    <tr>\n",
       "      <th>2018-05-06</th>\n",
       "      <td>1.964214</td>\n",
       "      <td>0.347219</td>\n",
       "      <td>-1.981952</td>\n",
       "      <td>-0.264981</td>\n",
       "    </tr>\n",
       "  </tbody>\n",
       "</table>\n",
       "</div>"
      ],
      "text/plain": [
       "                   A         B         C         D\n",
       "2018-05-01  0.481016  1.675912  0.394839 -0.008451\n",
       "2018-05-02 -0.545258 -0.056680  0.395455 -0.203042\n",
       "2018-05-03 -1.181007  0.721598 -0.923762  2.203624\n",
       "2018-05-04  0.111885  1.271961  0.256533  0.515110\n",
       "2018-05-05  0.167895  0.053903  0.610575 -0.620919\n",
       "2018-05-06  1.964214  0.347219 -1.981952 -0.264981"
      ]
     },
     "execution_count": 77,
     "metadata": {},
     "output_type": "execute_result"
    }
   ],
   "source": [
    "df.sort_index(axis=1, ascending=True)"
   ]
  },
  {
   "cell_type": "code",
   "execution_count": 78,
   "metadata": {},
   "outputs": [
    {
     "data": {
      "text/html": [
       "<div>\n",
       "<style scoped>\n",
       "    .dataframe tbody tr th:only-of-type {\n",
       "        vertical-align: middle;\n",
       "    }\n",
       "\n",
       "    .dataframe tbody tr th {\n",
       "        vertical-align: top;\n",
       "    }\n",
       "\n",
       "    .dataframe thead th {\n",
       "        text-align: right;\n",
       "    }\n",
       "</style>\n",
       "<table border=\"1\" class=\"dataframe\">\n",
       "  <thead>\n",
       "    <tr style=\"text-align: right;\">\n",
       "      <th></th>\n",
       "      <th>A</th>\n",
       "      <th>B</th>\n",
       "      <th>C</th>\n",
       "      <th>D</th>\n",
       "    </tr>\n",
       "  </thead>\n",
       "  <tbody>\n",
       "    <tr>\n",
       "      <th>2018-05-06</th>\n",
       "      <td>1.964214</td>\n",
       "      <td>0.347219</td>\n",
       "      <td>-1.981952</td>\n",
       "      <td>-0.264981</td>\n",
       "    </tr>\n",
       "    <tr>\n",
       "      <th>2018-05-05</th>\n",
       "      <td>0.167895</td>\n",
       "      <td>0.053903</td>\n",
       "      <td>0.610575</td>\n",
       "      <td>-0.620919</td>\n",
       "    </tr>\n",
       "    <tr>\n",
       "      <th>2018-05-04</th>\n",
       "      <td>0.111885</td>\n",
       "      <td>1.271961</td>\n",
       "      <td>0.256533</td>\n",
       "      <td>0.515110</td>\n",
       "    </tr>\n",
       "    <tr>\n",
       "      <th>2018-05-03</th>\n",
       "      <td>-1.181007</td>\n",
       "      <td>0.721598</td>\n",
       "      <td>-0.923762</td>\n",
       "      <td>2.203624</td>\n",
       "    </tr>\n",
       "    <tr>\n",
       "      <th>2018-05-02</th>\n",
       "      <td>-0.545258</td>\n",
       "      <td>-0.056680</td>\n",
       "      <td>0.395455</td>\n",
       "      <td>-0.203042</td>\n",
       "    </tr>\n",
       "    <tr>\n",
       "      <th>2018-05-01</th>\n",
       "      <td>0.481016</td>\n",
       "      <td>1.675912</td>\n",
       "      <td>0.394839</td>\n",
       "      <td>-0.008451</td>\n",
       "    </tr>\n",
       "  </tbody>\n",
       "</table>\n",
       "</div>"
      ],
      "text/plain": [
       "                   A         B         C         D\n",
       "2018-05-06  1.964214  0.347219 -1.981952 -0.264981\n",
       "2018-05-05  0.167895  0.053903  0.610575 -0.620919\n",
       "2018-05-04  0.111885  1.271961  0.256533  0.515110\n",
       "2018-05-03 -1.181007  0.721598 -0.923762  2.203624\n",
       "2018-05-02 -0.545258 -0.056680  0.395455 -0.203042\n",
       "2018-05-01  0.481016  1.675912  0.394839 -0.008451"
      ]
     },
     "execution_count": 78,
     "metadata": {},
     "output_type": "execute_result"
    }
   ],
   "source": [
    "df.sort_index(axis=0, ascending=False)"
   ]
  },
  {
   "cell_type": "code",
   "execution_count": 79,
   "metadata": {
    "colab": {
     "base_uri": "https://localhost:8080/",
     "height": 139
    },
    "colab_type": "code",
    "executionInfo": {
     "elapsed": 873,
     "status": "ok",
     "timestamp": 1594945998651,
     "user": {
      "displayName": "YONG POH YU",
      "photoUrl": "https://lh3.googleusercontent.com/a-/AOh14Ggm8MLlDEFXwbBGZ_6JuVPq1RxXTXVK7REHsxrG=s64",
      "userId": "15844820659946946317"
     },
     "user_tz": -480
    },
    "id": "lLOajPN3oXMq",
    "outputId": "3af9cd54-0558-4e80-d2f2-b267aa83c7ea",
    "scrolled": false
   },
   "outputs": [
    {
     "data": {
      "text/plain": [
       "2018-05-01    0.481016\n",
       "2018-05-02   -0.545258\n",
       "2018-05-03   -1.181007\n",
       "2018-05-04    0.111885\n",
       "2018-05-05    0.167895\n",
       "2018-05-06    1.964214\n",
       "Freq: D, Name: A, dtype: float64"
      ]
     },
     "execution_count": 79,
     "metadata": {},
     "output_type": "execute_result"
    }
   ],
   "source": [
    "df.A"
   ]
  },
  {
   "cell_type": "markdown",
   "metadata": {
    "colab_type": "text",
    "id": "2s3MQKDCpXbx"
   },
   "source": [
    "### indexing and selecting data"
   ]
  },
  {
   "cell_type": "code",
   "execution_count": 80,
   "metadata": {
    "colab": {
     "base_uri": "https://localhost:8080/",
     "height": 300
    },
    "colab_type": "code",
    "executionInfo": {
     "elapsed": 1117,
     "status": "ok",
     "timestamp": 1595570790377,
     "user": {
      "displayName": "YONG POH YU",
      "photoUrl": "https://lh3.googleusercontent.com/a-/AOh14Ggm8MLlDEFXwbBGZ_6JuVPq1RxXTXVK7REHsxrG=s64",
      "userId": "15844820659946946317"
     },
     "user_tz": -480
    },
    "id": "TpSxejqQpXby",
    "outputId": "f9a658e0-3b54-4577-a9f3-e15a539a7058",
    "scrolled": true
   },
   "outputs": [
    {
     "data": {
      "text/html": [
       "<div>\n",
       "<style scoped>\n",
       "    .dataframe tbody tr th:only-of-type {\n",
       "        vertical-align: middle;\n",
       "    }\n",
       "\n",
       "    .dataframe tbody tr th {\n",
       "        vertical-align: top;\n",
       "    }\n",
       "\n",
       "    .dataframe thead th {\n",
       "        text-align: right;\n",
       "    }\n",
       "</style>\n",
       "<table border=\"1\" class=\"dataframe\">\n",
       "  <thead>\n",
       "    <tr style=\"text-align: right;\">\n",
       "      <th></th>\n",
       "      <th>A</th>\n",
       "      <th>B</th>\n",
       "      <th>C</th>\n",
       "      <th>D</th>\n",
       "    </tr>\n",
       "  </thead>\n",
       "  <tbody>\n",
       "    <tr>\n",
       "      <th>2018-01-05</th>\n",
       "      <td>-0.088858</td>\n",
       "      <td>-0.857487</td>\n",
       "      <td>1.359689</td>\n",
       "      <td>1.956336</td>\n",
       "    </tr>\n",
       "    <tr>\n",
       "      <th>2018-01-06</th>\n",
       "      <td>0.268845</td>\n",
       "      <td>0.409558</td>\n",
       "      <td>-2.261308</td>\n",
       "      <td>-1.286898</td>\n",
       "    </tr>\n",
       "    <tr>\n",
       "      <th>2018-01-07</th>\n",
       "      <td>0.588360</td>\n",
       "      <td>-0.636477</td>\n",
       "      <td>1.424968</td>\n",
       "      <td>-0.280422</td>\n",
       "    </tr>\n",
       "    <tr>\n",
       "      <th>2018-01-08</th>\n",
       "      <td>-0.410388</td>\n",
       "      <td>0.308866</td>\n",
       "      <td>-1.271197</td>\n",
       "      <td>-1.364545</td>\n",
       "    </tr>\n",
       "    <tr>\n",
       "      <th>2018-01-09</th>\n",
       "      <td>-0.601875</td>\n",
       "      <td>0.781629</td>\n",
       "      <td>-0.101454</td>\n",
       "      <td>0.217445</td>\n",
       "    </tr>\n",
       "    <tr>\n",
       "      <th>2018-01-10</th>\n",
       "      <td>0.135019</td>\n",
       "      <td>-0.747559</td>\n",
       "      <td>-0.464753</td>\n",
       "      <td>-0.744558</td>\n",
       "    </tr>\n",
       "    <tr>\n",
       "      <th>2018-01-11</th>\n",
       "      <td>-1.483728</td>\n",
       "      <td>0.029730</td>\n",
       "      <td>0.790363</td>\n",
       "      <td>0.509447</td>\n",
       "    </tr>\n",
       "    <tr>\n",
       "      <th>2018-01-12</th>\n",
       "      <td>-0.803079</td>\n",
       "      <td>0.174203</td>\n",
       "      <td>0.295298</td>\n",
       "      <td>1.389892</td>\n",
       "    </tr>\n",
       "  </tbody>\n",
       "</table>\n",
       "</div>"
      ],
      "text/plain": [
       "                   A         B         C         D\n",
       "2018-01-05 -0.088858 -0.857487  1.359689  1.956336\n",
       "2018-01-06  0.268845  0.409558 -2.261308 -1.286898\n",
       "2018-01-07  0.588360 -0.636477  1.424968 -0.280422\n",
       "2018-01-08 -0.410388  0.308866 -1.271197 -1.364545\n",
       "2018-01-09 -0.601875  0.781629 -0.101454  0.217445\n",
       "2018-01-10  0.135019 -0.747559 -0.464753 -0.744558\n",
       "2018-01-11 -1.483728  0.029730  0.790363  0.509447\n",
       "2018-01-12 -0.803079  0.174203  0.295298  1.389892"
      ]
     },
     "execution_count": 80,
     "metadata": {},
     "output_type": "execute_result"
    }
   ],
   "source": [
    "dates = pd.date_range('1/5/2018', periods=8)\n",
    "df3 = pd.DataFrame(np.random.randn(8, 4), index=dates, columns=['A', 'B', 'C', 'D'])\n",
    "df3"
   ]
  },
  {
   "cell_type": "code",
   "execution_count": 81,
   "metadata": {
    "colab": {
     "base_uri": "https://localhost:8080/",
     "height": 173
    },
    "colab_type": "code",
    "executionInfo": {
     "elapsed": 1419,
     "status": "ok",
     "timestamp": 1595570850725,
     "user": {
      "displayName": "YONG POH YU",
      "photoUrl": "https://lh3.googleusercontent.com/a-/AOh14Ggm8MLlDEFXwbBGZ_6JuVPq1RxXTXVK7REHsxrG=s64",
      "userId": "15844820659946946317"
     },
     "user_tz": -480
    },
    "id": "R1kP64EUpXb1",
    "outputId": "e57e6858-b2d7-49bd-c4d6-bb9e7f602cb7",
    "scrolled": true
   },
   "outputs": [
    {
     "data": {
      "text/plain": [
       "2018-01-05   -0.088858\n",
       "2018-01-06    0.268845\n",
       "2018-01-07    0.588360\n",
       "2018-01-08   -0.410388\n",
       "2018-01-09   -0.601875\n",
       "2018-01-10    0.135019\n",
       "2018-01-11   -1.483728\n",
       "2018-01-12   -0.803079\n",
       "Freq: D, Name: A, dtype: float64"
      ]
     },
     "execution_count": 81,
     "metadata": {},
     "output_type": "execute_result"
    }
   ],
   "source": [
    "s = df3['A']\n",
    "s"
   ]
  },
  {
   "cell_type": "code",
   "execution_count": 82,
   "metadata": {
    "colab": {
     "base_uri": "https://localhost:8080/",
     "height": 34
    },
    "colab_type": "code",
    "executionInfo": {
     "elapsed": 1145,
     "status": "ok",
     "timestamp": 1595570869089,
     "user": {
      "displayName": "YONG POH YU",
      "photoUrl": "https://lh3.googleusercontent.com/a-/AOh14Ggm8MLlDEFXwbBGZ_6JuVPq1RxXTXVK7REHsxrG=s64",
      "userId": "15844820659946946317"
     },
     "user_tz": -480
    },
    "id": "qnfP-LtMpXb4",
    "outputId": "101ee6f8-f067-49cf-8cb8-954c6e8db4d6"
   },
   "outputs": [
    {
     "data": {
      "text/plain": [
       "0.13501887766293552"
      ]
     },
     "execution_count": 82,
     "metadata": {},
     "output_type": "execute_result"
    }
   ],
   "source": [
    "s[dates[5]]"
   ]
  },
  {
   "cell_type": "markdown",
   "metadata": {},
   "source": [
    "### Note:\n",
    "\n",
    "loc: selection by label\n",
    "\n",
    "iloc: selection by position (location/index)"
   ]
  },
  {
   "cell_type": "code",
   "execution_count": 84,
   "metadata": {
    "colab": {
     "base_uri": "https://localhost:8080/",
     "height": 103
    },
    "colab_type": "code",
    "executionInfo": {
     "elapsed": 1087,
     "status": "ok",
     "timestamp": 1595570987082,
     "user": {
      "displayName": "YONG POH YU",
      "photoUrl": "https://lh3.googleusercontent.com/a-/AOh14Ggm8MLlDEFXwbBGZ_6JuVPq1RxXTXVK7REHsxrG=s64",
      "userId": "15844820659946946317"
     },
     "user_tz": -480
    },
    "id": "LJR8avYbpXb9",
    "outputId": "9178c890-60dd-4386-cce3-176b2affdde2",
    "scrolled": false
   },
   "outputs": [
    {
     "data": {
      "text/plain": [
       "A    0.135019\n",
       "B   -0.747559\n",
       "C   -0.464753\n",
       "D   -0.744558\n",
       "Name: 2018-01-10 00:00:00, dtype: float64"
      ]
     },
     "execution_count": 84,
     "metadata": {},
     "output_type": "execute_result"
    }
   ],
   "source": [
    "df3.iloc[5]"
   ]
  },
  {
   "cell_type": "code",
   "execution_count": 85,
   "metadata": {
    "colab": {
     "base_uri": "https://localhost:8080/",
     "height": 174
    },
    "colab_type": "code",
    "executionInfo": {
     "elapsed": 1218,
     "status": "ok",
     "timestamp": 1595570991494,
     "user": {
      "displayName": "YONG POH YU",
      "photoUrl": "https://lh3.googleusercontent.com/a-/AOh14Ggm8MLlDEFXwbBGZ_6JuVPq1RxXTXVK7REHsxrG=s64",
      "userId": "15844820659946946317"
     },
     "user_tz": -480
    },
    "id": "Mc3amooApXb_",
    "outputId": "bdcda257-98ea-4dc5-d6b7-c2bddd2fdbef",
    "scrolled": false
   },
   "outputs": [
    {
     "data": {
      "text/html": [
       "<div>\n",
       "<style scoped>\n",
       "    .dataframe tbody tr th:only-of-type {\n",
       "        vertical-align: middle;\n",
       "    }\n",
       "\n",
       "    .dataframe tbody tr th {\n",
       "        vertical-align: top;\n",
       "    }\n",
       "\n",
       "    .dataframe thead th {\n",
       "        text-align: right;\n",
       "    }\n",
       "</style>\n",
       "<table border=\"1\" class=\"dataframe\">\n",
       "  <thead>\n",
       "    <tr style=\"text-align: right;\">\n",
       "      <th></th>\n",
       "      <th>A</th>\n",
       "      <th>B</th>\n",
       "      <th>C</th>\n",
       "      <th>D</th>\n",
       "    </tr>\n",
       "  </thead>\n",
       "  <tbody>\n",
       "    <tr>\n",
       "      <th>2018-01-05</th>\n",
       "      <td>-0.088858</td>\n",
       "      <td>-0.857487</td>\n",
       "      <td>1.359689</td>\n",
       "      <td>1.956336</td>\n",
       "    </tr>\n",
       "    <tr>\n",
       "      <th>2018-01-06</th>\n",
       "      <td>0.268845</td>\n",
       "      <td>0.409558</td>\n",
       "      <td>-2.261308</td>\n",
       "      <td>-1.286898</td>\n",
       "    </tr>\n",
       "    <tr>\n",
       "      <th>2018-01-07</th>\n",
       "      <td>0.588360</td>\n",
       "      <td>-0.636477</td>\n",
       "      <td>1.424968</td>\n",
       "      <td>-0.280422</td>\n",
       "    </tr>\n",
       "    <tr>\n",
       "      <th>2018-01-08</th>\n",
       "      <td>-0.410388</td>\n",
       "      <td>0.308866</td>\n",
       "      <td>-1.271197</td>\n",
       "      <td>-1.364545</td>\n",
       "    </tr>\n",
       "  </tbody>\n",
       "</table>\n",
       "</div>"
      ],
      "text/plain": [
       "                   A         B         C         D\n",
       "2018-01-05 -0.088858 -0.857487  1.359689  1.956336\n",
       "2018-01-06  0.268845  0.409558 -2.261308 -1.286898\n",
       "2018-01-07  0.588360 -0.636477  1.424968 -0.280422\n",
       "2018-01-08 -0.410388  0.308866 -1.271197 -1.364545"
      ]
     },
     "execution_count": 85,
     "metadata": {},
     "output_type": "execute_result"
    }
   ],
   "source": [
    "df3[:4]"
   ]
  },
  {
   "cell_type": "code",
   "execution_count": 92,
   "metadata": {
    "colab": {
     "base_uri": "https://localhost:8080/",
     "height": 277
    },
    "colab_type": "code",
    "executionInfo": {
     "elapsed": 1436,
     "status": "ok",
     "timestamp": 1595571009731,
     "user": {
      "displayName": "YONG POH YU",
      "photoUrl": "https://lh3.googleusercontent.com/a-/AOh14Ggm8MLlDEFXwbBGZ_6JuVPq1RxXTXVK7REHsxrG=s64",
      "userId": "15844820659946946317"
     },
     "user_tz": -480
    },
    "id": "foCkzF88pXcB",
    "outputId": "1b4e55f9-32ec-450f-8b28-46907300f860",
    "scrolled": false
   },
   "outputs": [
    {
     "name": "stdout",
     "output_type": "stream",
     "text": [
      "                   A         B         C         D\n",
      "2018-01-07  0.588360 -0.636477  1.424968 -0.280422\n",
      "2018-01-08 -0.410388  0.308866 -1.271197 -1.364545\n",
      "                   A         B         C         D\n",
      "2018-01-07  0.588360 -0.636477  1.424968 -0.280422\n",
      "2018-01-08 -0.410388  0.308866 -1.271197 -1.364545\n",
      "                   B         A\n",
      "2018-01-05 -0.857487 -0.088858\n",
      "2018-01-06  0.409558  0.268845\n",
      "2018-01-07 -0.636477  0.588360\n",
      "2018-01-08  0.308866 -0.410388\n",
      "2018-01-09  0.781629 -0.601875\n",
      "2018-01-10 -0.747559  0.135019\n",
      "2018-01-11  0.029730 -1.483728\n",
      "2018-01-12  0.174203 -0.803079\n"
     ]
    }
   ],
   "source": [
    "print(df3[2:4])\n",
    "print(df3.iloc[2:4])\n",
    "#stringpoint:endpoint (endpoint = m-1) - endpoint excluded.\n",
    "\n",
    "print(df3.loc[:,['B', 'A']])\n",
    "# [row, column]\n"
   ]
  },
  {
   "cell_type": "code",
   "execution_count": 88,
   "metadata": {
    "colab": {
     "base_uri": "https://localhost:8080/",
     "height": 311
    },
    "colab_type": "code",
    "executionInfo": {
     "elapsed": 1146,
     "status": "error",
     "timestamp": 1595571122553,
     "user": {
      "displayName": "YONG POH YU",
      "photoUrl": "https://lh3.googleusercontent.com/a-/AOh14Ggm8MLlDEFXwbBGZ_6JuVPq1RxXTXVK7REHsxrG=s64",
      "userId": "15844820659946946317"
     },
     "user_tz": -480
    },
    "id": "ahUdZbtEpXcE",
    "outputId": "a1debd3c-270b-40e1-f05b-2577b0024904",
    "scrolled": false
   },
   "outputs": [
    {
     "ename": "TypeError",
     "evalue": "cannot do slice indexing on DatetimeIndex with these indexers [2] of type int",
     "output_type": "error",
     "traceback": [
      "\u001b[1;31m---------------------------------------------------------------------------\u001b[0m",
      "\u001b[1;31mTypeError\u001b[0m                                 Traceback (most recent call last)",
      "\u001b[1;32m~\\AppData\\Local\\Temp\\ipykernel_9416\\1287147593.py\u001b[0m in \u001b[0;36m<module>\u001b[1;34m\u001b[0m\n\u001b[1;32m----> 1\u001b[1;33m \u001b[0mprint\u001b[0m\u001b[1;33m(\u001b[0m\u001b[0mdf3\u001b[0m\u001b[1;33m.\u001b[0m\u001b[0mloc\u001b[0m\u001b[1;33m[\u001b[0m\u001b[1;36m2\u001b[0m\u001b[1;33m:\u001b[0m\u001b[1;36m4\u001b[0m\u001b[1;33m]\u001b[0m\u001b[1;33m)\u001b[0m\u001b[1;33m\u001b[0m\u001b[1;33m\u001b[0m\u001b[0m\n\u001b[0m",
      "\u001b[1;32m~\\anaconda3\\lib\\site-packages\\pandas\\core\\indexing.py\u001b[0m in \u001b[0;36m__getitem__\u001b[1;34m(self, key)\u001b[0m\n\u001b[0;32m    965\u001b[0m \u001b[1;33m\u001b[0m\u001b[0m\n\u001b[0;32m    966\u001b[0m             \u001b[0mmaybe_callable\u001b[0m \u001b[1;33m=\u001b[0m \u001b[0mcom\u001b[0m\u001b[1;33m.\u001b[0m\u001b[0mapply_if_callable\u001b[0m\u001b[1;33m(\u001b[0m\u001b[0mkey\u001b[0m\u001b[1;33m,\u001b[0m \u001b[0mself\u001b[0m\u001b[1;33m.\u001b[0m\u001b[0mobj\u001b[0m\u001b[1;33m)\u001b[0m\u001b[1;33m\u001b[0m\u001b[1;33m\u001b[0m\u001b[0m\n\u001b[1;32m--> 967\u001b[1;33m             \u001b[1;32mreturn\u001b[0m \u001b[0mself\u001b[0m\u001b[1;33m.\u001b[0m\u001b[0m_getitem_axis\u001b[0m\u001b[1;33m(\u001b[0m\u001b[0mmaybe_callable\u001b[0m\u001b[1;33m,\u001b[0m \u001b[0maxis\u001b[0m\u001b[1;33m=\u001b[0m\u001b[0maxis\u001b[0m\u001b[1;33m)\u001b[0m\u001b[1;33m\u001b[0m\u001b[1;33m\u001b[0m\u001b[0m\n\u001b[0m\u001b[0;32m    968\u001b[0m \u001b[1;33m\u001b[0m\u001b[0m\n\u001b[0;32m    969\u001b[0m     \u001b[1;32mdef\u001b[0m \u001b[0m_is_scalar_access\u001b[0m\u001b[1;33m(\u001b[0m\u001b[0mself\u001b[0m\u001b[1;33m,\u001b[0m \u001b[0mkey\u001b[0m\u001b[1;33m:\u001b[0m \u001b[0mtuple\u001b[0m\u001b[1;33m)\u001b[0m\u001b[1;33m:\u001b[0m\u001b[1;33m\u001b[0m\u001b[1;33m\u001b[0m\u001b[0m\n",
      "\u001b[1;32m~\\anaconda3\\lib\\site-packages\\pandas\\core\\indexing.py\u001b[0m in \u001b[0;36m_getitem_axis\u001b[1;34m(self, key, axis)\u001b[0m\n\u001b[0;32m   1181\u001b[0m         \u001b[1;32mif\u001b[0m \u001b[0misinstance\u001b[0m\u001b[1;33m(\u001b[0m\u001b[0mkey\u001b[0m\u001b[1;33m,\u001b[0m \u001b[0mslice\u001b[0m\u001b[1;33m)\u001b[0m\u001b[1;33m:\u001b[0m\u001b[1;33m\u001b[0m\u001b[1;33m\u001b[0m\u001b[0m\n\u001b[0;32m   1182\u001b[0m             \u001b[0mself\u001b[0m\u001b[1;33m.\u001b[0m\u001b[0m_validate_key\u001b[0m\u001b[1;33m(\u001b[0m\u001b[0mkey\u001b[0m\u001b[1;33m,\u001b[0m \u001b[0maxis\u001b[0m\u001b[1;33m)\u001b[0m\u001b[1;33m\u001b[0m\u001b[1;33m\u001b[0m\u001b[0m\n\u001b[1;32m-> 1183\u001b[1;33m             \u001b[1;32mreturn\u001b[0m \u001b[0mself\u001b[0m\u001b[1;33m.\u001b[0m\u001b[0m_get_slice_axis\u001b[0m\u001b[1;33m(\u001b[0m\u001b[0mkey\u001b[0m\u001b[1;33m,\u001b[0m \u001b[0maxis\u001b[0m\u001b[1;33m=\u001b[0m\u001b[0maxis\u001b[0m\u001b[1;33m)\u001b[0m\u001b[1;33m\u001b[0m\u001b[1;33m\u001b[0m\u001b[0m\n\u001b[0m\u001b[0;32m   1184\u001b[0m         \u001b[1;32melif\u001b[0m \u001b[0mcom\u001b[0m\u001b[1;33m.\u001b[0m\u001b[0mis_bool_indexer\u001b[0m\u001b[1;33m(\u001b[0m\u001b[0mkey\u001b[0m\u001b[1;33m)\u001b[0m\u001b[1;33m:\u001b[0m\u001b[1;33m\u001b[0m\u001b[1;33m\u001b[0m\u001b[0m\n\u001b[0;32m   1185\u001b[0m             \u001b[1;32mreturn\u001b[0m \u001b[0mself\u001b[0m\u001b[1;33m.\u001b[0m\u001b[0m_getbool_axis\u001b[0m\u001b[1;33m(\u001b[0m\u001b[0mkey\u001b[0m\u001b[1;33m,\u001b[0m \u001b[0maxis\u001b[0m\u001b[1;33m=\u001b[0m\u001b[0maxis\u001b[0m\u001b[1;33m)\u001b[0m\u001b[1;33m\u001b[0m\u001b[1;33m\u001b[0m\u001b[0m\n",
      "\u001b[1;32m~\\anaconda3\\lib\\site-packages\\pandas\\core\\indexing.py\u001b[0m in \u001b[0;36m_get_slice_axis\u001b[1;34m(self, slice_obj, axis)\u001b[0m\n\u001b[0;32m   1215\u001b[0m \u001b[1;33m\u001b[0m\u001b[0m\n\u001b[0;32m   1216\u001b[0m         \u001b[0mlabels\u001b[0m \u001b[1;33m=\u001b[0m \u001b[0mobj\u001b[0m\u001b[1;33m.\u001b[0m\u001b[0m_get_axis\u001b[0m\u001b[1;33m(\u001b[0m\u001b[0maxis\u001b[0m\u001b[1;33m)\u001b[0m\u001b[1;33m\u001b[0m\u001b[1;33m\u001b[0m\u001b[0m\n\u001b[1;32m-> 1217\u001b[1;33m         \u001b[0mindexer\u001b[0m \u001b[1;33m=\u001b[0m \u001b[0mlabels\u001b[0m\u001b[1;33m.\u001b[0m\u001b[0mslice_indexer\u001b[0m\u001b[1;33m(\u001b[0m\u001b[0mslice_obj\u001b[0m\u001b[1;33m.\u001b[0m\u001b[0mstart\u001b[0m\u001b[1;33m,\u001b[0m \u001b[0mslice_obj\u001b[0m\u001b[1;33m.\u001b[0m\u001b[0mstop\u001b[0m\u001b[1;33m,\u001b[0m \u001b[0mslice_obj\u001b[0m\u001b[1;33m.\u001b[0m\u001b[0mstep\u001b[0m\u001b[1;33m)\u001b[0m\u001b[1;33m\u001b[0m\u001b[1;33m\u001b[0m\u001b[0m\n\u001b[0m\u001b[0;32m   1218\u001b[0m \u001b[1;33m\u001b[0m\u001b[0m\n\u001b[0;32m   1219\u001b[0m         \u001b[1;32mif\u001b[0m \u001b[0misinstance\u001b[0m\u001b[1;33m(\u001b[0m\u001b[0mindexer\u001b[0m\u001b[1;33m,\u001b[0m \u001b[0mslice\u001b[0m\u001b[1;33m)\u001b[0m\u001b[1;33m:\u001b[0m\u001b[1;33m\u001b[0m\u001b[1;33m\u001b[0m\u001b[0m\n",
      "\u001b[1;32m~\\anaconda3\\lib\\site-packages\\pandas\\core\\indexes\\datetimes.py\u001b[0m in \u001b[0;36mslice_indexer\u001b[1;34m(self, start, end, step, kind)\u001b[0m\n\u001b[0;32m    758\u001b[0m             \u001b[1;32mor\u001b[0m \u001b[0mself\u001b[0m\u001b[1;33m.\u001b[0m\u001b[0mis_monotonic_increasing\u001b[0m\u001b[1;33m\u001b[0m\u001b[1;33m\u001b[0m\u001b[0m\n\u001b[0;32m    759\u001b[0m         ):\n\u001b[1;32m--> 760\u001b[1;33m             \u001b[1;32mreturn\u001b[0m \u001b[0mIndex\u001b[0m\u001b[1;33m.\u001b[0m\u001b[0mslice_indexer\u001b[0m\u001b[1;33m(\u001b[0m\u001b[0mself\u001b[0m\u001b[1;33m,\u001b[0m \u001b[0mstart\u001b[0m\u001b[1;33m,\u001b[0m \u001b[0mend\u001b[0m\u001b[1;33m,\u001b[0m \u001b[0mstep\u001b[0m\u001b[1;33m,\u001b[0m \u001b[0mkind\u001b[0m\u001b[1;33m=\u001b[0m\u001b[0mkind\u001b[0m\u001b[1;33m)\u001b[0m\u001b[1;33m\u001b[0m\u001b[1;33m\u001b[0m\u001b[0m\n\u001b[0m\u001b[0;32m    761\u001b[0m \u001b[1;33m\u001b[0m\u001b[0m\n\u001b[0;32m    762\u001b[0m         \u001b[0mmask\u001b[0m \u001b[1;33m=\u001b[0m \u001b[0mnp\u001b[0m\u001b[1;33m.\u001b[0m\u001b[0marray\u001b[0m\u001b[1;33m(\u001b[0m\u001b[1;32mTrue\u001b[0m\u001b[1;33m)\u001b[0m\u001b[1;33m\u001b[0m\u001b[1;33m\u001b[0m\u001b[0m\n",
      "\u001b[1;32m~\\anaconda3\\lib\\site-packages\\pandas\\core\\indexes\\base.py\u001b[0m in \u001b[0;36mslice_indexer\u001b[1;34m(self, start, end, step, kind)\u001b[0m\n\u001b[0;32m   6286\u001b[0m         \u001b[0mself\u001b[0m\u001b[1;33m.\u001b[0m\u001b[0m_deprecated_arg\u001b[0m\u001b[1;33m(\u001b[0m\u001b[0mkind\u001b[0m\u001b[1;33m,\u001b[0m \u001b[1;34m\"kind\"\u001b[0m\u001b[1;33m,\u001b[0m \u001b[1;34m\"slice_indexer\"\u001b[0m\u001b[1;33m)\u001b[0m\u001b[1;33m\u001b[0m\u001b[1;33m\u001b[0m\u001b[0m\n\u001b[0;32m   6287\u001b[0m \u001b[1;33m\u001b[0m\u001b[0m\n\u001b[1;32m-> 6288\u001b[1;33m         \u001b[0mstart_slice\u001b[0m\u001b[1;33m,\u001b[0m \u001b[0mend_slice\u001b[0m \u001b[1;33m=\u001b[0m \u001b[0mself\u001b[0m\u001b[1;33m.\u001b[0m\u001b[0mslice_locs\u001b[0m\u001b[1;33m(\u001b[0m\u001b[0mstart\u001b[0m\u001b[1;33m,\u001b[0m \u001b[0mend\u001b[0m\u001b[1;33m,\u001b[0m \u001b[0mstep\u001b[0m\u001b[1;33m=\u001b[0m\u001b[0mstep\u001b[0m\u001b[1;33m)\u001b[0m\u001b[1;33m\u001b[0m\u001b[1;33m\u001b[0m\u001b[0m\n\u001b[0m\u001b[0;32m   6289\u001b[0m \u001b[1;33m\u001b[0m\u001b[0m\n\u001b[0;32m   6290\u001b[0m         \u001b[1;31m# return a slice\u001b[0m\u001b[1;33m\u001b[0m\u001b[1;33m\u001b[0m\u001b[0m\n",
      "\u001b[1;32m~\\anaconda3\\lib\\site-packages\\pandas\\core\\indexes\\base.py\u001b[0m in \u001b[0;36mslice_locs\u001b[1;34m(self, start, end, step, kind)\u001b[0m\n\u001b[0;32m   6496\u001b[0m         \u001b[0mstart_slice\u001b[0m \u001b[1;33m=\u001b[0m \u001b[1;32mNone\u001b[0m\u001b[1;33m\u001b[0m\u001b[1;33m\u001b[0m\u001b[0m\n\u001b[0;32m   6497\u001b[0m         \u001b[1;32mif\u001b[0m \u001b[0mstart\u001b[0m \u001b[1;32mis\u001b[0m \u001b[1;32mnot\u001b[0m \u001b[1;32mNone\u001b[0m\u001b[1;33m:\u001b[0m\u001b[1;33m\u001b[0m\u001b[1;33m\u001b[0m\u001b[0m\n\u001b[1;32m-> 6498\u001b[1;33m             \u001b[0mstart_slice\u001b[0m \u001b[1;33m=\u001b[0m \u001b[0mself\u001b[0m\u001b[1;33m.\u001b[0m\u001b[0mget_slice_bound\u001b[0m\u001b[1;33m(\u001b[0m\u001b[0mstart\u001b[0m\u001b[1;33m,\u001b[0m \u001b[1;34m\"left\"\u001b[0m\u001b[1;33m)\u001b[0m\u001b[1;33m\u001b[0m\u001b[1;33m\u001b[0m\u001b[0m\n\u001b[0m\u001b[0;32m   6499\u001b[0m         \u001b[1;32mif\u001b[0m \u001b[0mstart_slice\u001b[0m \u001b[1;32mis\u001b[0m \u001b[1;32mNone\u001b[0m\u001b[1;33m:\u001b[0m\u001b[1;33m\u001b[0m\u001b[1;33m\u001b[0m\u001b[0m\n\u001b[0;32m   6500\u001b[0m             \u001b[0mstart_slice\u001b[0m \u001b[1;33m=\u001b[0m \u001b[1;36m0\u001b[0m\u001b[1;33m\u001b[0m\u001b[1;33m\u001b[0m\u001b[0m\n",
      "\u001b[1;32m~\\anaconda3\\lib\\site-packages\\pandas\\core\\indexes\\datetimes.py\u001b[0m in \u001b[0;36mget_slice_bound\u001b[1;34m(self, label, side, kind)\u001b[0m\n\u001b[0;32m    793\u001b[0m         \u001b[1;32mif\u001b[0m \u001b[0misinstance\u001b[0m\u001b[1;33m(\u001b[0m\u001b[0mlabel\u001b[0m\u001b[1;33m,\u001b[0m \u001b[0mdate\u001b[0m\u001b[1;33m)\u001b[0m \u001b[1;32mand\u001b[0m \u001b[1;32mnot\u001b[0m \u001b[0misinstance\u001b[0m\u001b[1;33m(\u001b[0m\u001b[0mlabel\u001b[0m\u001b[1;33m,\u001b[0m \u001b[0mdatetime\u001b[0m\u001b[1;33m)\u001b[0m\u001b[1;33m:\u001b[0m\u001b[1;33m\u001b[0m\u001b[1;33m\u001b[0m\u001b[0m\n\u001b[0;32m    794\u001b[0m             \u001b[0mlabel\u001b[0m \u001b[1;33m=\u001b[0m \u001b[0mTimestamp\u001b[0m\u001b[1;33m(\u001b[0m\u001b[0mlabel\u001b[0m\u001b[1;33m)\u001b[0m\u001b[1;33m.\u001b[0m\u001b[0mto_pydatetime\u001b[0m\u001b[1;33m(\u001b[0m\u001b[1;33m)\u001b[0m\u001b[1;33m\u001b[0m\u001b[1;33m\u001b[0m\u001b[0m\n\u001b[1;32m--> 795\u001b[1;33m         \u001b[1;32mreturn\u001b[0m \u001b[0msuper\u001b[0m\u001b[1;33m(\u001b[0m\u001b[1;33m)\u001b[0m\u001b[1;33m.\u001b[0m\u001b[0mget_slice_bound\u001b[0m\u001b[1;33m(\u001b[0m\u001b[0mlabel\u001b[0m\u001b[1;33m,\u001b[0m \u001b[0mside\u001b[0m\u001b[1;33m=\u001b[0m\u001b[0mside\u001b[0m\u001b[1;33m,\u001b[0m \u001b[0mkind\u001b[0m\u001b[1;33m=\u001b[0m\u001b[0mkind\u001b[0m\u001b[1;33m)\u001b[0m\u001b[1;33m\u001b[0m\u001b[1;33m\u001b[0m\u001b[0m\n\u001b[0m\u001b[0;32m    796\u001b[0m \u001b[1;33m\u001b[0m\u001b[0m\n\u001b[0;32m    797\u001b[0m     \u001b[1;31m# --------------------------------------------------------------------\u001b[0m\u001b[1;33m\u001b[0m\u001b[1;33m\u001b[0m\u001b[0m\n",
      "\u001b[1;32m~\\anaconda3\\lib\\site-packages\\pandas\\core\\indexes\\base.py\u001b[0m in \u001b[0;36mget_slice_bound\u001b[1;34m(self, label, side, kind)\u001b[0m\n\u001b[0;32m   6405\u001b[0m         \u001b[1;31m# For datetime indices label may be a string that has to be converted\u001b[0m\u001b[1;33m\u001b[0m\u001b[1;33m\u001b[0m\u001b[0m\n\u001b[0;32m   6406\u001b[0m         \u001b[1;31m# to datetime boundary according to its resolution.\u001b[0m\u001b[1;33m\u001b[0m\u001b[1;33m\u001b[0m\u001b[0m\n\u001b[1;32m-> 6407\u001b[1;33m         \u001b[0mlabel\u001b[0m \u001b[1;33m=\u001b[0m \u001b[0mself\u001b[0m\u001b[1;33m.\u001b[0m\u001b[0m_maybe_cast_slice_bound\u001b[0m\u001b[1;33m(\u001b[0m\u001b[0mlabel\u001b[0m\u001b[1;33m,\u001b[0m \u001b[0mside\u001b[0m\u001b[1;33m)\u001b[0m\u001b[1;33m\u001b[0m\u001b[1;33m\u001b[0m\u001b[0m\n\u001b[0m\u001b[0;32m   6408\u001b[0m \u001b[1;33m\u001b[0m\u001b[0m\n\u001b[0;32m   6409\u001b[0m         \u001b[1;31m# we need to look up the label\u001b[0m\u001b[1;33m\u001b[0m\u001b[1;33m\u001b[0m\u001b[0m\n",
      "\u001b[1;32m~\\anaconda3\\lib\\site-packages\\pandas\\core\\indexes\\datetimes.py\u001b[0m in \u001b[0;36m_maybe_cast_slice_bound\u001b[1;34m(self, label, side, kind)\u001b[0m\n\u001b[0;32m    709\u001b[0m     \u001b[1;33m@\u001b[0m\u001b[0mdoc\u001b[0m\u001b[1;33m(\u001b[0m\u001b[0mDatetimeTimedeltaMixin\u001b[0m\u001b[1;33m.\u001b[0m\u001b[0m_maybe_cast_slice_bound\u001b[0m\u001b[1;33m)\u001b[0m\u001b[1;33m\u001b[0m\u001b[1;33m\u001b[0m\u001b[0m\n\u001b[0;32m    710\u001b[0m     \u001b[1;32mdef\u001b[0m \u001b[0m_maybe_cast_slice_bound\u001b[0m\u001b[1;33m(\u001b[0m\u001b[0mself\u001b[0m\u001b[1;33m,\u001b[0m \u001b[0mlabel\u001b[0m\u001b[1;33m,\u001b[0m \u001b[0mside\u001b[0m\u001b[1;33m:\u001b[0m \u001b[0mstr\u001b[0m\u001b[1;33m,\u001b[0m \u001b[0mkind\u001b[0m\u001b[1;33m=\u001b[0m\u001b[0mlib\u001b[0m\u001b[1;33m.\u001b[0m\u001b[0mno_default\u001b[0m\u001b[1;33m)\u001b[0m\u001b[1;33m:\u001b[0m\u001b[1;33m\u001b[0m\u001b[1;33m\u001b[0m\u001b[0m\n\u001b[1;32m--> 711\u001b[1;33m         \u001b[0mlabel\u001b[0m \u001b[1;33m=\u001b[0m \u001b[0msuper\u001b[0m\u001b[1;33m(\u001b[0m\u001b[1;33m)\u001b[0m\u001b[1;33m.\u001b[0m\u001b[0m_maybe_cast_slice_bound\u001b[0m\u001b[1;33m(\u001b[0m\u001b[0mlabel\u001b[0m\u001b[1;33m,\u001b[0m \u001b[0mside\u001b[0m\u001b[1;33m,\u001b[0m \u001b[0mkind\u001b[0m\u001b[1;33m=\u001b[0m\u001b[0mkind\u001b[0m\u001b[1;33m)\u001b[0m\u001b[1;33m\u001b[0m\u001b[1;33m\u001b[0m\u001b[0m\n\u001b[0m\u001b[0;32m    712\u001b[0m         \u001b[0mself\u001b[0m\u001b[1;33m.\u001b[0m\u001b[0m_deprecate_mismatched_indexing\u001b[0m\u001b[1;33m(\u001b[0m\u001b[0mlabel\u001b[0m\u001b[1;33m)\u001b[0m\u001b[1;33m\u001b[0m\u001b[1;33m\u001b[0m\u001b[0m\n\u001b[0;32m    713\u001b[0m         \u001b[1;32mreturn\u001b[0m \u001b[0mself\u001b[0m\u001b[1;33m.\u001b[0m\u001b[0m_maybe_cast_for_get_loc\u001b[0m\u001b[1;33m(\u001b[0m\u001b[0mlabel\u001b[0m\u001b[1;33m)\u001b[0m\u001b[1;33m\u001b[0m\u001b[1;33m\u001b[0m\u001b[0m\n",
      "\u001b[1;32m~\\anaconda3\\lib\\site-packages\\pandas\\core\\indexes\\datetimelike.py\u001b[0m in \u001b[0;36m_maybe_cast_slice_bound\u001b[1;34m(self, label, side, kind)\u001b[0m\n\u001b[0;32m    323\u001b[0m             \u001b[1;32mreturn\u001b[0m \u001b[0mlower\u001b[0m \u001b[1;32mif\u001b[0m \u001b[0mside\u001b[0m \u001b[1;33m==\u001b[0m \u001b[1;34m\"left\"\u001b[0m \u001b[1;32melse\u001b[0m \u001b[0mupper\u001b[0m\u001b[1;33m\u001b[0m\u001b[1;33m\u001b[0m\u001b[0m\n\u001b[0;32m    324\u001b[0m         \u001b[1;32melif\u001b[0m \u001b[1;32mnot\u001b[0m \u001b[0misinstance\u001b[0m\u001b[1;33m(\u001b[0m\u001b[0mlabel\u001b[0m\u001b[1;33m,\u001b[0m \u001b[0mself\u001b[0m\u001b[1;33m.\u001b[0m\u001b[0m_data\u001b[0m\u001b[1;33m.\u001b[0m\u001b[0m_recognized_scalars\u001b[0m\u001b[1;33m)\u001b[0m\u001b[1;33m:\u001b[0m\u001b[1;33m\u001b[0m\u001b[1;33m\u001b[0m\u001b[0m\n\u001b[1;32m--> 325\u001b[1;33m             \u001b[1;32mraise\u001b[0m \u001b[0mself\u001b[0m\u001b[1;33m.\u001b[0m\u001b[0m_invalid_indexer\u001b[0m\u001b[1;33m(\u001b[0m\u001b[1;34m\"slice\"\u001b[0m\u001b[1;33m,\u001b[0m \u001b[0mlabel\u001b[0m\u001b[1;33m)\u001b[0m\u001b[1;33m\u001b[0m\u001b[1;33m\u001b[0m\u001b[0m\n\u001b[0m\u001b[0;32m    326\u001b[0m \u001b[1;33m\u001b[0m\u001b[0m\n\u001b[0;32m    327\u001b[0m         \u001b[1;32mreturn\u001b[0m \u001b[0mlabel\u001b[0m\u001b[1;33m\u001b[0m\u001b[1;33m\u001b[0m\u001b[0m\n",
      "\u001b[1;31mTypeError\u001b[0m: cannot do slice indexing on DatetimeIndex with these indexers [2] of type int"
     ]
    }
   ],
   "source": [
    "print(df3.loc[2:4])"
   ]
  },
  {
   "cell_type": "code",
   "execution_count": 93,
   "metadata": {},
   "outputs": [
    {
     "name": "stdout",
     "output_type": "stream",
     "text": [
      "                   A         B         C         D\n",
      "2018-01-07  0.588360 -0.636477  1.424968 -0.280422\n",
      "2018-01-08 -0.410388  0.308866 -1.271197 -1.364545\n"
     ]
    }
   ],
   "source": [
    "print(df3.loc['2018-01-07':'2018-01-08'])"
   ]
  },
  {
   "cell_type": "code",
   "execution_count": 105,
   "metadata": {
    "colab": {
     "base_uri": "https://localhost:8080/",
     "height": 237
    },
    "colab_type": "code",
    "executionInfo": {
     "elapsed": 1284,
     "status": "ok",
     "timestamp": 1595571138077,
     "user": {
      "displayName": "YONG POH YU",
      "photoUrl": "https://lh3.googleusercontent.com/a-/AOh14Ggm8MLlDEFXwbBGZ_6JuVPq1RxXTXVK7REHsxrG=s64",
      "userId": "15844820659946946317"
     },
     "user_tz": -480
    },
    "id": "5hRVd7hupXcG",
    "outputId": "ec579bec-1ec5-43c7-83fb-be01b6c2fe0f"
   },
   "outputs": [
    {
     "data": {
      "text/html": [
       "<div>\n",
       "<style scoped>\n",
       "    .dataframe tbody tr th:only-of-type {\n",
       "        vertical-align: middle;\n",
       "    }\n",
       "\n",
       "    .dataframe tbody tr th {\n",
       "        vertical-align: top;\n",
       "    }\n",
       "\n",
       "    .dataframe thead th {\n",
       "        text-align: right;\n",
       "    }\n",
       "</style>\n",
       "<table border=\"1\" class=\"dataframe\">\n",
       "  <thead>\n",
       "    <tr style=\"text-align: right;\">\n",
       "      <th></th>\n",
       "      <th>A</th>\n",
       "      <th>B</th>\n",
       "      <th>C</th>\n",
       "      <th>D</th>\n",
       "    </tr>\n",
       "  </thead>\n",
       "  <tbody>\n",
       "    <tr>\n",
       "      <th>a</th>\n",
       "      <td>0.146860</td>\n",
       "      <td>1.052246</td>\n",
       "      <td>1.581829</td>\n",
       "      <td>0.149371</td>\n",
       "    </tr>\n",
       "    <tr>\n",
       "      <th>b</th>\n",
       "      <td>-1.791552</td>\n",
       "      <td>-1.641207</td>\n",
       "      <td>-0.273244</td>\n",
       "      <td>1.498009</td>\n",
       "    </tr>\n",
       "    <tr>\n",
       "      <th>c</th>\n",
       "      <td>-0.235381</td>\n",
       "      <td>-0.593189</td>\n",
       "      <td>0.312513</td>\n",
       "      <td>-1.977474</td>\n",
       "    </tr>\n",
       "    <tr>\n",
       "      <th>d</th>\n",
       "      <td>1.455757</td>\n",
       "      <td>1.845392</td>\n",
       "      <td>0.200602</td>\n",
       "      <td>-0.133385</td>\n",
       "    </tr>\n",
       "    <tr>\n",
       "      <th>e</th>\n",
       "      <td>-0.455358</td>\n",
       "      <td>0.587551</td>\n",
       "      <td>-0.054720</td>\n",
       "      <td>-0.497836</td>\n",
       "    </tr>\n",
       "    <tr>\n",
       "      <th>f</th>\n",
       "      <td>-0.499360</td>\n",
       "      <td>0.679698</td>\n",
       "      <td>0.327516</td>\n",
       "      <td>0.291077</td>\n",
       "    </tr>\n",
       "  </tbody>\n",
       "</table>\n",
       "</div>"
      ],
      "text/plain": [
       "          A         B         C         D\n",
       "a  0.146860  1.052246  1.581829  0.149371\n",
       "b -1.791552 -1.641207 -0.273244  1.498009\n",
       "c -0.235381 -0.593189  0.312513 -1.977474\n",
       "d  1.455757  1.845392  0.200602 -0.133385\n",
       "e -0.455358  0.587551 -0.054720 -0.497836\n",
       "f -0.499360  0.679698  0.327516  0.291077"
      ]
     },
     "execution_count": 105,
     "metadata": {},
     "output_type": "execute_result"
    }
   ],
   "source": [
    "df4 = pd.DataFrame(np.random.randn(6,4),\n",
    "                   index=list('abcdef'),\n",
    "                   columns=list('ABCD'))\n",
    "\n",
    "df4"
   ]
  },
  {
   "cell_type": "code",
   "execution_count": 106,
   "metadata": {
    "colab": {
     "base_uri": "https://localhost:8080/",
     "height": 143
    },
    "colab_type": "code",
    "executionInfo": {
     "elapsed": 1102,
     "status": "ok",
     "timestamp": 1595571154718,
     "user": {
      "displayName": "YONG POH YU",
      "photoUrl": "https://lh3.googleusercontent.com/a-/AOh14Ggm8MLlDEFXwbBGZ_6JuVPq1RxXTXVK7REHsxrG=s64",
      "userId": "15844820659946946317"
     },
     "user_tz": -480
    },
    "id": "HjfeUSR2pXcK",
    "outputId": "c6dbee6f-4df6-43e4-ea8e-ba04b09b1dfc",
    "scrolled": true
   },
   "outputs": [
    {
     "data": {
      "text/html": [
       "<div>\n",
       "<style scoped>\n",
       "    .dataframe tbody tr th:only-of-type {\n",
       "        vertical-align: middle;\n",
       "    }\n",
       "\n",
       "    .dataframe tbody tr th {\n",
       "        vertical-align: top;\n",
       "    }\n",
       "\n",
       "    .dataframe thead th {\n",
       "        text-align: right;\n",
       "    }\n",
       "</style>\n",
       "<table border=\"1\" class=\"dataframe\">\n",
       "  <thead>\n",
       "    <tr style=\"text-align: right;\">\n",
       "      <th></th>\n",
       "      <th>A</th>\n",
       "      <th>B</th>\n",
       "      <th>C</th>\n",
       "      <th>D</th>\n",
       "    </tr>\n",
       "  </thead>\n",
       "  <tbody>\n",
       "    <tr>\n",
       "      <th>a</th>\n",
       "      <td>0.146860</td>\n",
       "      <td>1.052246</td>\n",
       "      <td>1.581829</td>\n",
       "      <td>0.149371</td>\n",
       "    </tr>\n",
       "    <tr>\n",
       "      <th>b</th>\n",
       "      <td>-1.791552</td>\n",
       "      <td>-1.641207</td>\n",
       "      <td>-0.273244</td>\n",
       "      <td>1.498009</td>\n",
       "    </tr>\n",
       "    <tr>\n",
       "      <th>d</th>\n",
       "      <td>1.455757</td>\n",
       "      <td>1.845392</td>\n",
       "      <td>0.200602</td>\n",
       "      <td>-0.133385</td>\n",
       "    </tr>\n",
       "  </tbody>\n",
       "</table>\n",
       "</div>"
      ],
      "text/plain": [
       "          A         B         C         D\n",
       "a  0.146860  1.052246  1.581829  0.149371\n",
       "b -1.791552 -1.641207 -0.273244  1.498009\n",
       "d  1.455757  1.845392  0.200602 -0.133385"
      ]
     },
     "execution_count": 106,
     "metadata": {},
     "output_type": "execute_result"
    }
   ],
   "source": [
    "df4.loc[['a', 'b', 'd'], :]"
   ]
  },
  {
   "cell_type": "code",
   "execution_count": 107,
   "metadata": {
    "colab": {
     "base_uri": "https://localhost:8080/",
     "height": 141
    },
    "colab_type": "code",
    "executionInfo": {
     "elapsed": 861,
     "status": "ok",
     "timestamp": 1594946549633,
     "user": {
      "displayName": "YONG POH YU",
      "photoUrl": "https://lh3.googleusercontent.com/a-/AOh14Ggm8MLlDEFXwbBGZ_6JuVPq1RxXTXVK7REHsxrG=s64",
      "userId": "15844820659946946317"
     },
     "user_tz": -480
    },
    "id": "jVwcW1PIpXcO",
    "outputId": "fcdf2c78-9b9b-43bf-b613-59560dab9d38",
    "scrolled": true
   },
   "outputs": [
    {
     "data": {
      "text/html": [
       "<div>\n",
       "<style scoped>\n",
       "    .dataframe tbody tr th:only-of-type {\n",
       "        vertical-align: middle;\n",
       "    }\n",
       "\n",
       "    .dataframe tbody tr th {\n",
       "        vertical-align: top;\n",
       "    }\n",
       "\n",
       "    .dataframe thead th {\n",
       "        text-align: right;\n",
       "    }\n",
       "</style>\n",
       "<table border=\"1\" class=\"dataframe\">\n",
       "  <thead>\n",
       "    <tr style=\"text-align: right;\">\n",
       "      <th></th>\n",
       "      <th>A</th>\n",
       "      <th>B</th>\n",
       "      <th>C</th>\n",
       "    </tr>\n",
       "  </thead>\n",
       "  <tbody>\n",
       "    <tr>\n",
       "      <th>d</th>\n",
       "      <td>1.455757</td>\n",
       "      <td>1.845392</td>\n",
       "      <td>0.200602</td>\n",
       "    </tr>\n",
       "    <tr>\n",
       "      <th>e</th>\n",
       "      <td>-0.455358</td>\n",
       "      <td>0.587551</td>\n",
       "      <td>-0.054720</td>\n",
       "    </tr>\n",
       "    <tr>\n",
       "      <th>f</th>\n",
       "      <td>-0.499360</td>\n",
       "      <td>0.679698</td>\n",
       "      <td>0.327516</td>\n",
       "    </tr>\n",
       "  </tbody>\n",
       "</table>\n",
       "</div>"
      ],
      "text/plain": [
       "          A         B         C\n",
       "d  1.455757  1.845392  0.200602\n",
       "e -0.455358  0.587551 -0.054720\n",
       "f -0.499360  0.679698  0.327516"
      ]
     },
     "execution_count": 107,
     "metadata": {},
     "output_type": "execute_result"
    }
   ],
   "source": [
    "df4.loc['d':, 'A':'C']"
   ]
  },
  {
   "cell_type": "markdown",
   "metadata": {
    "colab_type": "text",
    "id": "n7bx1QPZpXcV"
   },
   "source": [
    "### Boolean indexing"
   ]
  },
  {
   "cell_type": "code",
   "execution_count": 108,
   "metadata": {
    "colab": {
     "base_uri": "https://localhost:8080/",
     "height": 237
    },
    "colab_type": "code",
    "executionInfo": {
     "elapsed": 1149,
     "status": "ok",
     "timestamp": 1595571292371,
     "user": {
      "displayName": "YONG POH YU",
      "photoUrl": "https://lh3.googleusercontent.com/a-/AOh14Ggm8MLlDEFXwbBGZ_6JuVPq1RxXTXVK7REHsxrG=s64",
      "userId": "15844820659946946317"
     },
     "user_tz": -480
    },
    "id": "n-pSnWfHpXcW",
    "outputId": "cd9f42a9-5b84-45aa-86d8-253e5b6e1f94",
    "scrolled": true
   },
   "outputs": [
    {
     "data": {
      "text/html": [
       "<div>\n",
       "<style scoped>\n",
       "    .dataframe tbody tr th:only-of-type {\n",
       "        vertical-align: middle;\n",
       "    }\n",
       "\n",
       "    .dataframe tbody tr th {\n",
       "        vertical-align: top;\n",
       "    }\n",
       "\n",
       "    .dataframe thead th {\n",
       "        text-align: right;\n",
       "    }\n",
       "</style>\n",
       "<table border=\"1\" class=\"dataframe\">\n",
       "  <thead>\n",
       "    <tr style=\"text-align: right;\">\n",
       "      <th></th>\n",
       "      <th>A</th>\n",
       "      <th>B</th>\n",
       "      <th>C</th>\n",
       "      <th>D</th>\n",
       "    </tr>\n",
       "  </thead>\n",
       "  <tbody>\n",
       "    <tr>\n",
       "      <th>a</th>\n",
       "      <td>0.146860</td>\n",
       "      <td>1.052246</td>\n",
       "      <td>1.581829</td>\n",
       "      <td>0.149371</td>\n",
       "    </tr>\n",
       "    <tr>\n",
       "      <th>b</th>\n",
       "      <td>NaN</td>\n",
       "      <td>NaN</td>\n",
       "      <td>NaN</td>\n",
       "      <td>1.498009</td>\n",
       "    </tr>\n",
       "    <tr>\n",
       "      <th>c</th>\n",
       "      <td>NaN</td>\n",
       "      <td>NaN</td>\n",
       "      <td>0.312513</td>\n",
       "      <td>NaN</td>\n",
       "    </tr>\n",
       "    <tr>\n",
       "      <th>d</th>\n",
       "      <td>1.455757</td>\n",
       "      <td>1.845392</td>\n",
       "      <td>0.200602</td>\n",
       "      <td>NaN</td>\n",
       "    </tr>\n",
       "    <tr>\n",
       "      <th>e</th>\n",
       "      <td>NaN</td>\n",
       "      <td>0.587551</td>\n",
       "      <td>NaN</td>\n",
       "      <td>NaN</td>\n",
       "    </tr>\n",
       "    <tr>\n",
       "      <th>f</th>\n",
       "      <td>NaN</td>\n",
       "      <td>0.679698</td>\n",
       "      <td>0.327516</td>\n",
       "      <td>0.291077</td>\n",
       "    </tr>\n",
       "  </tbody>\n",
       "</table>\n",
       "</div>"
      ],
      "text/plain": [
       "          A         B         C         D\n",
       "a  0.146860  1.052246  1.581829  0.149371\n",
       "b       NaN       NaN       NaN  1.498009\n",
       "c       NaN       NaN  0.312513       NaN\n",
       "d  1.455757  1.845392  0.200602       NaN\n",
       "e       NaN  0.587551       NaN       NaN\n",
       "f       NaN  0.679698  0.327516  0.291077"
      ]
     },
     "execution_count": 108,
     "metadata": {},
     "output_type": "execute_result"
    }
   ],
   "source": [
    "df4_with_NA = df4[df4 > 0]\n",
    "df4_with_NA "
   ]
  },
  {
   "cell_type": "markdown",
   "metadata": {
    "colab_type": "text",
    "id": "_3txGLpjpXcc"
   },
   "source": [
    "# Missing Data\n"
   ]
  },
  {
   "cell_type": "code",
   "execution_count": 113,
   "metadata": {
    "colab": {
     "base_uri": "https://localhost:8080/",
     "height": 237
    },
    "colab_type": "code",
    "executionInfo": {
     "elapsed": 1116,
     "status": "ok",
     "timestamp": 1595571372654,
     "user": {
      "displayName": "YONG POH YU",
      "photoUrl": "https://lh3.googleusercontent.com/a-/AOh14Ggm8MLlDEFXwbBGZ_6JuVPq1RxXTXVK7REHsxrG=s64",
      "userId": "15844820659946946317"
     },
     "user_tz": -480
    },
    "id": "YYxHJlDopXcg",
    "outputId": "8c245011-3778-4df8-8fcb-667404303e74",
    "scrolled": true
   },
   "outputs": [
    {
     "data": {
      "text/html": [
       "<div>\n",
       "<style scoped>\n",
       "    .dataframe tbody tr th:only-of-type {\n",
       "        vertical-align: middle;\n",
       "    }\n",
       "\n",
       "    .dataframe tbody tr th {\n",
       "        vertical-align: top;\n",
       "    }\n",
       "\n",
       "    .dataframe thead th {\n",
       "        text-align: right;\n",
       "    }\n",
       "</style>\n",
       "<table border=\"1\" class=\"dataframe\">\n",
       "  <thead>\n",
       "    <tr style=\"text-align: right;\">\n",
       "      <th></th>\n",
       "      <th>A</th>\n",
       "      <th>B</th>\n",
       "      <th>C</th>\n",
       "      <th>D</th>\n",
       "    </tr>\n",
       "  </thead>\n",
       "  <tbody>\n",
       "    <tr>\n",
       "      <th>a</th>\n",
       "      <td>False</td>\n",
       "      <td>False</td>\n",
       "      <td>False</td>\n",
       "      <td>False</td>\n",
       "    </tr>\n",
       "    <tr>\n",
       "      <th>b</th>\n",
       "      <td>True</td>\n",
       "      <td>True</td>\n",
       "      <td>True</td>\n",
       "      <td>False</td>\n",
       "    </tr>\n",
       "    <tr>\n",
       "      <th>c</th>\n",
       "      <td>True</td>\n",
       "      <td>True</td>\n",
       "      <td>False</td>\n",
       "      <td>True</td>\n",
       "    </tr>\n",
       "    <tr>\n",
       "      <th>d</th>\n",
       "      <td>False</td>\n",
       "      <td>False</td>\n",
       "      <td>False</td>\n",
       "      <td>True</td>\n",
       "    </tr>\n",
       "    <tr>\n",
       "      <th>e</th>\n",
       "      <td>True</td>\n",
       "      <td>False</td>\n",
       "      <td>True</td>\n",
       "      <td>True</td>\n",
       "    </tr>\n",
       "    <tr>\n",
       "      <th>f</th>\n",
       "      <td>True</td>\n",
       "      <td>False</td>\n",
       "      <td>False</td>\n",
       "      <td>False</td>\n",
       "    </tr>\n",
       "  </tbody>\n",
       "</table>\n",
       "</div>"
      ],
      "text/plain": [
       "       A      B      C      D\n",
       "a  False  False  False  False\n",
       "b   True   True   True  False\n",
       "c   True   True  False   True\n",
       "d  False  False  False   True\n",
       "e   True  False   True   True\n",
       "f   True  False  False  False"
      ]
     },
     "execution_count": 113,
     "metadata": {},
     "output_type": "execute_result"
    }
   ],
   "source": [
    "pd.isnull(df4_with_NA)"
   ]
  },
  {
   "cell_type": "code",
   "execution_count": 114,
   "metadata": {
    "colab": {
     "base_uri": "https://localhost:8080/",
     "height": 49
    },
    "colab_type": "code",
    "executionInfo": {
     "elapsed": 1163,
     "status": "ok",
     "timestamp": 1595571310580,
     "user": {
      "displayName": "YONG POH YU",
      "photoUrl": "https://lh3.googleusercontent.com/a-/AOh14Ggm8MLlDEFXwbBGZ_6JuVPq1RxXTXVK7REHsxrG=s64",
      "userId": "15844820659946946317"
     },
     "user_tz": -480
    },
    "id": "9zXUQlSppXcd",
    "outputId": "de87657d-0fb5-4b8a-8dd4-59993d68256c",
    "scrolled": true
   },
   "outputs": [
    {
     "data": {
      "text/html": [
       "<div>\n",
       "<style scoped>\n",
       "    .dataframe tbody tr th:only-of-type {\n",
       "        vertical-align: middle;\n",
       "    }\n",
       "\n",
       "    .dataframe tbody tr th {\n",
       "        vertical-align: top;\n",
       "    }\n",
       "\n",
       "    .dataframe thead th {\n",
       "        text-align: right;\n",
       "    }\n",
       "</style>\n",
       "<table border=\"1\" class=\"dataframe\">\n",
       "  <thead>\n",
       "    <tr style=\"text-align: right;\">\n",
       "      <th></th>\n",
       "      <th>A</th>\n",
       "      <th>B</th>\n",
       "      <th>C</th>\n",
       "      <th>D</th>\n",
       "    </tr>\n",
       "  </thead>\n",
       "  <tbody>\n",
       "    <tr>\n",
       "      <th>a</th>\n",
       "      <td>0.14686</td>\n",
       "      <td>1.052246</td>\n",
       "      <td>1.581829</td>\n",
       "      <td>0.149371</td>\n",
       "    </tr>\n",
       "  </tbody>\n",
       "</table>\n",
       "</div>"
      ],
      "text/plain": [
       "         A         B         C         D\n",
       "a  0.14686  1.052246  1.581829  0.149371"
      ]
     },
     "execution_count": 114,
     "metadata": {},
     "output_type": "execute_result"
    }
   ],
   "source": [
    "df4_with_NA.dropna(how='any') # note, it will drop row(s) with NA elements"
   ]
  },
  {
   "cell_type": "code",
   "execution_count": 117,
   "metadata": {
    "colab": {
     "base_uri": "https://localhost:8080/",
     "height": 103
    },
    "colab_type": "code",
    "executionInfo": {
     "elapsed": 1156,
     "status": "ok",
     "timestamp": 1595571377378,
     "user": {
      "displayName": "YONG POH YU",
      "photoUrl": "https://lh3.googleusercontent.com/a-/AOh14Ggm8MLlDEFXwbBGZ_6JuVPq1RxXTXVK7REHsxrG=s64",
      "userId": "15844820659946946317"
     },
     "user_tz": -480
    },
    "id": "0H01J2p3pXcn",
    "outputId": "e504b368-6867-4dd8-fc15-b9f425d8e0a0",
    "scrolled": true
   },
   "outputs": [
    {
     "data": {
      "text/plain": [
       "A    0.801308\n",
       "B    1.041222\n",
       "C    0.605615\n",
       "D    0.646152\n",
       "dtype: float64"
      ]
     },
     "execution_count": 117,
     "metadata": {},
     "output_type": "execute_result"
    }
   ],
   "source": [
    "df4_with_NA.mean()\n",
    "\n",
    "# we could use the mean to replace NaN\n",
    "# since in this case dropping missing value is not suitable"
   ]
  },
  {
   "cell_type": "markdown",
   "metadata": {
    "colab_type": "text",
    "id": "FY5JfigzpXcu"
   },
   "source": [
    "### Adding a column"
   ]
  },
  {
   "cell_type": "code",
   "execution_count": 118,
   "metadata": {
    "colab": {
     "base_uri": "https://localhost:8080/",
     "height": 237
    },
    "colab_type": "code",
    "executionInfo": {
     "elapsed": 1237,
     "status": "ok",
     "timestamp": 1595571448496,
     "user": {
      "displayName": "YONG POH YU",
      "photoUrl": "https://lh3.googleusercontent.com/a-/AOh14Ggm8MLlDEFXwbBGZ_6JuVPq1RxXTXVK7REHsxrG=s64",
      "userId": "15844820659946946317"
     },
     "user_tz": -480
    },
    "id": "VmzP51cqpXcu",
    "outputId": "624f9a5a-4082-4faa-fcad-9a06305a8d4f",
    "scrolled": true
   },
   "outputs": [
    {
     "data": {
      "text/html": [
       "<div>\n",
       "<style scoped>\n",
       "    .dataframe tbody tr th:only-of-type {\n",
       "        vertical-align: middle;\n",
       "    }\n",
       "\n",
       "    .dataframe tbody tr th {\n",
       "        vertical-align: top;\n",
       "    }\n",
       "\n",
       "    .dataframe thead th {\n",
       "        text-align: right;\n",
       "    }\n",
       "</style>\n",
       "<table border=\"1\" class=\"dataframe\">\n",
       "  <thead>\n",
       "    <tr style=\"text-align: right;\">\n",
       "      <th></th>\n",
       "      <th>A</th>\n",
       "      <th>B</th>\n",
       "      <th>C</th>\n",
       "      <th>D</th>\n",
       "    </tr>\n",
       "  </thead>\n",
       "  <tbody>\n",
       "    <tr>\n",
       "      <th>a</th>\n",
       "      <td>0.146860</td>\n",
       "      <td>1.052246</td>\n",
       "      <td>1.581829</td>\n",
       "      <td>0.149371</td>\n",
       "    </tr>\n",
       "    <tr>\n",
       "      <th>b</th>\n",
       "      <td>-1.791552</td>\n",
       "      <td>-1.641207</td>\n",
       "      <td>-0.273244</td>\n",
       "      <td>1.498009</td>\n",
       "    </tr>\n",
       "    <tr>\n",
       "      <th>c</th>\n",
       "      <td>-0.235381</td>\n",
       "      <td>-0.593189</td>\n",
       "      <td>0.312513</td>\n",
       "      <td>-1.977474</td>\n",
       "    </tr>\n",
       "    <tr>\n",
       "      <th>d</th>\n",
       "      <td>1.455757</td>\n",
       "      <td>1.845392</td>\n",
       "      <td>0.200602</td>\n",
       "      <td>-0.133385</td>\n",
       "    </tr>\n",
       "    <tr>\n",
       "      <th>e</th>\n",
       "      <td>-0.455358</td>\n",
       "      <td>0.587551</td>\n",
       "      <td>-0.054720</td>\n",
       "      <td>-0.497836</td>\n",
       "    </tr>\n",
       "    <tr>\n",
       "      <th>f</th>\n",
       "      <td>-0.499360</td>\n",
       "      <td>0.679698</td>\n",
       "      <td>0.327516</td>\n",
       "      <td>0.291077</td>\n",
       "    </tr>\n",
       "  </tbody>\n",
       "</table>\n",
       "</div>"
      ],
      "text/plain": [
       "          A         B         C         D\n",
       "a  0.146860  1.052246  1.581829  0.149371\n",
       "b -1.791552 -1.641207 -0.273244  1.498009\n",
       "c -0.235381 -0.593189  0.312513 -1.977474\n",
       "d  1.455757  1.845392  0.200602 -0.133385\n",
       "e -0.455358  0.587551 -0.054720 -0.497836\n",
       "f -0.499360  0.679698  0.327516  0.291077"
      ]
     },
     "execution_count": 118,
     "metadata": {},
     "output_type": "execute_result"
    }
   ],
   "source": [
    "df4"
   ]
  },
  {
   "cell_type": "code",
   "execution_count": 119,
   "metadata": {
    "colab": {
     "base_uri": "https://localhost:8080/",
     "height": 237
    },
    "colab_type": "code",
    "executionInfo": {
     "elapsed": 1416,
     "status": "ok",
     "timestamp": 1595571457358,
     "user": {
      "displayName": "YONG POH YU",
      "photoUrl": "https://lh3.googleusercontent.com/a-/AOh14Ggm8MLlDEFXwbBGZ_6JuVPq1RxXTXVK7REHsxrG=s64",
      "userId": "15844820659946946317"
     },
     "user_tz": -480
    },
    "id": "UD3_F4oRpXcz",
    "outputId": "169a7be5-cd54-4d7d-e303-f5e4f37d56ec",
    "scrolled": true
   },
   "outputs": [
    {
     "data": {
      "text/html": [
       "<div>\n",
       "<style scoped>\n",
       "    .dataframe tbody tr th:only-of-type {\n",
       "        vertical-align: middle;\n",
       "    }\n",
       "\n",
       "    .dataframe tbody tr th {\n",
       "        vertical-align: top;\n",
       "    }\n",
       "\n",
       "    .dataframe thead th {\n",
       "        text-align: right;\n",
       "    }\n",
       "</style>\n",
       "<table border=\"1\" class=\"dataframe\">\n",
       "  <thead>\n",
       "    <tr style=\"text-align: right;\">\n",
       "      <th></th>\n",
       "      <th>A</th>\n",
       "      <th>B</th>\n",
       "      <th>C</th>\n",
       "      <th>D</th>\n",
       "      <th>E</th>\n",
       "    </tr>\n",
       "  </thead>\n",
       "  <tbody>\n",
       "    <tr>\n",
       "      <th>a</th>\n",
       "      <td>0.146860</td>\n",
       "      <td>1.052246</td>\n",
       "      <td>1.581829</td>\n",
       "      <td>0.149371</td>\n",
       "      <td>0</td>\n",
       "    </tr>\n",
       "    <tr>\n",
       "      <th>b</th>\n",
       "      <td>-1.791552</td>\n",
       "      <td>-1.641207</td>\n",
       "      <td>-0.273244</td>\n",
       "      <td>1.498009</td>\n",
       "      <td>1</td>\n",
       "    </tr>\n",
       "    <tr>\n",
       "      <th>c</th>\n",
       "      <td>-0.235381</td>\n",
       "      <td>-0.593189</td>\n",
       "      <td>0.312513</td>\n",
       "      <td>-1.977474</td>\n",
       "      <td>2</td>\n",
       "    </tr>\n",
       "    <tr>\n",
       "      <th>d</th>\n",
       "      <td>1.455757</td>\n",
       "      <td>1.845392</td>\n",
       "      <td>0.200602</td>\n",
       "      <td>-0.133385</td>\n",
       "      <td>3</td>\n",
       "    </tr>\n",
       "    <tr>\n",
       "      <th>e</th>\n",
       "      <td>-0.455358</td>\n",
       "      <td>0.587551</td>\n",
       "      <td>-0.054720</td>\n",
       "      <td>-0.497836</td>\n",
       "      <td>4</td>\n",
       "    </tr>\n",
       "    <tr>\n",
       "      <th>f</th>\n",
       "      <td>-0.499360</td>\n",
       "      <td>0.679698</td>\n",
       "      <td>0.327516</td>\n",
       "      <td>0.291077</td>\n",
       "      <td>5</td>\n",
       "    </tr>\n",
       "  </tbody>\n",
       "</table>\n",
       "</div>"
      ],
      "text/plain": [
       "          A         B         C         D  E\n",
       "a  0.146860  1.052246  1.581829  0.149371  0\n",
       "b -1.791552 -1.641207 -0.273244  1.498009  1\n",
       "c -0.235381 -0.593189  0.312513 -1.977474  2\n",
       "d  1.455757  1.845392  0.200602 -0.133385  3\n",
       "e -0.455358  0.587551 -0.054720 -0.497836  4\n",
       "f -0.499360  0.679698  0.327516  0.291077  5"
      ]
     },
     "execution_count": 119,
     "metadata": {},
     "output_type": "execute_result"
    }
   ],
   "source": [
    "df4['E']=np.arange(6)\n",
    "\n",
    "df4"
   ]
  },
  {
   "cell_type": "markdown",
   "metadata": {
    "colab_type": "text",
    "id": "EM2Rj1a3pXc2"
   },
   "source": [
    "### Grouping"
   ]
  },
  {
   "cell_type": "code",
   "execution_count": 120,
   "metadata": {
    "colab": {
     "base_uri": "https://localhost:8080/",
     "height": 300
    },
    "colab_type": "code",
    "executionInfo": {
     "elapsed": 1159,
     "status": "ok",
     "timestamp": 1595571485469,
     "user": {
      "displayName": "YONG POH YU",
      "photoUrl": "https://lh3.googleusercontent.com/a-/AOh14Ggm8MLlDEFXwbBGZ_6JuVPq1RxXTXVK7REHsxrG=s64",
      "userId": "15844820659946946317"
     },
     "user_tz": -480
    },
    "id": "TcnEtu37pXc2",
    "outputId": "0bb2e05d-9c68-4cac-85dd-f47094f8ede6",
    "scrolled": true
   },
   "outputs": [
    {
     "data": {
      "text/html": [
       "<div>\n",
       "<style scoped>\n",
       "    .dataframe tbody tr th:only-of-type {\n",
       "        vertical-align: middle;\n",
       "    }\n",
       "\n",
       "    .dataframe tbody tr th {\n",
       "        vertical-align: top;\n",
       "    }\n",
       "\n",
       "    .dataframe thead th {\n",
       "        text-align: right;\n",
       "    }\n",
       "</style>\n",
       "<table border=\"1\" class=\"dataframe\">\n",
       "  <thead>\n",
       "    <tr style=\"text-align: right;\">\n",
       "      <th></th>\n",
       "      <th>A</th>\n",
       "      <th>B</th>\n",
       "      <th>C</th>\n",
       "      <th>D</th>\n",
       "    </tr>\n",
       "  </thead>\n",
       "  <tbody>\n",
       "    <tr>\n",
       "      <th>0</th>\n",
       "      <td>foo</td>\n",
       "      <td>one</td>\n",
       "      <td>-1.094099</td>\n",
       "      <td>-1.738192</td>\n",
       "    </tr>\n",
       "    <tr>\n",
       "      <th>1</th>\n",
       "      <td>bar</td>\n",
       "      <td>one</td>\n",
       "      <td>-0.612258</td>\n",
       "      <td>0.309491</td>\n",
       "    </tr>\n",
       "    <tr>\n",
       "      <th>2</th>\n",
       "      <td>foo</td>\n",
       "      <td>two</td>\n",
       "      <td>-0.351516</td>\n",
       "      <td>-0.038330</td>\n",
       "    </tr>\n",
       "    <tr>\n",
       "      <th>3</th>\n",
       "      <td>bar</td>\n",
       "      <td>three</td>\n",
       "      <td>0.285607</td>\n",
       "      <td>0.186315</td>\n",
       "    </tr>\n",
       "    <tr>\n",
       "      <th>4</th>\n",
       "      <td>foo</td>\n",
       "      <td>two</td>\n",
       "      <td>0.235168</td>\n",
       "      <td>-1.553506</td>\n",
       "    </tr>\n",
       "    <tr>\n",
       "      <th>5</th>\n",
       "      <td>bar</td>\n",
       "      <td>two</td>\n",
       "      <td>0.644480</td>\n",
       "      <td>1.861867</td>\n",
       "    </tr>\n",
       "    <tr>\n",
       "      <th>6</th>\n",
       "      <td>foo</td>\n",
       "      <td>one</td>\n",
       "      <td>-1.079990</td>\n",
       "      <td>0.837138</td>\n",
       "    </tr>\n",
       "    <tr>\n",
       "      <th>7</th>\n",
       "      <td>foo</td>\n",
       "      <td>three</td>\n",
       "      <td>0.772721</td>\n",
       "      <td>0.782115</td>\n",
       "    </tr>\n",
       "  </tbody>\n",
       "</table>\n",
       "</div>"
      ],
      "text/plain": [
       "     A      B         C         D\n",
       "0  foo    one -1.094099 -1.738192\n",
       "1  bar    one -0.612258  0.309491\n",
       "2  foo    two -0.351516 -0.038330\n",
       "3  bar  three  0.285607  0.186315\n",
       "4  foo    two  0.235168 -1.553506\n",
       "5  bar    two  0.644480  1.861867\n",
       "6  foo    one -1.079990  0.837138\n",
       "7  foo  three  0.772721  0.782115"
      ]
     },
     "execution_count": 120,
     "metadata": {},
     "output_type": "execute_result"
    }
   ],
   "source": [
    "df5 = pd.DataFrame({'A' : ['foo', 'bar', 'foo', 'bar',\n",
    "                           'foo', 'bar', 'foo', 'foo'],\n",
    "                    'B' : ['one', 'one', 'two', 'three',\n",
    "                           'two', 'two', 'one', 'three'],\n",
    "                    'C' : np.random.randn(8),\n",
    "                    'D' : np.random.randn(8)})\n",
    "\n",
    "df5\n",
    "\n",
    "# multivariate, cuz have many types of variables"
   ]
  },
  {
   "cell_type": "code",
   "execution_count": 121,
   "metadata": {
    "colab": {
     "base_uri": "https://localhost:8080/",
     "height": 143
    },
    "colab_type": "code",
    "executionInfo": {
     "elapsed": 1139,
     "status": "ok",
     "timestamp": 1595571552120,
     "user": {
      "displayName": "YONG POH YU",
      "photoUrl": "https://lh3.googleusercontent.com/a-/AOh14Ggm8MLlDEFXwbBGZ_6JuVPq1RxXTXVK7REHsxrG=s64",
      "userId": "15844820659946946317"
     },
     "user_tz": -480
    },
    "id": "ofLOkK7xpXc8",
    "outputId": "0bfe0ea6-c4e7-410a-99cf-9a88dd6193c4",
    "scrolled": true
   },
   "outputs": [
    {
     "data": {
      "text/html": [
       "<div>\n",
       "<style scoped>\n",
       "    .dataframe tbody tr th:only-of-type {\n",
       "        vertical-align: middle;\n",
       "    }\n",
       "\n",
       "    .dataframe tbody tr th {\n",
       "        vertical-align: top;\n",
       "    }\n",
       "\n",
       "    .dataframe thead th {\n",
       "        text-align: right;\n",
       "    }\n",
       "</style>\n",
       "<table border=\"1\" class=\"dataframe\">\n",
       "  <thead>\n",
       "    <tr style=\"text-align: right;\">\n",
       "      <th></th>\n",
       "      <th>C</th>\n",
       "      <th>D</th>\n",
       "    </tr>\n",
       "    <tr>\n",
       "      <th>A</th>\n",
       "      <th></th>\n",
       "      <th></th>\n",
       "    </tr>\n",
       "  </thead>\n",
       "  <tbody>\n",
       "    <tr>\n",
       "      <th>bar</th>\n",
       "      <td>0.105943</td>\n",
       "      <td>0.785891</td>\n",
       "    </tr>\n",
       "    <tr>\n",
       "      <th>foo</th>\n",
       "      <td>-0.303543</td>\n",
       "      <td>-0.342155</td>\n",
       "    </tr>\n",
       "  </tbody>\n",
       "</table>\n",
       "</div>"
      ],
      "text/plain": [
       "            C         D\n",
       "A                      \n",
       "bar  0.105943  0.785891\n",
       "foo -0.303543 -0.342155"
      ]
     },
     "execution_count": 121,
     "metadata": {},
     "output_type": "execute_result"
    }
   ],
   "source": [
    "df5.groupby('A').mean()"
   ]
  },
  {
   "cell_type": "code",
   "execution_count": 122,
   "metadata": {
    "colab": {
     "base_uri": "https://localhost:8080/",
     "height": 268
    },
    "colab_type": "code",
    "executionInfo": {
     "elapsed": 1141,
     "status": "ok",
     "timestamp": 1595571568677,
     "user": {
      "displayName": "YONG POH YU",
      "photoUrl": "https://lh3.googleusercontent.com/a-/AOh14Ggm8MLlDEFXwbBGZ_6JuVPq1RxXTXVK7REHsxrG=s64",
      "userId": "15844820659946946317"
     },
     "user_tz": -480
    },
    "id": "QykQ4PI5pXdA",
    "outputId": "8402c933-6a4f-4a54-ff60-7600830dc4e7",
    "scrolled": true
   },
   "outputs": [
    {
     "data": {
      "text/html": [
       "<div>\n",
       "<style scoped>\n",
       "    .dataframe tbody tr th:only-of-type {\n",
       "        vertical-align: middle;\n",
       "    }\n",
       "\n",
       "    .dataframe tbody tr th {\n",
       "        vertical-align: top;\n",
       "    }\n",
       "\n",
       "    .dataframe thead th {\n",
       "        text-align: right;\n",
       "    }\n",
       "</style>\n",
       "<table border=\"1\" class=\"dataframe\">\n",
       "  <thead>\n",
       "    <tr style=\"text-align: right;\">\n",
       "      <th></th>\n",
       "      <th></th>\n",
       "      <th>C</th>\n",
       "      <th>D</th>\n",
       "    </tr>\n",
       "    <tr>\n",
       "      <th>A</th>\n",
       "      <th>B</th>\n",
       "      <th></th>\n",
       "      <th></th>\n",
       "    </tr>\n",
       "  </thead>\n",
       "  <tbody>\n",
       "    <tr>\n",
       "      <th rowspan=\"3\" valign=\"top\">bar</th>\n",
       "      <th>one</th>\n",
       "      <td>-0.612258</td>\n",
       "      <td>0.309491</td>\n",
       "    </tr>\n",
       "    <tr>\n",
       "      <th>three</th>\n",
       "      <td>0.285607</td>\n",
       "      <td>0.186315</td>\n",
       "    </tr>\n",
       "    <tr>\n",
       "      <th>two</th>\n",
       "      <td>0.644480</td>\n",
       "      <td>1.861867</td>\n",
       "    </tr>\n",
       "    <tr>\n",
       "      <th rowspan=\"3\" valign=\"top\">foo</th>\n",
       "      <th>one</th>\n",
       "      <td>-1.087045</td>\n",
       "      <td>-0.450527</td>\n",
       "    </tr>\n",
       "    <tr>\n",
       "      <th>three</th>\n",
       "      <td>0.772721</td>\n",
       "      <td>0.782115</td>\n",
       "    </tr>\n",
       "    <tr>\n",
       "      <th>two</th>\n",
       "      <td>-0.058174</td>\n",
       "      <td>-0.795918</td>\n",
       "    </tr>\n",
       "  </tbody>\n",
       "</table>\n",
       "</div>"
      ],
      "text/plain": [
       "                  C         D\n",
       "A   B                        \n",
       "bar one   -0.612258  0.309491\n",
       "    three  0.285607  0.186315\n",
       "    two    0.644480  1.861867\n",
       "foo one   -1.087045 -0.450527\n",
       "    three  0.772721  0.782115\n",
       "    two   -0.058174 -0.795918"
      ]
     },
     "execution_count": 122,
     "metadata": {},
     "output_type": "execute_result"
    }
   ],
   "source": [
    "df5.groupby(['A','B']).mean()"
   ]
  },
  {
   "cell_type": "markdown",
   "metadata": {
    "colab_type": "text",
    "id": "bYjOw2SKpXdC"
   },
   "source": [
    "### writing to a csv file"
   ]
  },
  {
   "cell_type": "code",
   "execution_count": 123,
   "metadata": {
    "colab": {},
    "colab_type": "code",
    "executionInfo": {
     "elapsed": 1169,
     "status": "ok",
     "timestamp": 1595571624262,
     "user": {
      "displayName": "YONG POH YU",
      "photoUrl": "https://lh3.googleusercontent.com/a-/AOh14Ggm8MLlDEFXwbBGZ_6JuVPq1RxXTXVK7REHsxrG=s64",
      "userId": "15844820659946946317"
     },
     "user_tz": -480
    },
    "id": "-j4fChjvpXdD"
   },
   "outputs": [],
   "source": [
    "df5.to_csv('my_csv.csv')"
   ]
  },
  {
   "cell_type": "markdown",
   "metadata": {
    "colab_type": "text",
    "id": "IbrYnxhQpXdF"
   },
   "source": [
    "### reading from a csv file"
   ]
  },
  {
   "cell_type": "code",
   "execution_count": 124,
   "metadata": {
    "colab": {
     "base_uri": "https://localhost:8080/",
     "height": 300
    },
    "colab_type": "code",
    "executionInfo": {
     "elapsed": 1126,
     "status": "ok",
     "timestamp": 1595571626962,
     "user": {
      "displayName": "YONG POH YU",
      "photoUrl": "https://lh3.googleusercontent.com/a-/AOh14Ggm8MLlDEFXwbBGZ_6JuVPq1RxXTXVK7REHsxrG=s64",
      "userId": "15844820659946946317"
     },
     "user_tz": -480
    },
    "id": "aKVaMfM9pXdG",
    "outputId": "558d8eaa-5e83-4592-ef7a-47c9d02dad8b",
    "scrolled": true
   },
   "outputs": [
    {
     "data": {
      "text/html": [
       "<div>\n",
       "<style scoped>\n",
       "    .dataframe tbody tr th:only-of-type {\n",
       "        vertical-align: middle;\n",
       "    }\n",
       "\n",
       "    .dataframe tbody tr th {\n",
       "        vertical-align: top;\n",
       "    }\n",
       "\n",
       "    .dataframe thead th {\n",
       "        text-align: right;\n",
       "    }\n",
       "</style>\n",
       "<table border=\"1\" class=\"dataframe\">\n",
       "  <thead>\n",
       "    <tr style=\"text-align: right;\">\n",
       "      <th></th>\n",
       "      <th>Unnamed: 0</th>\n",
       "      <th>A</th>\n",
       "      <th>B</th>\n",
       "      <th>C</th>\n",
       "      <th>D</th>\n",
       "    </tr>\n",
       "  </thead>\n",
       "  <tbody>\n",
       "    <tr>\n",
       "      <th>0</th>\n",
       "      <td>0</td>\n",
       "      <td>foo</td>\n",
       "      <td>one</td>\n",
       "      <td>-1.094099</td>\n",
       "      <td>-1.738192</td>\n",
       "    </tr>\n",
       "    <tr>\n",
       "      <th>1</th>\n",
       "      <td>1</td>\n",
       "      <td>bar</td>\n",
       "      <td>one</td>\n",
       "      <td>-0.612258</td>\n",
       "      <td>0.309491</td>\n",
       "    </tr>\n",
       "    <tr>\n",
       "      <th>2</th>\n",
       "      <td>2</td>\n",
       "      <td>foo</td>\n",
       "      <td>two</td>\n",
       "      <td>-0.351516</td>\n",
       "      <td>-0.038330</td>\n",
       "    </tr>\n",
       "    <tr>\n",
       "      <th>3</th>\n",
       "      <td>3</td>\n",
       "      <td>bar</td>\n",
       "      <td>three</td>\n",
       "      <td>0.285607</td>\n",
       "      <td>0.186315</td>\n",
       "    </tr>\n",
       "    <tr>\n",
       "      <th>4</th>\n",
       "      <td>4</td>\n",
       "      <td>foo</td>\n",
       "      <td>two</td>\n",
       "      <td>0.235168</td>\n",
       "      <td>-1.553506</td>\n",
       "    </tr>\n",
       "    <tr>\n",
       "      <th>5</th>\n",
       "      <td>5</td>\n",
       "      <td>bar</td>\n",
       "      <td>two</td>\n",
       "      <td>0.644480</td>\n",
       "      <td>1.861867</td>\n",
       "    </tr>\n",
       "    <tr>\n",
       "      <th>6</th>\n",
       "      <td>6</td>\n",
       "      <td>foo</td>\n",
       "      <td>one</td>\n",
       "      <td>-1.079990</td>\n",
       "      <td>0.837138</td>\n",
       "    </tr>\n",
       "    <tr>\n",
       "      <th>7</th>\n",
       "      <td>7</td>\n",
       "      <td>foo</td>\n",
       "      <td>three</td>\n",
       "      <td>0.772721</td>\n",
       "      <td>0.782115</td>\n",
       "    </tr>\n",
       "  </tbody>\n",
       "</table>\n",
       "</div>"
      ],
      "text/plain": [
       "   Unnamed: 0    A      B         C         D\n",
       "0           0  foo    one -1.094099 -1.738192\n",
       "1           1  bar    one -0.612258  0.309491\n",
       "2           2  foo    two -0.351516 -0.038330\n",
       "3           3  bar  three  0.285607  0.186315\n",
       "4           4  foo    two  0.235168 -1.553506\n",
       "5           5  bar    two  0.644480  1.861867\n",
       "6           6  foo    one -1.079990  0.837138\n",
       "7           7  foo  three  0.772721  0.782115"
      ]
     },
     "execution_count": 124,
     "metadata": {},
     "output_type": "execute_result"
    }
   ],
   "source": [
    "pd.read_csv('my_csv.csv')"
   ]
  },
  {
   "cell_type": "code",
   "execution_count": 125,
   "metadata": {
    "colab": {
     "base_uri": "https://localhost:8080/",
     "height": 1000
    },
    "colab_type": "code",
    "executionInfo": {
     "elapsed": 2328,
     "status": "ok",
     "timestamp": 1595571639941,
     "user": {
      "displayName": "YONG POH YU",
      "photoUrl": "https://lh3.googleusercontent.com/a-/AOh14Ggm8MLlDEFXwbBGZ_6JuVPq1RxXTXVK7REHsxrG=s64",
      "userId": "15844820659946946317"
     },
     "user_tz": -480
    },
    "id": "4D_b287SpXdL",
    "outputId": "e62eae27-d66d-4696-c8e7-d574505fe76b"
   },
   "outputs": [
    {
     "data": {
      "text/plain": [
       "[Empty DataFrame\n",
       " Columns: [Unnamed: 0, This article includes a list of general references, but it lacks sufficient corresponding inline citations. Please help to improve this article by introducing more precise citations. (September 2017) (Learn how and when to remove this template message)]\n",
       " Index: [],\n",
       "             Map all coordinates using: OpenStreetMap\n",
       " 0  Download coordinates as: KML GPX (all coordina...,\n",
       " Empty DataFrame\n",
       " Columns: [Unnamed: 0, This section needs additional citations for verification. Please help improve this article by adding citations to reliable sources in this section. Unsourced material may be challenged and removed. (August 2007) (Learn how and when to remove this template message)]\n",
       " Index: [],\n",
       "                                       Category  \\\n",
       " 0                           Building[4] (list)   \n",
       " 1                              Compliant tower   \n",
       " 2              Self-supporting tower[5] (list)   \n",
       " 3                     Guyed steel lattice mast   \n",
       " 4                        Hyperboloid structure   \n",
       " 5     Clock tower (multi-functional structure)   \n",
       " 6              Self-supporting tower[5] (list)   \n",
       " 7                        Fixed steel structure   \n",
       " 8                              Moveable object   \n",
       " 9                                Mast radiator   \n",
       " 10                               Twin building   \n",
       " 11                           Steel building[6]   \n",
       " 12                                       Radar   \n",
       " 13                       Partially guyed tower   \n",
       " 14                           Electricity pylon   \n",
       " 15                       Partially guyed tower   \n",
       " 16                                      Bridge   \n",
       " 17  Blaw-Knox tower (diamond cantilever tower)   \n",
       " 18                              Steel Building   \n",
       " 19                       Landmark Tower design   \n",
       " 20                         Elevator test tower   \n",
       " 21                                Wind turbine   \n",
       " 22                                     Minaret   \n",
       " 23                           Solar power tower   \n",
       " 24                                Ferris wheel   \n",
       " 25                             Crane (machine)   \n",
       " 26                Aerial tramway support tower   \n",
       " 27                                  Jackup rig   \n",
       " 28                               Cooling tower   \n",
       " 29                                    Flagpole   \n",
       " 30                                    Monument   \n",
       " 31                                 Water tower   \n",
       " 32                                      Statue   \n",
       " 33                               Masonry tower   \n",
       " 34                          Inclined structure   \n",
       " 35                                     Obelisk   \n",
       " 36                      Power station building   \n",
       " 37                            Masonry building   \n",
       " 38                                Church tower   \n",
       " 39                             Industrial hall   \n",
       " 40                              Memorial cross   \n",
       " 41                   Air traffic control tower   \n",
       " 42                          Tallest swing ride   \n",
       " 43                              Roller coaster   \n",
       " 44                                        Tomb   \n",
       " 45                                  Drop tower   \n",
       " 46                                Gantry crane   \n",
       " 47                                       Stupa   \n",
       " 48                            Wooden structure   \n",
       " 49                                Storage silo   \n",
       " 50                                   Gasometer   \n",
       " 51                  Vertical axis wind turbine   \n",
       " 52     Clock tower (single function structure)   \n",
       " 53                             Wooden building   \n",
       " 54                                      Sphere   \n",
       " 55                                  Lighthouse   \n",
       " 56                                     Gopuram   \n",
       " 57                               Loam building   \n",
       " \n",
       "                                             Structure               Country  \\\n",
       " 0                                        Burj Khalifa  United Arab Emirates   \n",
       " 1                            Petronius (oil platform)         United States   \n",
       " 2                                       Tokyo Skytree                 Japan   \n",
       " 3                                        KVLY-TV mast         United States   \n",
       " 4                                        Canton Tower                 China   \n",
       " 5                                       Abraj Al Bait          Saudi Arabia   \n",
       " 6                                     Ostankino Tower    Russian Federation   \n",
       " 7                           Bullwinkle (oil platform)         United States   \n",
       " 8                                    Troll A platform                Norway   \n",
       " 9                           Lualualei VLF transmitter         United States   \n",
       " 10                               Petronas Twin Towers              Malaysia   \n",
       " 11                                       Willis Tower         United States   \n",
       " 12                              Dimona Radar Facility                Israel   \n",
       " 13                                  Indosiar TV Tower             Indonesia   \n",
       " 14               Jintang-Cezi Overhead Powerline Link                 China   \n",
       " 15                                    Gerbrandy Tower           Netherlands   \n",
       " 16                                     Millau Viaduct                France   \n",
       " 17                                     Lakihegy Tower               Hungary   \n",
       " 18                                          The Shard        United Kingdom   \n",
       " 19                                         Star Tower         United States   \n",
       " 20                                           H1 Tower                 Japan   \n",
       " 21                                Haliade-X Prototype           Netherlands   \n",
       " 22                                  Djamaa el Djazaïr               Algeria   \n",
       " 23          Mohammed bin Rashid Al Maktoum Solar Park  United Arab Emirates   \n",
       " 24                                          Ain Dubai                   UAE   \n",
       " 25                                        LR 13000[7]               Germany   \n",
       " 26             Cat Hai – Phu Long cable car towers[8]               Vietnam   \n",
       " 27                               Noble Lloyd Noble[9]               Liberia   \n",
       " 28                             Pingshan Power Station                 China   \n",
       " 29                                     Cairo Flagpole                 Egypt   \n",
       " 30                                       Gateway Arch         United States   \n",
       " 31                        Main tower of Kuwait Towers                Kuwait   \n",
       " 32                                    Statue of Unity                 India   \n",
       " 33                             Anaconda Smelter Stack         United States   \n",
       " 34                                    Olympic Stadium                Canada   \n",
       " 35                               San Jacinto Monument         United States   \n",
       " 36                         Niederaussem Power Station               Germany   \n",
       " 37                                  Mole Antonelliana                 Italy   \n",
       " 38                                      Ulmer Münster               Germany   \n",
       " 39                          Vehicle Assembly Building         United States   \n",
       " 40                 Santa Cruz del Valle de los Caídos                 Spain   \n",
       " 41  Kuala Lumpur International Airport 2 Control T...              Malaysia   \n",
       " 42                             Bollywood Skyflyer[12]  United Arab Emirates   \n",
       " 43                                          Kingda Ka         United States   \n",
       " 44                              Great Pyramid of Giza                 Egypt   \n",
       " 45                            Zumanjaro: Drop of Doom         United States   \n",
       " 46                                      Kockums Crane           South Korea   \n",
       " 47                                     Jetavanaramaya             Sri Lanka   \n",
       " 48                                Gliwice Radio Tower                Poland   \n",
       " 49                                    Swissmill Tower           Switzerland   \n",
       " 50                               Gasometer Oberhausen               Germany   \n",
       " 51                                           Éole[13]                Canada   \n",
       " 52            Joseph Chamberlain Memorial Clock Tower        United Kingdom   \n",
       " 53                                         Mjøstårnet                Norway   \n",
       " 54                                       Avicii Arena                Sweden   \n",
       " 55                              Île Vierge Lighthouse                France   \n",
       " 56                                Murudeshwara Temple                 India   \n",
       " 57                                Weilburg Pisé House               Germany   \n",
       " \n",
       "                          Location Height (meters)  Height (feet)  Year built  \\\n",
       " 0                           Dubai           829.8       2722.000        2010   \n",
       " 1                  Gulf of Mexico             640       2100.000        2000   \n",
       " 2                           Tokyo             634       2080.000        2011   \n",
       " 3         Blanchard, North Dakota             629       2063.000        1963   \n",
       " 4                       Guangzhou             604       1982.000        2010   \n",
       " 5                           Mecca             601       1972.000        2012   \n",
       " 6                          Moscow             540       1772.000        1967   \n",
       " 7                  Gulf of Mexico             529       1736.000        1988   \n",
       " 8                       North Sea             472       1549.000        1996   \n",
       " 9               Lualualei, Hawaii             458       1503.000        1972   \n",
       " 10                   Kuala Lumpur             452       1483.000        1998   \n",
       " 11              Chicago, Illinois             442       1450.000        1974   \n",
       " 12                         Dimona             400       1312.000        2008   \n",
       " 13                        Jakarta             395       1296.000        2006   \n",
       " 14                 Jintang Island             380       1247.000        2019   \n",
       " 15                    IJsselstein           366.8       1203.000        1961   \n",
       " 16                         Millau             342       1122.000        2004   \n",
       " 17              Szigetszentmiklós             314       1031.000        1946   \n",
       " 18                         London             309       1016.000        2012   \n",
       " 19                     Cincinnati             291        954.000        1991   \n",
       " 20                      Guangzhou           273.8        898.000        2020   \n",
       " 21                      Rotterdam             270        886.000        2019   \n",
       " 22                        Algiers             265        870.000        2019   \n",
       " 23                  Saih Al-Dahal             262        860.000        2020   \n",
       " 24         Bluewater Island Dubai             250        820.000        2021   \n",
       " 25                            NaN             248        814.000        2013   \n",
       " 26                        Hạ Long           214.8        704.000        2020   \n",
       " 27                            NaN             214        702.000        2016   \n",
       " 28                        Huaibei             210        689.000        2020   \n",
       " 29     New Administrative Capital     201.952[10]        662.572        2021   \n",
       " 30            St. Louis, Missouri             192        630.000        1965   \n",
       " 31                    Kuwait City             187        614.000        1979   \n",
       " 32      Narmada district, Gujarat             182        597.000        2018   \n",
       " 33              Anaconda, Montana           178.3        585.000        1919   \n",
       " 34                       Montreal             175        574.000        1976   \n",
       " 35                La Porte, Texas           173.7        570.000        1939   \n",
       " 36                       Bergheim             172        564.000        2002   \n",
       " 37                         Torino           167.5        550.000        1889   \n",
       " 38                            Ulm             162        530.000        1890   \n",
       " 39  Kennedy Space Center, Florida             160        525.000        1966   \n",
       " 40                    El Escorial           152.4        500.000        1957   \n",
       " 41                         Sepang           141.3        463.600    2013[11]   \n",
       " 42                          Dubai             140        460.000        2021   \n",
       " 43            Jackson, New Jersey          138.98        456.000        2005   \n",
       " 44                           Giza           138.8        455.200    2560 BCE   \n",
       " 45           Jackson Township, NJ             139        456.000        2014   \n",
       " 46                          Ulsan             138        453.000        1974   \n",
       " 47                   Anuradhapura             122        400.000  273–301 CE   \n",
       " 48                        Gliwice             118        387.000        1935   \n",
       " 49                         Zurich             118        387.000        2016   \n",
       " 50                     Oberhausen           117.5        386.000        1929   \n",
       " 51                       Gaspésie             110        361.000        1987   \n",
       " 52                     Birmingham             100        328.000        1908   \n",
       " 53                     Brumunddal            85.4        280.000        2019   \n",
       " 54                      Stockholm              85        279.000        1989   \n",
       " 55                      Finistère            82.5        271.000        1902   \n",
       " 56                   Murudeshwara              76        249.000        2008   \n",
       " 57                       Weilburg            23.2         76.000        1828   \n",
       " \n",
       "                                           Coordinates  \n",
       " 0   .mw-parser-output .geo-default,.mw-parser-outp...  \n",
       " 1     29°06′30″N 87°56′30″W﻿ / ﻿29.10833°N 87.94167°W  \n",
       " 2   35°42′36.5″N 139°48′39″E﻿ / ﻿35.710139°N 139.8...  \n",
       " 3     47°20′32″N 97°17′21″W﻿ / ﻿47.34222°N 97.28917°W  \n",
       " 4     23°6′32″N 113°19′8″E﻿ / ﻿23.10889°N 113.31889°E  \n",
       " 5     21°25′08″N 39°49′35″E﻿ / ﻿21.41889°N 39.82639°E  \n",
       " 6                               55°49′11″N 37°36′42″E  \n",
       " 7     27°53′01″N 90°54′04″W﻿ / ﻿27.88361°N 90.90111°W  \n",
       " 8                 60°40′N 3°40′E﻿ / ﻿60.667°N 3.667°E  \n",
       " 9   21°25′11.87″N 158°08′53.67″W﻿ / ﻿21.4199639°N ...  \n",
       " 10  3°09′27.45″N 101°42′40.7″E﻿ / ﻿3.1576250°N 101...  \n",
       " 11      41°52′44″N 87°38′09″W﻿ / ﻿41.8789°N 87.6358°W  \n",
       " 12  30°58′6.93″N 35°05′49.64″E﻿ / ﻿30.9685917°N 35...  \n",
       " 13  6°11′37.95″S 106°46′5.59″E﻿ / ﻿6.1938750°S 106...  \n",
       " 14  30°05′0.88″N 121°53′10.5″E﻿ / ﻿30.0835778°N 12...  \n",
       " 15  52°00′36.24″N 05°03′12.87″E﻿ / ﻿52.0100667°N 5...  \n",
       " 16  44°05′09.97″N 03°01′17.94″E﻿ / ﻿44.0861028°N 3...  \n",
       " 17    47°22′23″N 19°00′16″E﻿ / ﻿47.37306°N 19.00444°E  \n",
       " 18  51°30′9.59″N 0°05′7.20″E﻿ / ﻿51.5026639°N 0.08...  \n",
       " 19    39°12′01″N 84°31′22″W﻿ / ﻿39.20028°N 84.52278°W  \n",
       " 20  23°01′03″N 113°17′30″E﻿ / ﻿23.01750°N 113.29167°E  \n",
       " 21  51°57′44.8″N 4°0′41.96″E﻿ / ﻿51.962444°N 4.011...  \n",
       " 22      36°44′09″N 3°08′17″E﻿ / ﻿36.73583°N 3.13806°E  \n",
       " 23       24°45′17″N 55°21′54″E﻿ / ﻿24.7547°N 55.365°E  \n",
       " 24                                                NaN  \n",
       " 25                                          (movable)  \n",
       " 26                                                NaN  \n",
       " 27                                          (movable)  \n",
       " 28  33°49′53.7″N 116°49′39.7″E﻿ / ﻿33.831583°N 116...  \n",
       " 29                                                NaN  \n",
       " 30  38°37′28.62″N 90°11′5.87″W﻿ / ﻿38.6246167°N 90...  \n",
       " 31  29°23′22.75″N 48°00′11.57″E﻿ / ﻿29.3896528°N 4...  \n",
       " 32      21°50′17″N 73°43′09″E﻿ / ﻿21.8380°N 73.7191°E  \n",
       " 33  46°06′36.53″N 112°54′48.8″W﻿ / ﻿46.1101472°N 1...  \n",
       " 34  45°33′33.53″N 73°33′7.61″W﻿ / ﻿45.5593139°N 73...  \n",
       " 35  29°44′59.46″N 95°04′50.52″W﻿ / ﻿29.7498500°N 9...  \n",
       " 36     50°59′44″N 06°40′09″E﻿ / ﻿50.99556°N 6.66917°E  \n",
       " 37  45°04′8.45″N 7°41′35.62″E﻿ / ﻿45.0690139°N 7.6...  \n",
       " 38  48°23′55″N 9°59′30.78″E﻿ / ﻿48.39861°N 9.99188...  \n",
       " 39  28°35′9.64″N 80°39′2.11″W﻿ / ﻿28.5860111°N 80....  \n",
       " 40  40°38′31.46″N 4°9′19.6″W﻿ / ﻿40.6420722°N 4.15...  \n",
       " 41  2°44′26″N 101°40′45″E﻿ / ﻿2.740486°N 101.679069°E  \n",
       " 42    25°5′0.0″N 55°18′0″E﻿ / ﻿25.083333°N 55.30000°E  \n",
       " 43  40°08′26.54″N 74°25′59.83″W﻿ / ﻿40.1407056°N 7...  \n",
       " 44  29°58′44.93″N 31°08′3.09″E﻿ / ﻿29.9791472°N 31...  \n",
       " 45  40°08′26″N 74°26′01″W﻿ / ﻿40.140623°N 74.433543°W  \n",
       " 46                                                NaN  \n",
       " 47      8°21′06″N 80°24′13″E﻿ / ﻿8.35167°N 80.40361°E  \n",
       " 48  50°18′48.12″N 18°41′20.26″E﻿ / ﻿50.3133667°N 1...  \n",
       " 49    47°23′23″N 8°31′38″E﻿ / ﻿47.389628°N 8.527086°E  \n",
       " 50     Currently used as an exhibition and event hall  \n",
       " 51    49°04′35″N 66°44′06″W﻿ / ﻿49.07639°N 66.73500°W  \n",
       " 52        52°27′00″N 1°55′51″W﻿ / ﻿52.4499°N 1.9307°W  \n",
       " 53    60°52′38″N 10°55′51″E﻿ / ﻿60.87722°N 10.93083°E  \n",
       " 54  59°17′36.92″N 18°04′58.79″E﻿ / ﻿59.2935889°N 1...  \n",
       " 55                                                NaN  \n",
       " 56  14°05′39.11″N 74°29′6.59″E﻿ / ﻿14.0941972°N 74...  \n",
       " 57  50°29′13.28″N 8°15′34.11″E﻿ / ﻿50.4870222°N 8....  ,\n",
       "                                Category                     Structure  \\\n",
       " 0                            Guyed mast             Warsaw Radio Mast   \n",
       " 1             Scientific research tower                    BREN Tower   \n",
       " 2              Guyed tubular steel mast  Shushi-Wan Omega Transmitter   \n",
       " 3   Structure for scientific experiment             Smokey Shot Tower   \n",
       " 4                   Solar updraft tower      Manzanares Solar Chimney   \n",
       " 5                      Wooden structure    Mühlacker Wood Radio Tower   \n",
       " 6                      Masonry building             Mole Antonelliana   \n",
       " 7           Pre-Industrial era building             Lincoln Cathedral   \n",
       " 8                             Telescope             Arecibo Telescope   \n",
       " 9                             Gasometer     Gasometer Zeche Nordstern   \n",
       " 10                         Storage silo                Henninger Turm   \n",
       " \n",
       "            Country              Location  Height (metres)  Height (feet)  \\\n",
       " 0           Poland                 Gąbin           646.38         2121.0   \n",
       " 1    United States      Nevada Test Site           462.00         1516.0   \n",
       " 2            Japan              Tsushima           389.00         1276.0   \n",
       " 3    United States      Nevada Test Site           213.00          700.0   \n",
       " 4            Spain            Manzanares           195.00          640.0   \n",
       " 5          Germany             Mühlacker           190.00          623.0   \n",
       " 6            Italy                 Turin           167.50          549.5   \n",
       " 7   United Kingdom               Lincoln           160.00          524.0   \n",
       " 8      Puerto Rico  Arecibo, Puerto Rico           150.00          492.0   \n",
       " 9          Germany         Gelsenkirchen           147.00          482.0   \n",
       " 10         Germany             Frankfurt           120.00          394.0   \n",
       " \n",
       "                                           Coordinates  \\\n",
       " 0   52°22′3.74″N 19°48′8.73″E﻿ / ﻿52.3677056°N 19....   \n",
       " 1   36°46′50.23″N 116°14′36.9″W﻿ / ﻿36.7806194°N 1...   \n",
       " 2   34°36′53″N 129°27′13″E﻿ / ﻿34.61472°N 129.45361°E   \n",
       " 3   37°11′13.63″N 116°4′7.93″W﻿ / ﻿37.1871194°N 11...   \n",
       " 4   39°02′34.45″N 3°15′12.21″W﻿ / ﻿39.0429028°N 3....   \n",
       " 5   48°56′27.67″N 8°51′8.24″E﻿ / ﻿48.9410194°N 8.8...   \n",
       " 6   45°04′8.45″N 7°41′35.62″E﻿ / ﻿45.0690139°N 7.6...   \n",
       " 7   53°14′3.26″N 0°32′10.54″W﻿ / ﻿53.2342389°N 0.5...   \n",
       " 8     18°20′39″N 66°45′10″W﻿ / ﻿18.34417°N 66.75278°W   \n",
       " 9                                                 NaN   \n",
       " 10  50°05′50.18″N 8°41′36.81″E﻿ / ﻿50.0972722°N 8....   \n",
       " \n",
       "                                               Remarks  \n",
       " 0      Completed in 1974, collapsed on August 8, 1991  \n",
       " 1      Completed in 1962, demolished May 23, 2012[14]  \n",
       " 2               Completed in 1973, dismantled in 1998  \n",
       " 3   Guyed mast, which carried 44 kt yield nuclear ...  \n",
       " 4   Completed in 1982, the tower's guy-wires were ...  \n",
       " 5   Completed in 1934, destroyed on April 6, 1945,...  \n",
       " 6   Spire destroyed by a tornado in 1953 (rebuilt ...  \n",
       " 7          Completed in 1311, spire blown off in 1549  \n",
       " 8    Completed in 1963, collapsed on December 1, 2020  \n",
       " 9   Completed in 1938, damaged at an air raid on M...  \n",
       " 10            Constructed in 1961, demolished in 2013  ,\n",
       "                      Category                                       Structure  \\\n",
       " 0                    Category                                       Structure   \n",
       " 1                  Mixed-use*                                    Burj Khalifa   \n",
       " 2                  Industrial                        Petronius (oil platform)   \n",
       " 3                      Office                          Ping An Finance Center   \n",
       " 4                 Residential                              Central Park Tower   \n",
       " 5                    Military                  Large masts of INS Kattabomman   \n",
       " 6                       Hotel                                Gevora Hotel[15]   \n",
       " 7   Scientific research tower                   Amazon Tall Tower Observatory   \n",
       " 8                 Educational                         Moscow State University   \n",
       " 9                   Religious                               Djamaa el Djazaïr   \n",
       " 10                   Hospital   Outpatient Center, Houston Methodist Hospital   \n",
       " 11               Air cleaning  Xi'an air purification tower (HSALSCS)[17][18]   \n",
       " \n",
       "                  Country                 Location Architectural top  \\\n",
       " 0                Country                 Location          (metres)   \n",
       " 1   United Arab Emirates                    Dubai               830   \n",
       " 2          United States           Gulf of Mexico               640   \n",
       " 3                  China                 Shenzhen               555   \n",
       " 4          United States            New York City             472.4   \n",
       " 5                  India  Tirunelveli, Tamil Nadu               471   \n",
       " 6   United Arab Emirates                    Dubai             356.3   \n",
       " 7                 Brazil  São Sebastião do Uatumã           325[16]   \n",
       " 8                 Russia                   Moscow               240   \n",
       " 9                Algeria                  Algiers               265   \n",
       " 10         United States                  Houston            156.05   \n",
       " 11                 China                    Xi'an               NaN   \n",
       " \n",
       "    Architectural top.1  \n",
       " 0               (feet)  \n",
       " 1                 2722  \n",
       " 2                 2100  \n",
       " 3                 1821  \n",
       " 4                 1550  \n",
       " 5                 1545  \n",
       " 6                 1169  \n",
       " 7                 1066  \n",
       " 8                  787  \n",
       " 9                  870  \n",
       " 10               511.8  \n",
       " 11                 NaN  ,\n",
       "                                       Date (event) Architectural top  \\\n",
       " 0                     2010: Burj Khalifa completed      Burj Khalifa   \n",
       " 1        2009: CTBUH omits Height to Roof category        Taipei 101   \n",
       " 2  2008: Shanghai World Financial Center completed        Taipei 101   \n",
       " 3                       2003: Taipei 101 completed        Taipei 101   \n",
       " 4             2000: Willis Tower antenna extension   Petronas Towers   \n",
       " 5                  1998: Petronas Towers completed   Petronas Towers   \n",
       " 6                   1996: CTBUH defines categories      Willis Tower   \n",
       " \n",
       "             Highest occupied floor                             Roof  \\\n",
       " 0                     Burj Khalifa                              NaN   \n",
       " 1  Shanghai World Financial Center                              NaN   \n",
       " 2  Shanghai World Financial Center  Shanghai World Financial Center   \n",
       " 3                       Taipei 101                       Taipei 101   \n",
       " 4                     Willis Tower                     Willis Tower   \n",
       " 5                     Willis Tower                     Willis Tower   \n",
       " 6                     Willis Tower                     Willis Tower   \n",
       " \n",
       "                   Tip  \n",
       " 0        Burj Khalifa  \n",
       " 1        Willis Tower  \n",
       " 2        Willis Tower  \n",
       " 3        Willis Tower  \n",
       " 4        Willis Tower  \n",
       " 5  World Trade Center  \n",
       " 6  World Trade Center  ,\n",
       "         Record from Record held (years)  \\\n",
       " 0   c. 9500 BCE[29]                1500   \n",
       " 1       c. 8000 BCE                4000   \n",
       " 2       c. 4000 BCE                1350   \n",
       " 3       c. 2650 BCE                  40   \n",
       " 4       c. 2610 BCE                   5   \n",
       " 5       c. 2605 BCE                   5   \n",
       " 6       c. 2600 BCE                  30   \n",
       " 7       c. 2570 BCE                3881   \n",
       " 8              1311                 237   \n",
       " 9              1549                  20   \n",
       " 10             1569                   4   \n",
       " 11             1573          94 (20+74)   \n",
       " 12             1647                 227   \n",
       " 13             1874                   2   \n",
       " 14             1876                   4   \n",
       " 15             1880                   4   \n",
       " 16             1884                   5   \n",
       " 17             1889                  42   \n",
       " 18             1930                   1   \n",
       " 19             1931                  36   \n",
       " 20             1967                   8   \n",
       " 21             1975                  32   \n",
       " 22             2007             present   \n",
       " \n",
       "                                     Name and location  Constructed  \\\n",
       " 0                              Göbekli Tepe, Anatolia  c. 9500 BCE   \n",
       " 1              Tower of Jericho, West Bank, Palestine  c. 8000 BCE   \n",
       " 2                                  Anu Ziggurat, Uruk  c. 4000 BCE   \n",
       " 3                            Pyramid of Djoser, Egypt  c. 2650 BCE   \n",
       " 4                             Meidum Pyramid in Egypt  c. 2610 BCE   \n",
       " 5                               Bent Pyramid in Egypt  c. 2605 BCE   \n",
       " 6                       Red Pyramid of Sneferu, Egypt  c. 2600 BCE   \n",
       " 7                      Great Pyramid of Giza in Egypt  c. 2570 BCE   \n",
       " 8                        Lincoln Cathedral in England    1092–1311   \n",
       " 9             St. Mary's Church in Stralsund, Germany    1384–1478   \n",
       " 10                       Beauvais Cathedral in France    1225–1604   \n",
       " 11            St. Mary's Church in Stralsund, Germany    1384–1478   \n",
       " 12                     Strasbourg Cathedral in France         1439   \n",
       " 13                    St. Nikolai in Hamburg, Germany    1846–1874   \n",
       " 14             Cathédrale Notre Dame in Rouen, France    1202–1876   \n",
       " 15                       Cologne Cathedral in Germany    1248–1880   \n",
       " 16  Washington Monument in Washington D.C., United...         1884   \n",
       " 17                      Eiffel Tower in Paris, France    1887–1889   \n",
       " 18       Chrysler Building in New York, United States    1928–1930   \n",
       " 19   Empire State Building in New York, United States    1930–1931   \n",
       " 20            Ostankino Tower in Moscow, Soviet Union    1963–1967   \n",
       " 21               CN Tower in Toronto, Ontario, Canada    1973–1976   \n",
       " 22        Burj Khalifa in Dubai, United Arab Emirates    2004–2009   \n",
       " \n",
       "    Height (metres)  Height (feet)  \\\n",
       " 0              5-6          18.00   \n",
       " 1              8.5          27.90   \n",
       " 2               13          40.00   \n",
       " 3             62.5         205.00   \n",
       " 4            91.65         301.00   \n",
       " 5           104.71         344.00   \n",
       " 6              105         344.00   \n",
       " 7            146.6         481.00   \n",
       " 8              160         525.00   \n",
       " 9              151         495.00   \n",
       " 10             153         502.00   \n",
       " 11             151         495.00   \n",
       " 12             142         466.00   \n",
       " 13             147         483.00   \n",
       " 14             151         495.00   \n",
       " 15          157.38         515.00   \n",
       " 16          169.29         555.00   \n",
       " 17             312        1024.00   \n",
       " 18             319        1046.00   \n",
       " 19             381        1250.00   \n",
       " 20             540        1762.00   \n",
       " 21          553.33        1815.39   \n",
       " 22           829.8        2722.00   \n",
       " \n",
       "                                           Coordinates  \\\n",
       " 0     37°13′23″N 38°55′21″E﻿ / ﻿37.22306°N 38.92250°E   \n",
       " 1   31°52′19″N 35°26′38″E﻿ / ﻿31.872041°N 35.443981°E   \n",
       " 2                                                 NaN   \n",
       " 3   29°52′16.53″N 31°12′59.59″E﻿ / ﻿29.8712583°N 3...   \n",
       " 4     29°23′17″N 31°09′25″E﻿ / ﻿29.38806°N 31.15694°E   \n",
       " 5     29°47′25″N 31°12′33″E﻿ / ﻿29.79028°N 31.20917°E   \n",
       " 6   29°48′31.39″N 31°12′22.49″E﻿ / ﻿29.8087194°N 3...   \n",
       " 7   29°58′44.93″N 31°08′3.09″E﻿ / ﻿29.9791472°N 31...   \n",
       " 8   53°14′3.26″N 0°32′10.54″W﻿ / ﻿53.2342389°N 0.5...   \n",
       " 9   54°18′36.01″N 13°5′14.81″E﻿ / ﻿54.3100028°N 13...   \n",
       " 10      49°25′49″N 2°05′43″E﻿ / ﻿49.43028°N 2.09528°E   \n",
       " 11  54°18′36.01″N 13°5′14.81″E﻿ / ﻿54.3100028°N 13...   \n",
       " 12  48°34′54.22″N 7°45′1.48″E﻿ / ﻿48.5817278°N 7.7...   \n",
       " 13  53°32′50.94″N 9°59′26.12″E﻿ / ﻿53.5474833°N 9....   \n",
       " 14  49°26′24.54″N 1°5′41.85″E﻿ / ﻿49.4401500°N 1.0...   \n",
       " 15  50°56′28.08″N 6°57′25.73″E﻿ / ﻿50.9411333°N 6....   \n",
       " 16  38°53′22.08″N 77°2′6.89″W﻿ / ﻿38.8894667°N 77....   \n",
       " 17  48°51′29.77″N 2°17′40.09″E﻿ / ﻿48.8582694°N 2....   \n",
       " 18  40°45′5.78″N 73°58′31.52″W﻿ / ﻿40.7516056°N 73...   \n",
       " 19  40°44′54.95″N 73°59′8.71″W﻿ / ﻿40.7485972°N 73...   \n",
       " 20  55°49′10.94″N 37°36′41.79″E﻿ / ﻿55.8197056°N 3...   \n",
       " 21  43°38′33.22″N 79°23′13.41″W﻿ / ﻿43.6425611°N 7...   \n",
       " 22  25°11′50.0″N 55°16′26.6″E﻿ / ﻿25.197222°N 55.2...   \n",
       " \n",
       "                                                 Notes  \n",
       " 0                   The earliest temple of humankind.  \n",
       " 1                                                 NaN  \n",
       " 2                                                 NaN  \n",
       " 3                                                 NaN  \n",
       " 4   Shortly after completion Meidum Pyramid collap...  \n",
       " 5   Angle of slope decreased during construction t...  \n",
       " 6                                                 NaN  \n",
       " 7   By 1647, the Great Pyramid had eroded to a hei...  \n",
       " 8   The central spire was destroyed in a storm in ...  \n",
       " 9   (See also resumption 1573–1647). Today its chu...  \n",
       " 10  Spire collapsed in 1573 (the cross was removed...  \n",
       " 11  (See also 1549–1569). The church tower's spire...  \n",
       " 12  By 1647, the Great Pyramid had eroded to a hei...  \n",
       " 13                                                NaN  \n",
       " 14                                                NaN  \n",
       " 15                                                NaN  \n",
       " 16  The world's tallest all-stone structure, as we...  \n",
       " 17  First structure to exceed 300 metres in height...  \n",
       " 18                                                NaN  \n",
       " 19  First building with 100+ storeys. The addition...  \n",
       " 20  Remains the tallest in Europe. Fire in 2000 le...  \n",
       " 21             The tallest in the Western Hemisphere.  \n",
       " 22  Holder of world's tallest freestanding structu...  ,\n",
       "     Record from  Record held (years)  \\\n",
       " 0   Record from  Record held (years)   \n",
       " 1          1889                   42   \n",
       " 2          1931                   42   \n",
       " 3          1973                    1   \n",
       " 4          1974                    1   \n",
       " 5          1975                    1   \n",
       " 6          1976                   32   \n",
       " 7          2008                    3   \n",
       " 8          2011                    3   \n",
       " 9          2014                    2   \n",
       " 10         2015              present   \n",
       " \n",
       "                             Name and location  Constructed  \\\n",
       " 0                           Name and location  Constructed   \n",
       " 1                         Eiffel Tower, Paris         1889   \n",
       " 2        Empire State Building, New York City         1931   \n",
       " 3           World Trade Center, New York City         1973   \n",
       " 4                       Willis Tower, Chicago         1974   \n",
       " 5           World Trade Center, New York City         1973   \n",
       " 6                           CN Tower, Toronto         1976   \n",
       " 7   Shanghai World Financial Center, Shanghai         2008   \n",
       " 8                     Canton Tower, Guangzhou         2011   \n",
       " 9                         Burj Khalifa, Dubai         2010   \n",
       " 10            Shanghai Tower, Shanghai, China         2015   \n",
       " \n",
       "    Height above ground Height above ground.1  \\\n",
       " 0                    m                    ft   \n",
       " 1                  275                   902   \n",
       " 2              369[37]                  1250   \n",
       " 3                399.4                  1310   \n",
       " 4                412.4                  1353   \n",
       " 5                419.7                  1377   \n",
       " 6                446.5                1464.9   \n",
       " 7                  474                  1555   \n",
       " 8                  488                  1601   \n",
       " 9                  555                  1821   \n",
       " 10                 562                  1841   \n",
       " \n",
       "                                                 Notes  \n",
       " 0                                               Notes  \n",
       " 1   Two lower observation decks at 57 and 115 m (1...  \n",
       " 2   On the 102nd floor – a second observation deck...  \n",
       " 3   Indoor observatory on the 107th floor of South...  \n",
       " 4         103rd floor Skydeck opened on June 22, 1974  \n",
       " 5   Outdoor observatory on the South Tower rooftop...  \n",
       " 6   Two further observation decks at 342 and 346 m...  \n",
       " 7   Two further observation decks at 423 and 439 m...  \n",
       " 8   The rooftop outdoor observation deck opened in...  \n",
       " 9   Opened on October 15, 2014 on the 148th floor....  \n",
       " 10                        Opened on February 2, 2015.  ,\n",
       "     Record from  Record held (years)  \\\n",
       " 0   Record from  Record held (years)   \n",
       " 1          1913                    7   \n",
       " 2          1920                    3   \n",
       " 3          1923                   10   \n",
       " 4          1933                    6   \n",
       " 5          1939                    7   \n",
       " 6          1946                    2   \n",
       " 7          1948                    1   \n",
       " 8          1949                    1   \n",
       " 9          1950                    4   \n",
       " 10         1954                    2   \n",
       " 11         1956                    3   \n",
       " 12         1959                    1   \n",
       " 13         1960                    2   \n",
       " 14         1962                    1   \n",
       " 15         1963                    0   \n",
       " 16         1963                   11   \n",
       " 17         1974                   17   \n",
       " 18         2018              present   \n",
       " \n",
       "                                     Name and location  Constructed  Height  \\\n",
       " 0                                   Name and location  Constructed       m   \n",
       " 1   Central mast of Eilvese transmitter, Eilvese, ...         1913     250   \n",
       " 2   Central masts of Nauen Transmitter Station, Na...         1920     260   \n",
       " 3   Masts of Ruiselede transmitter, Ruiselede, Bel...         1923     287   \n",
       " 4                   Lakihegy Tower, Lakihegy, Hungary         1933     314   \n",
       " 5   Deutschlandsender Herzberg/Elster, Herzberg (E...         1939     335   \n",
       " 6                   Lakihegy Tower, Lakihegy, Hungary         1946     314   \n",
       " 7                WIVB-TV Tower, Colden, New York, USA         1948   321.9   \n",
       " 8         Longwave transmitter Raszyn, Raszyn, Poland         1949     335   \n",
       " 9         Forestport Tower, Forestport, New York, USA         1950  371.25   \n",
       " 10  Griffin Television Tower Oklahoma (AKA KWTV Tr...         1954   480.5   \n",
       " 11            KOBR-TV Tower, Caprock, New Mexico, USA         1956   490.7   \n",
       " 12                 WGME TV Tower, Raymond, Maine, USA         1959     495   \n",
       " 13  KFVS TV Mast, Cape Girardeau County, Missouri,...         1960   511.1   \n",
       " 14  WTVM/WRBL-TV & WVRK-FM Tower, Cusseta, Georgia...         1962     533   \n",
       " 15           WIMZ-FM-Tower, Knoxville, Tennessee, USA         1963  534.01   \n",
       " 16         KVLY-TV mast, Blanchard, North Dakota, USA         1963   606.0   \n",
       " 17                   Warsaw Radio Mast, Gąbin, Poland         1974   646.4   \n",
       " 18         KRDK-TV mast, Galesburg, North Dakota, USA         1997   628.0   \n",
       " \n",
       "    Height.1                                        Coordinates  \\\n",
       " 0        ft                                        Coordinates   \n",
       " 1       820      52°31′40″N 9°24′24″E﻿ / ﻿52.52778°N 9.40667°E   \n",
       " 2       853    52°38′56″N 12°54′30″E﻿ / ﻿52.64889°N 12.90833°E   \n",
       " 3       942    51°4′44″N 3°20′6.9″E﻿ / ﻿51.07889°N 3.335250°E?   \n",
       " 4      1031  47°22′23.45″N 19°0′17.21″E﻿ / ﻿47.3731806°N 19...   \n",
       " 5      1099  51°42′59.76″N 13°15′51.5″E﻿ / ﻿51.7166000°N 13...   \n",
       " 6      1031  47°22′23.45″N 19°0′17.21″E﻿ / ﻿47.3731806°N 19...   \n",
       " 7      1056  42°39′33.19″N 78°37′33.91″W﻿ / ﻿42.6592194°N 7...   \n",
       " 8      1099  52°4′21.72″N 20°53′2.15″E﻿ / ﻿52.0727000°N 20....   \n",
       " 9      1218  43°26′41.9″N 75°5′9.55″W﻿ / ﻿43.444972°N 75.08...   \n",
       " 10     1576  35°32′58.59″N 97°29′50.27″W﻿ / ﻿35.5496083°N 9...   \n",
       " 11     1610  33°22′31.31″N 103°46′14.3″W﻿ / ﻿33.3753639°N 1...   \n",
       " 12     1624  43°55′28.43″N 70°29′26.72″W﻿ / ﻿43.9245639°N 7...   \n",
       " 13     1677  37°25′44.5″N 89°30′13.84″W﻿ / ﻿37.429028°N 89....   \n",
       " 14     1749  32°19′25.09″N 84°46′45.07″W﻿ / ﻿32.3236361°N 8...   \n",
       " 15     1752  36°08′05.49″N 83°43′28.01″W﻿ / ﻿36.1348583°N 8...   \n",
       " 16     1988  47°20′31.85″N 97°17′21.13″W﻿ / ﻿47.3421806°N 9...   \n",
       " 17     2121  52°22′3.74″N 19°48′8.73″E﻿ / ﻿52.3677056°N 19....   \n",
       " 18     2060  47°16′45.06″N 97°20′25.68″W﻿ / ﻿47.2791833°N 9...   \n",
       " \n",
       "                                                 Notes  \n",
       " 0                                               Notes  \n",
       " 1   Mast was divided in 145 m by an insulator, dem...  \n",
       " 2                         2 masts, demolished in 1946  \n",
       " 3                          8 masts, destroyed in 1940  \n",
       " 4   Blaw-Knox Tower, insulated against ground, des...  \n",
       " 5      Insulated against ground, dismantled 1946/1947  \n",
       " 6   Blaw-Knox Tower, Insulated against ground, reb...  \n",
       " 7                                                 NaN  \n",
       " 8                            Insulated against ground  \n",
       " 9                Insulated against ground, demolished  \n",
       " 10                                                NaN  \n",
       " 11                         Collapsed in 1960; rebuilt  \n",
       " 12                                                NaN  \n",
       " 13                                                NaN  \n",
       " 14                                                NaN  \n",
       " 15                                                NaN  \n",
       " 16  75 foot analog antenna was removed from the to...  \n",
       " 17  Mast radiator insulated against ground, collap...  \n",
       " 18                                                NaN  ,\n",
       "       From       To                             Tower  \\\n",
       " 0   280 BC  1180 AD                 Pharos Lighthouse   \n",
       " 1     1180     1240            Malmesbury Abbey Tower   \n",
       " 2     1240     1311  Tower of Old St Paul's Cathedral   \n",
       " 3     1311     1549        Tower of Lincoln Cathedral   \n",
       " 4     1549     1569         Tower of St Mary's church   \n",
       " 5     1569     1573            St. Pierre's Cathedral   \n",
       " 6     1573     1647         Tower of St Mary's church   \n",
       " 7     1647     1874     Tower of Strasbourg Cathedral   \n",
       " 8     1874     1876              Tower of St. Nikolai   \n",
       " 9     1876     1880          Tower of Rouen Cathedral   \n",
       " 10    1880     1889        Tower of Cologne Cathedral   \n",
       " 11    1889     1958                      Eiffel Tower   \n",
       " 12    1958     1967                       Tokyo Tower   \n",
       " 13    1967     1975                   Ostankino Tower   \n",
       " 14    1975     2010                          CN Tower   \n",
       " 15    2010     2011                      Canton Tower   \n",
       " 16    2011  present                     Tokyo Skytree   \n",
       " \n",
       "                     Location Pinnacle height  \n",
       " 0          Alexandria, Egypt           122 m  \n",
       " 1             Malmesbury, UK         131.3 m  \n",
       " 2                 London, UK           150 m  \n",
       " 3                Lincoln, UK         159.7 m  \n",
       " 4         Stralsund, Germany           151 m  \n",
       " 5           Beauvais, France           153 m  \n",
       " 6         Stralsund, Germany           151 m  \n",
       " 7         Strasbourg, France           142 m  \n",
       " 8           Hamburg, Germany           147 m  \n",
       " 9              Rouen, France           151 m  \n",
       " 10          Cologne, Germany        157.38 m  \n",
       " 11             Paris, France         312.3 m  \n",
       " 12              Tokyo, Japan         332.6 m  \n",
       " 13            Moscow, Russia         540.1 m  \n",
       " 14  Toronto, Ontario, Canada        553.33 m  \n",
       " 15          Guangzhou, China           600 m  \n",
       " 16              Tokyo, Japan           634 m  ,\n",
       "                                                  Rank  \\\n",
       " 0   Structures (supported) Main article: List of t...   \n",
       " 1                                                   1   \n",
       " 2                                                   2   \n",
       " 3                                                   3   \n",
       " 4                        Structures (media supported)   \n",
       " 5                                                   1   \n",
       " 6                                                   2   \n",
       " 7                                                   3   \n",
       " 8   Freestanding structures Main article: List of ...   \n",
       " 9                                                   1   \n",
       " 10                                                  2   \n",
       " 11                                                  3   \n",
       " 12                                                  4   \n",
       " 13                                                  5   \n",
       " 14                                                  6   \n",
       " 15                                                  7   \n",
       " 16                                                  8   \n",
       " 17                                                  9   \n",
       " 18                                                 10   \n",
       " 19                                                 11   \n",
       " 20                                                 12   \n",
       " 21                                                 12   \n",
       " 22                                                 14   \n",
       " 23                                                 15   \n",
       " 24  Buildings Main article: List of tallest buildi...   \n",
       " 25                                                  1   \n",
       " 26                                                  2   \n",
       " 27                                                  3   \n",
       " 28                                                  4   \n",
       " 29                                                  5   \n",
       " 30                                                  6   \n",
       " 31                                                  7   \n",
       " 32                                                  8   \n",
       " 33                                                  9   \n",
       " 34                                                 10   \n",
       " 35                                                 11   \n",
       " 36                                                 12   \n",
       " 37                                                 15   \n",
       " 38                                                 14   \n",
       " 39                                                 15   \n",
       " \n",
       "                                     Name and location  \\\n",
       " 0   Structures (supported) Main article: List of t...   \n",
       " 1   KVLY-TV mast, Blanchard, North Dakota, United ...   \n",
       " 2   KRDK-TV mast, Galesburg, North Dakota United S...   \n",
       " 3   KXTV/KOVR Tower, Walnut Grove, California, Uni...   \n",
       " 4                        Structures (media supported)   \n",
       " 5                  Petronius Platform, Gulf of Mexico   \n",
       " 6                   Baldpate Platform, Gulf of Mexico   \n",
       " 7                 Bullwinkle Platform, Gulf of Mexico   \n",
       " 8   Freestanding structures Main article: List of ...   \n",
       " 9           Burj Khalifa, Dubai, United Arab Emirates   \n",
       " 10                        Tokyo Skytree, Tokyo, Japan   \n",
       " 11                    Shanghai Tower, Shanghai, China   \n",
       " 12                Abraj Al Bait, Makkah, Saudi Arabia   \n",
       " 13                     Canton Tower, Guangzhou, China   \n",
       " 14            Ping An Finance Centre, Shenzhen, China   \n",
       " 15                 Goldin Finance 117, Tianjin, China   \n",
       " 16              Lotte World Tower, Seoul, South Korea   \n",
       " 17                 CN Tower, Toronto, Ontario, Canada   \n",
       " 18         One World Trade Center, New York City, USA   \n",
       " 19                    Ostankino Tower, Moscow, Russia   \n",
       " 20     Guangzhou CTF Finance Centre, Guangzhou, China   \n",
       " 21         Tianjin CTF Finance Centre, Tianjin, China   \n",
       " 22                          China Zun, Beijing, China   \n",
       " 23               Willis Tower, Chicago, United States   \n",
       " 24  Buildings Main article: List of tallest buildi...   \n",
       " 25          Burj Khalifa, Dubai, United Arab Emirates   \n",
       " 26                    Shanghai Tower, Shanghai, China   \n",
       " 27                 Abraj Al Bait, Mecca, Saudi Arabia   \n",
       " 28            Ping An Finance Centre, Shenzhen, China   \n",
       " 29                 Goldin Finance 117, Tianjin, China   \n",
       " 30              Lotte World Tower, Seoul, South Korea   \n",
       " 31         One World Trade Center, New York City, USA   \n",
       " 32     Guangzhou CTF Finance Centre, Guangzhou, China   \n",
       " 33         Tianjin CTF Finance Centre, Tianjin, China   \n",
       " 34                          China Zun, Beijing, China   \n",
       " 35                         Taipei 101, Taipei, Taiwan   \n",
       " 36   Shanghai World Financial Center, Shanghai, China   \n",
       " 37             Central Park Tower, New York City, USA   \n",
       " 38           International Commerce Centre, Hong Kong   \n",
       " 39            Lakhta Center, Saint Petersburg, Russia   \n",
       " \n",
       "                                         Yearcompleted  \\\n",
       " 0   Structures (supported) Main article: List of t...   \n",
       " 1                                                1963   \n",
       " 2                                                1966   \n",
       " 3                                                2000   \n",
       " 4                        Structures (media supported)   \n",
       " 5                                                2000   \n",
       " 6                                                1998   \n",
       " 7                                                1989   \n",
       " 8   Freestanding structures Main article: List of ...   \n",
       " 9                                                2009   \n",
       " 10                                               2012   \n",
       " 11                                               2015   \n",
       " 12                                               2011   \n",
       " 13                                               2010   \n",
       " 14                                               2016   \n",
       " 15                                               2020   \n",
       " 16                                               2016   \n",
       " 17                                               1976   \n",
       " 18                                               2013   \n",
       " 19                                               1967   \n",
       " 20                                               2016   \n",
       " 21                                               2018   \n",
       " 22                                               2018   \n",
       " 23                                               1974   \n",
       " 24  Buildings Main article: List of tallest buildi...   \n",
       " 25                                               2010   \n",
       " 26                                               2015   \n",
       " 27                                               2011   \n",
       " 28                                               2016   \n",
       " 29                                               2020   \n",
       " 30                                               2016   \n",
       " 31                                               2013   \n",
       " 32                                               2016   \n",
       " 33                                               2018   \n",
       " 34                                               2018   \n",
       " 35                                               2004   \n",
       " 36                                               2008   \n",
       " 37                                               2021   \n",
       " 38                                               2010   \n",
       " 39                                               2018   \n",
       " \n",
       "                         Architectural top[41](metres)  \\\n",
       " 0   Structures (supported) Main article: List of t...   \n",
       " 1                                               628.8   \n",
       " 2                                               627.8   \n",
       " 3                                               624.5   \n",
       " 4                        Structures (media supported)   \n",
       " 5                                                 640   \n",
       " 6                                               579.7   \n",
       " 7                                                 529   \n",
       " 8   Freestanding structures Main article: List of ...   \n",
       " 9                                               829.8   \n",
       " 10                                                634   \n",
       " 11                                                632   \n",
       " 12                                                601   \n",
       " 13                                                600   \n",
       " 14                                                599   \n",
       " 15                                              596.6   \n",
       " 16                                              555.7   \n",
       " 17                                              553.3   \n",
       " 18                                              546.2   \n",
       " 19                                                540   \n",
       " 20                                                530   \n",
       " 21                                                530   \n",
       " 22                                                528   \n",
       " 23                                                527   \n",
       " 24  Buildings Main article: List of tallest buildi...   \n",
       " 25                                                828   \n",
       " 26                                                632   \n",
       " 27                                                601   \n",
       " 28                                                599   \n",
       " 29                                              596.6   \n",
       " 30                                              554.5   \n",
       " 31                                              541.3   \n",
       " 32                                                530   \n",
       " 33                                                530   \n",
       " 34                                                528   \n",
       " 35                                                509   \n",
       " 36                                                492   \n",
       " 37                                                472   \n",
       " 38                                                484   \n",
       " 39                                                462   \n",
       " \n",
       "                               Architectural top(feet)  \\\n",
       " 0   Structures (supported) Main article: List of t...   \n",
       " 1                                                2063   \n",
       " 2                                                2060   \n",
       " 3                                                2049   \n",
       " 4                        Structures (media supported)   \n",
       " 5                                                2100   \n",
       " 6                                                1902   \n",
       " 7                                                1736   \n",
       " 8   Freestanding structures Main article: List of ...   \n",
       " 9                                                2722   \n",
       " 10                                               2080   \n",
       " 11                                               2073   \n",
       " 12                                               1972   \n",
       " 13                                               1969   \n",
       " 14                                               1965   \n",
       " 15                                               1957   \n",
       " 16                                               1823   \n",
       " 17                                               1815   \n",
       " 18                                               1792   \n",
       " 19                                               1770   \n",
       " 20                                               1739   \n",
       " 21                                               1739   \n",
       " 22                                               1732   \n",
       " 23                                               1729   \n",
       " 24  Buildings Main article: List of tallest buildi...   \n",
       " 25                                               2717   \n",
       " 26                                               2073   \n",
       " 27                                               1972   \n",
       " 28                                               1965   \n",
       " 29                                               1957   \n",
       " 30                                               1819   \n",
       " 31                                               1776   \n",
       " 32                                               1739   \n",
       " 33                                               1739   \n",
       " 34                                               1732   \n",
       " 35                                               1670   \n",
       " 36                                               1614   \n",
       " 37                                               1549   \n",
       " 38                                               1588   \n",
       " 39                                               1516   \n",
       " \n",
       "                                                Floors  \n",
       " 0   Structures (supported) Main article: List of t...  \n",
       " 1                                                   –  \n",
       " 2                                                   –  \n",
       " 3                                                   –  \n",
       " 4                        Structures (media supported)  \n",
       " 5                                                   –  \n",
       " 6                                                   –  \n",
       " 7                                                   –  \n",
       " 8   Freestanding structures Main article: List of ...  \n",
       " 9                                                 163  \n",
       " 10                                                  –  \n",
       " 11                                                128  \n",
       " 12                                                120  \n",
       " 13                                                  –  \n",
       " 14                                                115  \n",
       " 15                                                128  \n",
       " 16                                                123  \n",
       " 17                                                  –  \n",
       " 18                                                104  \n",
       " 19                                                  –  \n",
       " 20                                                111  \n",
       " 21                                                 98  \n",
       " 22                                                108  \n",
       " 23                                                108  \n",
       " 24  Buildings Main article: List of tallest buildi...  \n",
       " 25                                                163  \n",
       " 26                                                128  \n",
       " 27                                                120  \n",
       " 28                                                115  \n",
       " 29                                                128  \n",
       " 30                                                123  \n",
       " 31                                                104  \n",
       " 32                                                111  \n",
       " 33                                                 98  \n",
       " 34                                                108  \n",
       " 35                                                101  \n",
       " 36                                                101  \n",
       " 37                                                 98  \n",
       " 38                                                118  \n",
       " 39                                                 86  ,\n",
       "                  Structure                                        Coordinates  \\\n",
       " 0             Burj Khalifa                          25°11′50.0″N 55°16′26.6″E   \n",
       " 1        Warsaw Radio Mast                          52°22′3.74″N 19°48′8.73″E   \n",
       " 2        Smokey Shot Tower                         37°11′13.63″N 116°4′7.93″W   \n",
       " 3         Lincon Cathedral                          53°14′3.26″N 0°32′10.54″W   \n",
       " 4        Cologne Cathedral  50°56′28.08″N 6°57′25.73″E ;50°56′29.11″N 6°57...   \n",
       " 5       Beauvais Cathedral                               49°25′49″N 2°05′43″E   \n",
       " 6    Cathédrale Notre Dame                          49°26′24.54″N 1°5′41.85″E   \n",
       " 7    Great Pyramid of Giza                         29°58′44.93″N 31°08′3.09″E   \n",
       " 8   Red Pyramid of Sneferu                        29°48′31.39″N 31°12′22.49″E   \n",
       " 9             Bent Pyramid                              29°47′25″N 31°12′33″E   \n",
       " 10          Meidum Pyramid                              29°23′17″N 31°09′25″E   \n",
       " 11       Pyramid of Djoser                        29°52′16.53″N 31°12′59.59″E   \n",
       " 12            Anu Ziggurat                                          West Bank   \n",
       " 13        Tower of Jericho                            31.872041°N 35.443981°E   \n",
       " 14            Göbekli Tepe                              37°13′23″N 38°55′21″E   \n",
       " \n",
       "             Location        Country/Region   Year built Height (meters)  \\\n",
       " 0              Dubai  United Arab Emirates         2010           829.8   \n",
       " 1              Gąbin                Poland         1974          646.38   \n",
       " 2   Nevada Test Site         United States         1870             213   \n",
       " 3       Lincolnshire        United Kingdom         1311             160   \n",
       " 4            Cologne               Germany         1248          157.38   \n",
       " 5                NaN                France         1225             153   \n",
       " 6              Rouen                France         1202             151   \n",
       " 7               Giza                 Egypt     2560 BCE           138.8   \n",
       " 8                NaN                 Egypt  c. 2600 BCE             105   \n",
       " 9                NaN                 Egypt  c. 2605 BCE          104.71   \n",
       " 10               NaN                 Egypt  c. 2610 BCE           91.65   \n",
       " 11               NaN                 Egypt  c. 2650 BCE            62.5   \n",
       " 12              Uruk                  Iraq  c. 4000 BCE              13   \n",
       " 13         West Bank             Palestine  c. 8000 BCE             8.5   \n",
       " 14          Anatolia                Turkey  c. 9500 BCE             5-6   \n",
       " \n",
       "     Height (feet)  \n",
       " 0          2722.0  \n",
       " 1          2121.0  \n",
       " 2           700.0  \n",
       " 3           524.0  \n",
       " 4           515.0  \n",
       " 5           502.0  \n",
       " 6           495.0  \n",
       " 7           455.2  \n",
       " 8           344.0  \n",
       " 9           344.0  \n",
       " 10          301.0  \n",
       " 11          205.0  \n",
       " 12           40.0  \n",
       " 13           27.9  \n",
       " 14           18.0  ,\n",
       "    .mw-parser-output .navbar{display:inline;font-size:88%;font-weight:normal}.mw-parser-output .navbar-collapse{float:left;text-align:left}.mw-parser-output .navbar-boxtext{word-spacing:0}.mw-parser-output .navbar ul{display:inline-block;white-space:nowrap;line-height:inherit}.mw-parser-output .navbar-brackets::before{margin-right:-0.125em;content:\"[ \"}.mw-parser-output .navbar-brackets::after{margin-left:-0.125em;content:\" ]\"}.mw-parser-output .navbar li{word-spacing:-0.125em}.mw-parser-output .navbar a>span,.mw-parser-output .navbar a>abbr{text-decoration:inherit}.mw-parser-output .navbar-mini abbr{font-variant:small-caps;border-bottom:none;text-decoration:none;cursor:inherit}.mw-parser-output .navbar-ct-full{font-size:114%;margin:0 7em}.mw-parser-output .navbar-ct-mini{font-size:114%;margin:0 4em}vteTallest buildings and structures  \\\n",
       " 0                           History Skyscraper Storey                                                                                                                                                                                                                                                                                                                                                                                                                                                                                                                                                                                                                                                                                                                                                                                                                            \n",
       " 1                                           Buildings                                                                                                                                                                                                                                                                                                                                                                                                                                                                                                                                                                                                                                                                                                                                                                                                                            \n",
       " 2                                           By region                                                                                                                                                                                                                                                                                                                                                                                                                                                                                                                                                                                                                                                                                                                                                                                                                            \n",
       " 3                                          By country                                                                                                                                                                                                                                                                                                                                                                                                                                                                                                                                                                                                                                                                                                                                                                                                                            \n",
       " 4                                            By other                                                                                                                                                                                                                                                                                                                                                                                                                                                                                                                                                                                                                                                                                                                                                                                                                            \n",
       " 5                                               Lists                                                                                                                                                                                                                                                                                                                                                                                                                                                                                                                                                                                                                                                                                                                                                                                                                            \n",
       " 6                             Structures(of any type)                                                                                                                                                                                                                                                                                                                                                                                                                                                                                                                                                                                                                                                                                                                                                                                                                            \n",
       " 7                                           By region                                                                                                                                                                                                                                                                                                                                                                                                                                                                                                                                                                                                                                                                                                                                                                                                                            \n",
       " 8                                          By country                                                                                                                                                                                                                                                                                                                                                                                                                                                                                                                                                                                                                                                                                                                                                                                                                            \n",
       " 9                                            By other                                                                                                                                                                                                                                                                                                                                                                                                                                                                                                                                                                                                                                                                                                                                                                                                                            \n",
       " 10                                              Lists                                                                                                                                                                                                                                                                                                                                                                                                                                                                                                                                                                                                                                                                                                                                                                                                                            \n",
       " 11                                      Relatedtopics                                                                                                                                                                                                                                                                                                                                                                                                                                                                                                                                                                                                                                                                                                                                                                                                                            \n",
       " \n",
       "    .mw-parser-output .navbar{display:inline;font-size:88%;font-weight:normal}.mw-parser-output .navbar-collapse{float:left;text-align:left}.mw-parser-output .navbar-boxtext{word-spacing:0}.mw-parser-output .navbar ul{display:inline-block;white-space:nowrap;line-height:inherit}.mw-parser-output .navbar-brackets::before{margin-right:-0.125em;content:\"[ \"}.mw-parser-output .navbar-brackets::after{margin-left:-0.125em;content:\" ]\"}.mw-parser-output .navbar li{word-spacing:-0.125em}.mw-parser-output .navbar a>span,.mw-parser-output .navbar a>abbr{text-decoration:inherit}.mw-parser-output .navbar-mini abbr{font-variant:small-caps;border-bottom:none;text-decoration:none;cursor:inherit}.mw-parser-output .navbar-ct-full{font-size:114%;margin:0 7em}.mw-parser-output .navbar-ct-mini{font-size:114%;margin:0 4em}vteTallest buildings and structures.1  \n",
       " 0                           History Skyscraper Storey                                                                                                                                                                                                                                                                                                                                                                                                                                                                                                                                                                                                                                                                                                                                                                                                                             \n",
       " 1   By region Africa Asia Indian subcontinent Sout...                                                                                                                                                                                                                                                                                                                                                                                                                                                                                                                                                                                                                                                                                                                                                                                                                             \n",
       " 2   Africa Asia Indian subcontinent Southeast Euro...                                                                                                                                                                                                                                                                                                                                                                                                                                                                                                                                                                                                                                                                                                                                                                                                                             \n",
       " 3   Albania Algeria Argentina Australia Austria Az...                                                                                                                                                                                                                                                                                                                                                                                                                                                                                                                                                                                                                                                                                                                                                                                                                             \n",
       " 4      British Empire and Commonwealth European Union                                                                                                                                                                                                                                                                                                                                                                                                                                                                                                                                                                                                                                                                                                                                                                                                                             \n",
       " 5   100+ floors Architects Buildings by height to ...                                                                                                                                                                                                                                                                                                                                                                                                                                                                                                                                                                                                                                                                                                                                                                                                                             \n",
       " 6   By region Africa Asia West Asia Europe former ...                                                                                                                                                                                                                                                                                                                                                                                                                                                                                                                                                                                                                                                                                                                                                                                                                             \n",
       " 7   Africa Asia West Asia Europe former Soviet Uni...                                                                                                                                                                                                                                                                                                                                                                                                                                                                                                                                                                                                                                                                                                                                                                                                                             \n",
       " 8   Afghanistan Albania Algeria Australia Austria ...                                                                                                                                                                                                                                                                                                                                                                                                                                                                                                                                                                                                                                                                                                                                                                                                                             \n",
       " 9                             Commonwealth of Nations                                                                                                                                                                                                                                                                                                                                                                                                                                                                                                                                                                                                                                                                                                                                                                                                                             \n",
       " 10  300 to 400 metres 400 to 500 metres Before the...                                                                                                                                                                                                                                                                                                                                                                                                                                                                                                                                                                                                                                                                                                                                                                                                                             \n",
       " 11  Additionally guyed tower Air traffic obstacle ...                                                                                                                                                                                                                                                                                                                                                                                                                                                                                                                                                                                                                                                                                                                                                                                                                             ,\n",
       "     By region  \\\n",
       " 0  By country   \n",
       " 1    By other   \n",
       " 2       Lists   \n",
       " \n",
       "   Africa Asia Indian subcontinent Southeast Europe Scandinavia Baltic states Balkans Oceania The Americas North America Central America South America Latin America  \n",
       " 0  Albania Algeria Argentina Australia Austria Az...                                                                                                                 \n",
       " 1     British Empire and Commonwealth European Union                                                                                                                 \n",
       " 2  100+ floors Architects Buildings by height to ...                                                                                                                 ,\n",
       "     By region  \\\n",
       " 0  By country   \n",
       " 1    By other   \n",
       " 2       Lists   \n",
       " \n",
       "   Africa Asia West Asia Europe former Soviet Union The Americas South America  \n",
       " 0  Afghanistan Albania Algeria Australia Austria ...                           \n",
       " 1                            Commonwealth of Nations                           \n",
       " 2  300 to 400 metres 400 to 500 metres Before the...                           ,\n",
       "   vteStructural extremes                           vteStructural extremes.1\n",
       " 0                Tallest  Buildings Bridges Chimneys Churches Orthodox D...\n",
       " 1                Largest  Buildings Churches City squares Dams Domes Hin...\n",
       " 2                Longest  Buildings Bridges arched cable-stayed cantilev...]"
      ]
     },
     "execution_count": 125,
     "metadata": {},
     "output_type": "execute_result"
    }
   ],
   "source": [
    "dfwiki = pd.read_html('http://en.wikipedia.org/wiki/List_of_tallest_buildings_and_structures_in_the_world', header=0, parse_dates=False)\n",
    "dfwiki"
   ]
  },
  {
   "cell_type": "code",
   "execution_count": 127,
   "metadata": {
    "colab": {
     "base_uri": "https://localhost:8080/",
     "height": 310
    },
    "colab_type": "code",
    "executionInfo": {
     "elapsed": 1132,
     "status": "ok",
     "timestamp": 1595571646426,
     "user": {
      "displayName": "YONG POH YU",
      "photoUrl": "https://lh3.googleusercontent.com/a-/AOh14Ggm8MLlDEFXwbBGZ_6JuVPq1RxXTXVK7REHsxrG=s64",
      "userId": "15844820659946946317"
     },
     "user_tz": -480
    },
    "id": "LMJe0wd3pXdR",
    "outputId": "fd35ac60-1bf5-4a0a-a2db-ac035997b9f1",
    "scrolled": true
   },
   "outputs": [
    {
     "data": {
      "text/html": [
       "<div>\n",
       "<style scoped>\n",
       "    .dataframe tbody tr th:only-of-type {\n",
       "        vertical-align: middle;\n",
       "    }\n",
       "\n",
       "    .dataframe tbody tr th {\n",
       "        vertical-align: top;\n",
       "    }\n",
       "\n",
       "    .dataframe thead th {\n",
       "        text-align: right;\n",
       "    }\n",
       "</style>\n",
       "<table border=\"1\" class=\"dataframe\">\n",
       "  <thead>\n",
       "    <tr style=\"text-align: right;\">\n",
       "      <th></th>\n",
       "      <th>Category</th>\n",
       "      <th>Structure</th>\n",
       "      <th>Country</th>\n",
       "      <th>Location</th>\n",
       "      <th>Height (meters)</th>\n",
       "      <th>Height (feet)</th>\n",
       "      <th>Year built</th>\n",
       "      <th>Coordinates</th>\n",
       "    </tr>\n",
       "  </thead>\n",
       "  <tbody>\n",
       "    <tr>\n",
       "      <th>0</th>\n",
       "      <td>Building[4] (list)</td>\n",
       "      <td>Burj Khalifa</td>\n",
       "      <td>United Arab Emirates</td>\n",
       "      <td>Dubai</td>\n",
       "      <td>829.8</td>\n",
       "      <td>2722.0</td>\n",
       "      <td>2010</td>\n",
       "      <td>.mw-parser-output .geo-default,.mw-parser-outp...</td>\n",
       "    </tr>\n",
       "    <tr>\n",
       "      <th>1</th>\n",
       "      <td>Compliant tower</td>\n",
       "      <td>Petronius (oil platform)</td>\n",
       "      <td>United States</td>\n",
       "      <td>Gulf of Mexico</td>\n",
       "      <td>640</td>\n",
       "      <td>2100.0</td>\n",
       "      <td>2000</td>\n",
       "      <td>29°06′30″N 87°56′30″W﻿ / ﻿29.10833°N 87.94167°W</td>\n",
       "    </tr>\n",
       "    <tr>\n",
       "      <th>2</th>\n",
       "      <td>Self-supporting tower[5] (list)</td>\n",
       "      <td>Tokyo Skytree</td>\n",
       "      <td>Japan</td>\n",
       "      <td>Tokyo</td>\n",
       "      <td>634</td>\n",
       "      <td>2080.0</td>\n",
       "      <td>2011</td>\n",
       "      <td>35°42′36.5″N 139°48′39″E﻿ / ﻿35.710139°N 139.8...</td>\n",
       "    </tr>\n",
       "    <tr>\n",
       "      <th>3</th>\n",
       "      <td>Guyed steel lattice mast</td>\n",
       "      <td>KVLY-TV mast</td>\n",
       "      <td>United States</td>\n",
       "      <td>Blanchard, North Dakota</td>\n",
       "      <td>629</td>\n",
       "      <td>2063.0</td>\n",
       "      <td>1963</td>\n",
       "      <td>47°20′32″N 97°17′21″W﻿ / ﻿47.34222°N 97.28917°W</td>\n",
       "    </tr>\n",
       "    <tr>\n",
       "      <th>4</th>\n",
       "      <td>Hyperboloid structure</td>\n",
       "      <td>Canton Tower</td>\n",
       "      <td>China</td>\n",
       "      <td>Guangzhou</td>\n",
       "      <td>604</td>\n",
       "      <td>1982.0</td>\n",
       "      <td>2010</td>\n",
       "      <td>23°6′32″N 113°19′8″E﻿ / ﻿23.10889°N 113.31889°E</td>\n",
       "    </tr>\n",
       "  </tbody>\n",
       "</table>\n",
       "</div>"
      ],
      "text/plain": [
       "                          Category                 Structure  \\\n",
       "0               Building[4] (list)              Burj Khalifa   \n",
       "1                  Compliant tower  Petronius (oil platform)   \n",
       "2  Self-supporting tower[5] (list)             Tokyo Skytree   \n",
       "3         Guyed steel lattice mast              KVLY-TV mast   \n",
       "4            Hyperboloid structure              Canton Tower   \n",
       "\n",
       "                Country                 Location Height (meters)  \\\n",
       "0  United Arab Emirates                    Dubai           829.8   \n",
       "1         United States           Gulf of Mexico             640   \n",
       "2                 Japan                    Tokyo             634   \n",
       "3         United States  Blanchard, North Dakota             629   \n",
       "4                 China                Guangzhou             604   \n",
       "\n",
       "   Height (feet) Year built                                        Coordinates  \n",
       "0         2722.0       2010  .mw-parser-output .geo-default,.mw-parser-outp...  \n",
       "1         2100.0       2000    29°06′30″N 87°56′30″W﻿ / ﻿29.10833°N 87.94167°W  \n",
       "2         2080.0       2011  35°42′36.5″N 139°48′39″E﻿ / ﻿35.710139°N 139.8...  \n",
       "3         2063.0       1963    47°20′32″N 97°17′21″W﻿ / ﻿47.34222°N 97.28917°W  \n",
       "4         1982.0       2010    23°6′32″N 113°19′8″E﻿ / ﻿23.10889°N 113.31889°E  "
      ]
     },
     "execution_count": 127,
     "metadata": {},
     "output_type": "execute_result"
    }
   ],
   "source": [
    "tallest = dfwiki[3]  \n",
    "tallest.head()"
   ]
  },
  {
   "cell_type": "markdown",
   "metadata": {
    "colab_type": "text",
    "id": "Z_E_j6SwpXdX"
   },
   "source": [
    "# Exercise"
   ]
  },
  {
   "cell_type": "code",
   "execution_count": 162,
   "metadata": {
    "colab": {},
    "colab_type": "code",
    "id": "9wXqHxCvpXdY",
    "outputId": "33a9de57-25b9-4fd0-bd50-cc9a75b70230",
    "scrolled": true
   },
   "outputs": [
    {
     "data": {
      "text/html": [
       "<div>\n",
       "<style scoped>\n",
       "    .dataframe tbody tr th:only-of-type {\n",
       "        vertical-align: middle;\n",
       "    }\n",
       "\n",
       "    .dataframe tbody tr th {\n",
       "        vertical-align: top;\n",
       "    }\n",
       "\n",
       "    .dataframe thead th {\n",
       "        text-align: right;\n",
       "    }\n",
       "</style>\n",
       "<table border=\"1\" class=\"dataframe\">\n",
       "  <thead>\n",
       "    <tr style=\"text-align: right;\">\n",
       "      <th></th>\n",
       "      <th>City</th>\n",
       "      <th>Colors Reported</th>\n",
       "      <th>Shape Reported</th>\n",
       "      <th>State</th>\n",
       "      <th>Time</th>\n",
       "    </tr>\n",
       "  </thead>\n",
       "  <tbody>\n",
       "    <tr>\n",
       "      <th>0</th>\n",
       "      <td>Ithaca</td>\n",
       "      <td>NaN</td>\n",
       "      <td>TRIANGLE</td>\n",
       "      <td>NY</td>\n",
       "      <td>6/1/1930 22:00</td>\n",
       "    </tr>\n",
       "    <tr>\n",
       "      <th>1</th>\n",
       "      <td>Willingboro</td>\n",
       "      <td>NaN</td>\n",
       "      <td>OTHER</td>\n",
       "      <td>NJ</td>\n",
       "      <td>6/30/1930 20:00</td>\n",
       "    </tr>\n",
       "    <tr>\n",
       "      <th>2</th>\n",
       "      <td>Holyoke</td>\n",
       "      <td>NaN</td>\n",
       "      <td>OVAL</td>\n",
       "      <td>CO</td>\n",
       "      <td>2/15/1931 14:00</td>\n",
       "    </tr>\n",
       "    <tr>\n",
       "      <th>3</th>\n",
       "      <td>Abilene</td>\n",
       "      <td>NaN</td>\n",
       "      <td>DISK</td>\n",
       "      <td>KS</td>\n",
       "      <td>6/1/1931 13:00</td>\n",
       "    </tr>\n",
       "    <tr>\n",
       "      <th>4</th>\n",
       "      <td>New York Worlds Fair</td>\n",
       "      <td>NaN</td>\n",
       "      <td>LIGHT</td>\n",
       "      <td>NY</td>\n",
       "      <td>4/18/1933 19:00</td>\n",
       "    </tr>\n",
       "    <tr>\n",
       "      <th>...</th>\n",
       "      <td>...</td>\n",
       "      <td>...</td>\n",
       "      <td>...</td>\n",
       "      <td>...</td>\n",
       "      <td>...</td>\n",
       "    </tr>\n",
       "    <tr>\n",
       "      <th>18236</th>\n",
       "      <td>Grant Park</td>\n",
       "      <td>NaN</td>\n",
       "      <td>TRIANGLE</td>\n",
       "      <td>IL</td>\n",
       "      <td>12/31/2000 23:00</td>\n",
       "    </tr>\n",
       "    <tr>\n",
       "      <th>18237</th>\n",
       "      <td>Spirit Lake</td>\n",
       "      <td>NaN</td>\n",
       "      <td>DISK</td>\n",
       "      <td>IA</td>\n",
       "      <td>12/31/2000 23:00</td>\n",
       "    </tr>\n",
       "    <tr>\n",
       "      <th>18238</th>\n",
       "      <td>Eagle River</td>\n",
       "      <td>NaN</td>\n",
       "      <td>NaN</td>\n",
       "      <td>WI</td>\n",
       "      <td>12/31/2000 23:45</td>\n",
       "    </tr>\n",
       "    <tr>\n",
       "      <th>18239</th>\n",
       "      <td>Eagle River</td>\n",
       "      <td>RED</td>\n",
       "      <td>LIGHT</td>\n",
       "      <td>WI</td>\n",
       "      <td>12/31/2000 23:45</td>\n",
       "    </tr>\n",
       "    <tr>\n",
       "      <th>18240</th>\n",
       "      <td>Ybor</td>\n",
       "      <td>NaN</td>\n",
       "      <td>OVAL</td>\n",
       "      <td>FL</td>\n",
       "      <td>12/31/2000 23:59</td>\n",
       "    </tr>\n",
       "  </tbody>\n",
       "</table>\n",
       "<p>18241 rows × 5 columns</p>\n",
       "</div>"
      ],
      "text/plain": [
       "                       City Colors Reported Shape Reported State  \\\n",
       "0                    Ithaca             NaN       TRIANGLE    NY   \n",
       "1               Willingboro             NaN          OTHER    NJ   \n",
       "2                   Holyoke             NaN           OVAL    CO   \n",
       "3                   Abilene             NaN           DISK    KS   \n",
       "4      New York Worlds Fair             NaN          LIGHT    NY   \n",
       "...                     ...             ...            ...   ...   \n",
       "18236            Grant Park             NaN       TRIANGLE    IL   \n",
       "18237           Spirit Lake             NaN           DISK    IA   \n",
       "18238           Eagle River             NaN            NaN    WI   \n",
       "18239           Eagle River             RED          LIGHT    WI   \n",
       "18240                  Ybor             NaN           OVAL    FL   \n",
       "\n",
       "                   Time  \n",
       "0        6/1/1930 22:00  \n",
       "1       6/30/1930 20:00  \n",
       "2       2/15/1931 14:00  \n",
       "3        6/1/1931 13:00  \n",
       "4       4/18/1933 19:00  \n",
       "...                 ...  \n",
       "18236  12/31/2000 23:00  \n",
       "18237  12/31/2000 23:00  \n",
       "18238  12/31/2000 23:45  \n",
       "18239  12/31/2000 23:45  \n",
       "18240  12/31/2000 23:59  \n",
       "\n",
       "[18241 rows x 5 columns]"
      ]
     },
     "execution_count": 162,
     "metadata": {},
     "output_type": "execute_result"
    }
   ],
   "source": [
    "ufo = pd.read_csv('ufo.csv')\n",
    "\n",
    "ufo"
   ]
  },
  {
   "cell_type": "markdown",
   "metadata": {
    "colab_type": "text",
    "id": "mTLpVfStpXdb"
   },
   "source": [
    "### Q1:\n",
    "\n",
    "show the top 5 rows of data\n",
    "\n"
   ]
  },
  {
   "cell_type": "code",
   "execution_count": 163,
   "metadata": {
    "colab": {},
    "colab_type": "code",
    "id": "NlS6f0cgpXdf",
    "outputId": "813b3044-7ffe-40ea-adf3-9b2ff5fdfb9b",
    "scrolled": true
   },
   "outputs": [
    {
     "data": {
      "text/html": [
       "<div>\n",
       "<style scoped>\n",
       "    .dataframe tbody tr th:only-of-type {\n",
       "        vertical-align: middle;\n",
       "    }\n",
       "\n",
       "    .dataframe tbody tr th {\n",
       "        vertical-align: top;\n",
       "    }\n",
       "\n",
       "    .dataframe thead th {\n",
       "        text-align: right;\n",
       "    }\n",
       "</style>\n",
       "<table border=\"1\" class=\"dataframe\">\n",
       "  <thead>\n",
       "    <tr style=\"text-align: right;\">\n",
       "      <th></th>\n",
       "      <th>City</th>\n",
       "      <th>Colors Reported</th>\n",
       "      <th>Shape Reported</th>\n",
       "      <th>State</th>\n",
       "      <th>Time</th>\n",
       "    </tr>\n",
       "  </thead>\n",
       "  <tbody>\n",
       "    <tr>\n",
       "      <th>0</th>\n",
       "      <td>Ithaca</td>\n",
       "      <td>NaN</td>\n",
       "      <td>TRIANGLE</td>\n",
       "      <td>NY</td>\n",
       "      <td>6/1/1930 22:00</td>\n",
       "    </tr>\n",
       "    <tr>\n",
       "      <th>1</th>\n",
       "      <td>Willingboro</td>\n",
       "      <td>NaN</td>\n",
       "      <td>OTHER</td>\n",
       "      <td>NJ</td>\n",
       "      <td>6/30/1930 20:00</td>\n",
       "    </tr>\n",
       "    <tr>\n",
       "      <th>2</th>\n",
       "      <td>Holyoke</td>\n",
       "      <td>NaN</td>\n",
       "      <td>OVAL</td>\n",
       "      <td>CO</td>\n",
       "      <td>2/15/1931 14:00</td>\n",
       "    </tr>\n",
       "    <tr>\n",
       "      <th>3</th>\n",
       "      <td>Abilene</td>\n",
       "      <td>NaN</td>\n",
       "      <td>DISK</td>\n",
       "      <td>KS</td>\n",
       "      <td>6/1/1931 13:00</td>\n",
       "    </tr>\n",
       "    <tr>\n",
       "      <th>4</th>\n",
       "      <td>New York Worlds Fair</td>\n",
       "      <td>NaN</td>\n",
       "      <td>LIGHT</td>\n",
       "      <td>NY</td>\n",
       "      <td>4/18/1933 19:00</td>\n",
       "    </tr>\n",
       "  </tbody>\n",
       "</table>\n",
       "</div>"
      ],
      "text/plain": [
       "                   City Colors Reported Shape Reported State             Time\n",
       "0                Ithaca             NaN       TRIANGLE    NY   6/1/1930 22:00\n",
       "1           Willingboro             NaN          OTHER    NJ  6/30/1930 20:00\n",
       "2               Holyoke             NaN           OVAL    CO  2/15/1931 14:00\n",
       "3               Abilene             NaN           DISK    KS   6/1/1931 13:00\n",
       "4  New York Worlds Fair             NaN          LIGHT    NY  4/18/1933 19:00"
      ]
     },
     "execution_count": 163,
     "metadata": {},
     "output_type": "execute_result"
    }
   ],
   "source": [
    "ufo.head(5)"
   ]
  },
  {
   "cell_type": "markdown",
   "metadata": {
    "colab_type": "text",
    "id": "TcBv34fGpXdk"
   },
   "source": [
    "### Q2: \n",
    "show the last 10 rows of data"
   ]
  },
  {
   "cell_type": "code",
   "execution_count": 164,
   "metadata": {
    "colab": {},
    "colab_type": "code",
    "id": "99vifFJ5pXdk",
    "outputId": "9589df11-f51a-48da-a7d2-15dc534cec5d",
    "scrolled": true
   },
   "outputs": [
    {
     "data": {
      "text/html": [
       "<div>\n",
       "<style scoped>\n",
       "    .dataframe tbody tr th:only-of-type {\n",
       "        vertical-align: middle;\n",
       "    }\n",
       "\n",
       "    .dataframe tbody tr th {\n",
       "        vertical-align: top;\n",
       "    }\n",
       "\n",
       "    .dataframe thead th {\n",
       "        text-align: right;\n",
       "    }\n",
       "</style>\n",
       "<table border=\"1\" class=\"dataframe\">\n",
       "  <thead>\n",
       "    <tr style=\"text-align: right;\">\n",
       "      <th></th>\n",
       "      <th>City</th>\n",
       "      <th>Colors Reported</th>\n",
       "      <th>Shape Reported</th>\n",
       "      <th>State</th>\n",
       "      <th>Time</th>\n",
       "    </tr>\n",
       "  </thead>\n",
       "  <tbody>\n",
       "    <tr>\n",
       "      <th>18231</th>\n",
       "      <td>Pismo Beach</td>\n",
       "      <td>NaN</td>\n",
       "      <td>OVAL</td>\n",
       "      <td>CA</td>\n",
       "      <td>12/31/2000 20:00</td>\n",
       "    </tr>\n",
       "    <tr>\n",
       "      <th>18232</th>\n",
       "      <td>Lodi</td>\n",
       "      <td>NaN</td>\n",
       "      <td>NaN</td>\n",
       "      <td>WI</td>\n",
       "      <td>12/31/2000 20:30</td>\n",
       "    </tr>\n",
       "    <tr>\n",
       "      <th>18233</th>\n",
       "      <td>Anchorage</td>\n",
       "      <td>RED</td>\n",
       "      <td>VARIOUS</td>\n",
       "      <td>AK</td>\n",
       "      <td>12/31/2000 21:00</td>\n",
       "    </tr>\n",
       "    <tr>\n",
       "      <th>18234</th>\n",
       "      <td>Capitola</td>\n",
       "      <td>NaN</td>\n",
       "      <td>TRIANGLE</td>\n",
       "      <td>CA</td>\n",
       "      <td>12/31/2000 22:00</td>\n",
       "    </tr>\n",
       "    <tr>\n",
       "      <th>18235</th>\n",
       "      <td>Fountain Hills</td>\n",
       "      <td>NaN</td>\n",
       "      <td>NaN</td>\n",
       "      <td>AZ</td>\n",
       "      <td>12/31/2000 23:00</td>\n",
       "    </tr>\n",
       "    <tr>\n",
       "      <th>18236</th>\n",
       "      <td>Grant Park</td>\n",
       "      <td>NaN</td>\n",
       "      <td>TRIANGLE</td>\n",
       "      <td>IL</td>\n",
       "      <td>12/31/2000 23:00</td>\n",
       "    </tr>\n",
       "    <tr>\n",
       "      <th>18237</th>\n",
       "      <td>Spirit Lake</td>\n",
       "      <td>NaN</td>\n",
       "      <td>DISK</td>\n",
       "      <td>IA</td>\n",
       "      <td>12/31/2000 23:00</td>\n",
       "    </tr>\n",
       "    <tr>\n",
       "      <th>18238</th>\n",
       "      <td>Eagle River</td>\n",
       "      <td>NaN</td>\n",
       "      <td>NaN</td>\n",
       "      <td>WI</td>\n",
       "      <td>12/31/2000 23:45</td>\n",
       "    </tr>\n",
       "    <tr>\n",
       "      <th>18239</th>\n",
       "      <td>Eagle River</td>\n",
       "      <td>RED</td>\n",
       "      <td>LIGHT</td>\n",
       "      <td>WI</td>\n",
       "      <td>12/31/2000 23:45</td>\n",
       "    </tr>\n",
       "    <tr>\n",
       "      <th>18240</th>\n",
       "      <td>Ybor</td>\n",
       "      <td>NaN</td>\n",
       "      <td>OVAL</td>\n",
       "      <td>FL</td>\n",
       "      <td>12/31/2000 23:59</td>\n",
       "    </tr>\n",
       "  </tbody>\n",
       "</table>\n",
       "</div>"
      ],
      "text/plain": [
       "                 City Colors Reported Shape Reported State              Time\n",
       "18231     Pismo Beach             NaN           OVAL    CA  12/31/2000 20:00\n",
       "18232            Lodi             NaN            NaN    WI  12/31/2000 20:30\n",
       "18233       Anchorage             RED        VARIOUS    AK  12/31/2000 21:00\n",
       "18234        Capitola             NaN       TRIANGLE    CA  12/31/2000 22:00\n",
       "18235  Fountain Hills             NaN            NaN    AZ  12/31/2000 23:00\n",
       "18236      Grant Park             NaN       TRIANGLE    IL  12/31/2000 23:00\n",
       "18237     Spirit Lake             NaN           DISK    IA  12/31/2000 23:00\n",
       "18238     Eagle River             NaN            NaN    WI  12/31/2000 23:45\n",
       "18239     Eagle River             RED          LIGHT    WI  12/31/2000 23:45\n",
       "18240            Ybor             NaN           OVAL    FL  12/31/2000 23:59"
      ]
     },
     "execution_count": 164,
     "metadata": {},
     "output_type": "execute_result"
    }
   ],
   "source": [
    "ufo.tail(10)"
   ]
  },
  {
   "cell_type": "markdown",
   "metadata": {
    "colab_type": "text",
    "id": "hP8Y513wpXdp"
   },
   "source": [
    "### Q3:\n",
    "\n",
    "check the data type"
   ]
  },
  {
   "cell_type": "code",
   "execution_count": 165,
   "metadata": {
    "colab": {},
    "colab_type": "code",
    "id": "uyGcteBwpXdq",
    "outputId": "ac1064f1-00b9-4e04-a5f2-aac7b3757536",
    "scrolled": true
   },
   "outputs": [
    {
     "data": {
      "text/plain": [
       "pandas.core.frame.DataFrame"
      ]
     },
     "execution_count": 165,
     "metadata": {},
     "output_type": "execute_result"
    }
   ],
   "source": [
    "type(ufo)"
   ]
  },
  {
   "cell_type": "markdown",
   "metadata": {
    "colab_type": "text",
    "id": "a2udvREPpXdv"
   },
   "source": [
    "### Q4:\n",
    "\n",
    "#show all rows for the column 'City' , and the unique cities\n"
   ]
  },
  {
   "cell_type": "code",
   "execution_count": 166,
   "metadata": {
    "colab": {},
    "colab_type": "code",
    "id": "PHykixk1pXdv",
    "outputId": "90497fa0-7746-4a62-c190-088cae724ac2",
    "scrolled": true
   },
   "outputs": [
    {
     "data": {
      "text/plain": [
       "0                      Ithaca\n",
       "1                 Willingboro\n",
       "2                     Holyoke\n",
       "3                     Abilene\n",
       "4        New York Worlds Fair\n",
       "                 ...         \n",
       "18236              Grant Park\n",
       "18237             Spirit Lake\n",
       "18238             Eagle River\n",
       "18239             Eagle River\n",
       "18240                    Ybor\n",
       "Name: City, Length: 18241, dtype: object"
      ]
     },
     "execution_count": 166,
     "metadata": {},
     "output_type": "execute_result"
    }
   ],
   "source": [
    "ufo['City']"
   ]
  },
  {
   "cell_type": "code",
   "execution_count": 167,
   "metadata": {
    "colab": {},
    "colab_type": "code",
    "id": "y0d0iJhIpXdy",
    "outputId": "b9d38783-9608-4510-d509-808a76632d57",
    "scrolled": false
   },
   "outputs": [
    {
     "data": {
      "text/plain": [
       "0                     Ithaca\n",
       "1                Willingboro\n",
       "2                    Holyoke\n",
       "3                    Abilene\n",
       "4       New York Worlds Fair\n",
       "                ...         \n",
       "6472          Albrightsville\n",
       "6473                 Eufaula\n",
       "6474                Capitola\n",
       "6475              Grant Park\n",
       "6476                    Ybor\n",
       "Name: City, Length: 6477, dtype: object"
      ]
     },
     "execution_count": 167,
     "metadata": {},
     "output_type": "execute_result"
    }
   ],
   "source": [
    "pd.Series(ufo['City'].unique(), name='City')"
   ]
  },
  {
   "cell_type": "markdown",
   "metadata": {
    "colab_type": "text",
    "id": "Fi4PQ0kwpXd1"
   },
   "source": [
    "### Q5: \n",
    "determine the shape (dimension) of the data"
   ]
  },
  {
   "cell_type": "code",
   "execution_count": 168,
   "metadata": {
    "colab": {},
    "colab_type": "code",
    "id": "8Z5VexUMpXd2",
    "outputId": "9731a371-4d92-4bd4-f518-00f57893ef4c",
    "scrolled": true
   },
   "outputs": [
    {
     "data": {
      "text/plain": [
       "(18241, 5)"
      ]
     },
     "execution_count": 168,
     "metadata": {},
     "output_type": "execute_result"
    }
   ],
   "source": [
    "ufo.shape"
   ]
  },
  {
   "cell_type": "markdown",
   "metadata": {
    "colab_type": "text",
    "id": "rbPuI--1pXd4"
   },
   "source": [
    "### Q6:\n",
    "show all data for 'City' that starts with 'E'"
   ]
  },
  {
   "cell_type": "code",
   "execution_count": 169,
   "metadata": {
    "colab": {},
    "colab_type": "code",
    "id": "WI8U1CTCpXd5",
    "outputId": "871f3053-9bb4-461a-8f05-8f665b592a26",
    "scrolled": true
   },
   "outputs": [
    {
     "data": {
      "text/html": [
       "<div>\n",
       "<style scoped>\n",
       "    .dataframe tbody tr th:only-of-type {\n",
       "        vertical-align: middle;\n",
       "    }\n",
       "\n",
       "    .dataframe tbody tr th {\n",
       "        vertical-align: top;\n",
       "    }\n",
       "\n",
       "    .dataframe thead th {\n",
       "        text-align: right;\n",
       "    }\n",
       "</style>\n",
       "<table border=\"1\" class=\"dataframe\">\n",
       "  <thead>\n",
       "    <tr style=\"text-align: right;\">\n",
       "      <th></th>\n",
       "      <th>City</th>\n",
       "      <th>Colors Reported</th>\n",
       "      <th>Shape Reported</th>\n",
       "      <th>State</th>\n",
       "      <th>Time</th>\n",
       "    </tr>\n",
       "  </thead>\n",
       "  <tbody>\n",
       "    <tr>\n",
       "      <th>8</th>\n",
       "      <td>Eklutna</td>\n",
       "      <td>NaN</td>\n",
       "      <td>CIGAR</td>\n",
       "      <td>AK</td>\n",
       "      <td>10/15/1936 17:00</td>\n",
       "    </tr>\n",
       "    <tr>\n",
       "      <th>55</th>\n",
       "      <td>Espanola</td>\n",
       "      <td>NaN</td>\n",
       "      <td>CIRCLE</td>\n",
       "      <td>NM</td>\n",
       "      <td>6/1/1947 17:00</td>\n",
       "    </tr>\n",
       "    <tr>\n",
       "      <th>109</th>\n",
       "      <td>Excelsior</td>\n",
       "      <td>NaN</td>\n",
       "      <td>CIRCLE</td>\n",
       "      <td>MN</td>\n",
       "      <td>8/15/1949 0:00</td>\n",
       "    </tr>\n",
       "    <tr>\n",
       "      <th>140</th>\n",
       "      <td>East Palestine</td>\n",
       "      <td>NaN</td>\n",
       "      <td>LIGHT</td>\n",
       "      <td>OH</td>\n",
       "      <td>7/10/1950 20:30</td>\n",
       "    </tr>\n",
       "    <tr>\n",
       "      <th>179</th>\n",
       "      <td>Evergreen</td>\n",
       "      <td>NaN</td>\n",
       "      <td>DISK</td>\n",
       "      <td>CO</td>\n",
       "      <td>6/6/1952 13:00</td>\n",
       "    </tr>\n",
       "    <tr>\n",
       "      <th>...</th>\n",
       "      <td>...</td>\n",
       "      <td>...</td>\n",
       "      <td>...</td>\n",
       "      <td>...</td>\n",
       "      <td>...</td>\n",
       "    </tr>\n",
       "    <tr>\n",
       "      <th>18182</th>\n",
       "      <td>Evansville</td>\n",
       "      <td>NaN</td>\n",
       "      <td>FIREBALL</td>\n",
       "      <td>IN</td>\n",
       "      <td>12/24/2000 20:00</td>\n",
       "    </tr>\n",
       "    <tr>\n",
       "      <th>18215</th>\n",
       "      <td>El Campo</td>\n",
       "      <td>NaN</td>\n",
       "      <td>OTHER</td>\n",
       "      <td>TX</td>\n",
       "      <td>12/29/2000 9:00</td>\n",
       "    </tr>\n",
       "    <tr>\n",
       "      <th>18224</th>\n",
       "      <td>Eufaula</td>\n",
       "      <td>NaN</td>\n",
       "      <td>DISK</td>\n",
       "      <td>OK</td>\n",
       "      <td>12/29/2000 23:30</td>\n",
       "    </tr>\n",
       "    <tr>\n",
       "      <th>18238</th>\n",
       "      <td>Eagle River</td>\n",
       "      <td>NaN</td>\n",
       "      <td>NaN</td>\n",
       "      <td>WI</td>\n",
       "      <td>12/31/2000 23:45</td>\n",
       "    </tr>\n",
       "    <tr>\n",
       "      <th>18239</th>\n",
       "      <td>Eagle River</td>\n",
       "      <td>RED</td>\n",
       "      <td>LIGHT</td>\n",
       "      <td>WI</td>\n",
       "      <td>12/31/2000 23:45</td>\n",
       "    </tr>\n",
       "  </tbody>\n",
       "</table>\n",
       "<p>557 rows × 5 columns</p>\n",
       "</div>"
      ],
      "text/plain": [
       "                 City Colors Reported Shape Reported State              Time\n",
       "8             Eklutna             NaN          CIGAR    AK  10/15/1936 17:00\n",
       "55           Espanola             NaN         CIRCLE    NM    6/1/1947 17:00\n",
       "109         Excelsior             NaN         CIRCLE    MN    8/15/1949 0:00\n",
       "140    East Palestine             NaN          LIGHT    OH   7/10/1950 20:30\n",
       "179         Evergreen             NaN           DISK    CO    6/6/1952 13:00\n",
       "...               ...             ...            ...   ...               ...\n",
       "18182      Evansville             NaN       FIREBALL    IN  12/24/2000 20:00\n",
       "18215        El Campo             NaN          OTHER    TX   12/29/2000 9:00\n",
       "18224         Eufaula             NaN           DISK    OK  12/29/2000 23:30\n",
       "18238     Eagle River             NaN            NaN    WI  12/31/2000 23:45\n",
       "18239     Eagle River             RED          LIGHT    WI  12/31/2000 23:45\n",
       "\n",
       "[557 rows x 5 columns]"
      ]
     },
     "execution_count": 169,
     "metadata": {},
     "output_type": "execute_result"
    }
   ],
   "source": [
    "ufo[ufo['City'].str.startswith('E', na=False)]"
   ]
  },
  {
   "cell_type": "markdown",
   "metadata": {
    "colab_type": "text",
    "id": "znNkVPe6pXd-"
   },
   "source": [
    "### Q7:\n",
    "\n",
    "count the number of reported cases for 'LIGHT'"
   ]
  },
  {
   "cell_type": "code",
   "execution_count": 170,
   "metadata": {
    "colab": {},
    "colab_type": "code",
    "id": "99vUVABspXd_",
    "outputId": "73a0a0ed-c7d7-4054-f725-5d1d4758f392"
   },
   "outputs": [
    {
     "data": {
      "text/plain": [
       "2803"
      ]
     },
     "execution_count": 170,
     "metadata": {},
     "output_type": "execute_result"
    }
   ],
   "source": [
    "ufo[ufo['Shape Reported'] == 'LIGHT'].shape[0]"
   ]
  },
  {
   "cell_type": "markdown",
   "metadata": {
    "colab_type": "text",
    "id": "2kXlBSaEpXeC"
   },
   "source": [
    "### Q8\n",
    "\n",
    "count the number of shape reported, group by state and city"
   ]
  },
  {
   "cell_type": "code",
   "execution_count": 171,
   "metadata": {
    "colab": {},
    "colab_type": "code",
    "id": "WYcwF1WipXeC",
    "outputId": "34aa10a4-a6a7-426f-9087-c2d5b9d588b9",
    "scrolled": true
   },
   "outputs": [
    {
     "data": {
      "text/plain": [
       "State  City                     \n",
       "AK     Adak                          1\n",
       "       Alaska                        2\n",
       "       Anchorage                    12\n",
       "       Arctic                        1\n",
       "       Auke Bay                      2\n",
       "                                    ..\n",
       "WY     Ten Sleep                     1\n",
       "       Wheeling                      0\n",
       "       Wyoming                       2\n",
       "       Yellowstone National Park     1\n",
       "       Yellowstone Park              1\n",
       "Name: Shape Reported, Length: 8029, dtype: int64"
      ]
     },
     "execution_count": 171,
     "metadata": {},
     "output_type": "execute_result"
    }
   ],
   "source": [
    "ufo.groupby(['State', 'City'])['Shape Reported'].count()"
   ]
  }
 ],
 "metadata": {
  "colab": {
   "name": "3.0_Pandas.ipynb",
   "provenance": []
  },
  "kernelspec": {
   "display_name": "Python 3 (ipykernel)",
   "language": "python",
   "name": "python3"
  },
  "language_info": {
   "codemirror_mode": {
    "name": "ipython",
    "version": 3
   },
   "file_extension": ".py",
   "mimetype": "text/x-python",
   "name": "python",
   "nbconvert_exporter": "python",
   "pygments_lexer": "ipython3",
   "version": "3.9.13"
  }
 },
 "nbformat": 4,
 "nbformat_minor": 1
}
