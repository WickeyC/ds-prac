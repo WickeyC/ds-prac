{
 "cells": [
  {
   "cell_type": "markdown",
   "id": "cc8136db",
   "metadata": {},
   "source": [
    "## **Practical 2 Exercises:**"
   ]
  },
  {
   "cell_type": "code",
   "execution_count": 1,
   "id": "edff43e9",
   "metadata": {},
   "outputs": [],
   "source": [
    "import numpy as np"
   ]
  },
  {
   "cell_type": "markdown",
   "id": "b8c0a2c3",
   "metadata": {},
   "source": [
    "#### Question 1\n",
    "1. Create a 3x3 matrix with values ranging from 0 to 8"
   ]
  },
  {
   "cell_type": "code",
   "execution_count": 2,
   "id": "800b8cdb",
   "metadata": {},
   "outputs": [
    {
     "name": "stdout",
     "output_type": "stream",
     "text": [
      "q1 is\n",
      "[[0 1 2]\n",
      " [3 4 5]\n",
      " [6 7 8]]\n"
     ]
    }
   ],
   "source": [
    "# Q1\n",
    "q1 = np.arange(9).reshape(3, 3)\n",
    "print(\"q1 is\")\n",
    "print(q1)\n",
    "\n",
    "# Sample answer:\n",
    "# a1 is [[0 1 2]\n",
    "#  [3 4 5]\n",
    "#  [6 7 8]]"
   ]
  },
  {
   "cell_type": "markdown",
   "id": "592a3b27",
   "metadata": {},
   "source": [
    "#### Question 2\n",
    "2. Create a 10x10 array with random values and find the minimum and maximum values"
   ]
  },
  {
   "cell_type": "code",
   "execution_count": 3,
   "id": "10efb9af",
   "metadata": {},
   "outputs": [
    {
     "name": "stdout",
     "output_type": "stream",
     "text": [
      "max value of q2 is 0.9902116553624828\n",
      "min value of q2 is 0.03288893521020175\n"
     ]
    }
   ],
   "source": [
    "# Q2\n",
    "q2 = np.random.random((10, 10))\n",
    "# print(q2)\n",
    "print(\"max value of q2 is\", np.max(q2))\n",
    "print(\"min value of q2 is\", np.min(q2))\n",
    "\n",
    "# Sample answer:\n",
    "# max value of a2 is 0.9992937628379465\n",
    "# min value of a2 is 0.012441575894276191"
   ]
  },
  {
   "cell_type": "markdown",
   "id": "973ace8a",
   "metadata": {},
   "source": [
    "#### Question 3\n",
    "3. Create a 8x8 matrix and fill it with a checkerboard pattern "
   ]
  },
  {
   "cell_type": "code",
   "execution_count": 4,
   "id": "27ce6fc7",
   "metadata": {
    "scrolled": true
   },
   "outputs": [
    {
     "name": "stdout",
     "output_type": "stream",
     "text": [
      "q3 is\n",
      "[[0. 1. 0. 1. 0. 1. 0. 1.]\n",
      " [1. 0. 1. 0. 1. 0. 1. 0.]\n",
      " [0. 1. 0. 1. 0. 1. 0. 1.]\n",
      " [1. 0. 1. 0. 1. 0. 1. 0.]\n",
      " [0. 1. 0. 1. 0. 1. 0. 1.]\n",
      " [1. 0. 1. 0. 1. 0. 1. 0.]\n",
      " [0. 1. 0. 1. 0. 1. 0. 1.]\n",
      " [1. 0. 1. 0. 1. 0. 1. 0.]]\n"
     ]
    }
   ],
   "source": [
    "# Q3\n",
    "q3 = np.zeros((8, 8))\n",
    "q3[1::2, ::2] = 1\n",
    "q3[::2, 1::2] = 1\n",
    "print(\"q3 is\")\n",
    "print(q3)\n",
    "\n",
    "# Sample answer (!!wrong!!):\n",
    "# a3 is \n",
    "# [[1. 1. 1. 1. 1. 1. 1. 1.]\n",
    "#  [0. 0. 0. 0. 0. 0. 0. 0.]\n",
    "#  [1. 1. 1. 1. 1. 1. 1. 1.]\n",
    "#  [0. 0. 0. 0. 0. 0. 0. 0.]\n",
    "#  [1. 1. 1. 1. 1. 1. 1. 1.]\n",
    "#  [0. 0. 0. 0. 0. 0. 0. 0.]\n",
    "#  [1. 1. 1. 1. 1. 1. 1. 1.]\n",
    "#  [0. 0. 0. 0. 0. 0. 0. 0.]]"
   ]
  },
  {
   "cell_type": "markdown",
   "id": "8254553b",
   "metadata": {},
   "source": [
    "#### Question 4\n",
    "4. Create random vector of size 10 and replace the maximum value by 0"
   ]
  },
  {
   "cell_type": "code",
   "execution_count": 5,
   "id": "b3878866",
   "metadata": {},
   "outputs": [
    {
     "name": "stdout",
     "output_type": "stream",
     "text": [
      "original q4 is\n",
      "[0.95499748 0.82597215 0.77841279 0.71767224 0.95954109 0.79457117\n",
      " 0.24178283 0.64083669 0.53328774 0.45344192]\n",
      "new q4 is\n",
      "[0.95499748 0.82597215 0.77841279 0.71767224 0.         0.79457117\n",
      " 0.24178283 0.64083669 0.53328774 0.45344192]\n"
     ]
    }
   ],
   "source": [
    "# Q4\n",
    "q4 = np.random.rand(10)\n",
    "print(\"original q4 is\")\n",
    "print(q4)\n",
    "max_index = np.argmax(q4)\n",
    "q4[max_index] = 0\n",
    "print(\"new q4 is\")\n",
    "print(q4)\n",
    "\n",
    "# Sample answer:\n",
    "# original a4 is \n",
    "# [0.32642686 0.842169   0.3270934  0.76815538 0.72293528 0.72772311\n",
    "#  0.31843191 0.41676299 0.0269001  0.44165806]\n",
    "# new a4 is \n",
    "# [0.32642686 0.         0.3270934  0.76815538 0.72293528 0.72772311\n",
    "#  0.31843191 0.41676299 0.0269001  0.44165806]"
   ]
  },
  {
   "cell_type": "markdown",
   "id": "6783935d",
   "metadata": {},
   "source": [
    "#### Question 5\n",
    "5. Create a $4 * 4$ identity matrix."
   ]
  },
  {
   "cell_type": "code",
   "execution_count": 6,
   "id": "e277eb85",
   "metadata": {},
   "outputs": [
    {
     "name": "stdout",
     "output_type": "stream",
     "text": [
      "matrix identity q5 is\n",
      "[[1. 0. 0. 0.]\n",
      " [0. 1. 0. 0.]\n",
      " [0. 0. 1. 0.]\n",
      " [0. 0. 0. 1.]]\n"
     ]
    }
   ],
   "source": [
    "# Q5\n",
    "q5 = np.eye(4)\n",
    "print(\"matrix identity q5 is\")\n",
    "print(q5)\n",
    "\n",
    "# Sample answer:\n",
    "# matrix identity a5 is \n",
    "# [[1. 0. 0. 0.]\n",
    "#  [0. 1. 0. 0.]\n",
    "#  [0. 0. 1. 0.]\n",
    "#  [0. 0. 0. 1.]]"
   ]
  },
  {
   "cell_type": "markdown",
   "id": "4a3a8053",
   "metadata": {},
   "source": [
    "#### Question 6\n",
    "6. Generate the 2D array"
   ]
  },
  {
   "cell_type": "code",
   "execution_count": 7,
   "id": "d9f8eda6",
   "metadata": {},
   "outputs": [
    {
     "name": "stdout",
     "output_type": "stream",
     "text": [
      "2-D array q6 is\n",
      "[[0.29299351 0.6801015  0.64070941]\n",
      " [0.22896768 0.96508168 0.04578627]\n",
      " [0.70248292 0.07067561 0.12894765]]\n"
     ]
    }
   ],
   "source": [
    "# Q6\n",
    "q6 = np.random.rand(3, 3)\n",
    "print(\"2-D array q6 is\")\n",
    "print(q6)\n",
    "\n",
    "# Sample answer:\n",
    "# 2-D array a6 is \n",
    "# [[0.51586491 0.66398948 0.97664544]\n",
    "#  [0.04570482 0.89286948 0.96746235]\n",
    "#  [0.58957188 0.62527391 0.15207168]]"
   ]
  },
  {
   "cell_type": "markdown",
   "id": "46bcedae",
   "metadata": {},
   "source": [
    "#### Question 7\n",
    "7. Generate a random $4 \\times 4 \\times 4$ array of Gaussianly (Normal) distributed numbers.   "
   ]
  },
  {
   "cell_type": "code",
   "execution_count": 8,
   "id": "f02e12b3",
   "metadata": {},
   "outputs": [
    {
     "name": "stdout",
     "output_type": "stream",
     "text": [
      "3-D array q7 is\n",
      "[[[-1.81531699e+00 -1.04457366e+00  7.54664969e-01 -3.33505862e-01]\n",
      "  [-5.67523176e-01 -5.97250656e-01  1.93564977e+00  8.02507882e-01]\n",
      "  [ 4.48818835e-01  1.26089059e+00  7.62945664e-02  2.09293006e+00]\n",
      "  [ 6.33947907e-02 -1.01832785e-01  7.44216440e-01  1.81028246e+00]]\n",
      "\n",
      " [[ 3.22518455e-01  7.72158524e-01 -8.65445944e-01 -1.19624417e+00]\n",
      "  [-3.77440508e-01  1.92030315e+00 -9.50797763e-01 -2.14669049e-01]\n",
      "  [-5.92813264e-02 -1.00317572e-01 -5.70142442e-02  3.39354075e-01]\n",
      "  [ 1.37640543e+00  7.32334690e-01 -1.18050263e+00 -3.84516477e-01]]\n",
      "\n",
      " [[ 5.45419323e-01  7.91991217e-01  8.37163501e-01  1.12767059e+00]\n",
      "  [ 2.14693785e-01  1.69217186e-01  1.96609625e-03  7.58260193e-01]\n",
      "  [ 6.99284174e-02 -5.37951235e-01  1.02706257e+00 -6.30223690e-01]\n",
      "  [ 4.29453040e-01 -1.85204504e+00  1.55170499e+00 -2.74745038e-02]]\n",
      "\n",
      " [[ 2.10151459e-01 -1.24571114e+00  2.49989333e-01  1.06552764e+00]\n",
      "  [-6.15017001e-02  2.17628515e+00 -4.44976476e-01 -1.89893089e-01]\n",
      "  [-5.97328246e-01 -9.44290973e-01 -2.32800075e+00  6.85795506e-01]\n",
      "  [ 1.01248907e+00 -7.02785314e-01  1.21018612e+00 -1.40230240e+00]]]\n"
     ]
    }
   ],
   "source": [
    "# Q7\n",
    "q7 = np.random.randn(4, 4, 4)\n",
    "print(\"3-D array q7 is\")\n",
    "print(q7)\n",
    "\n",
    "# Sample answer:\n",
    "# 3-D array a7 is \n",
    "# [[[ 1.24532934 -0.21856698 -0.73979455  0.97734318]\n",
    "#   [-0.39611546  2.08889299  1.5800086  -1.49495715]\n",
    "#   [-0.4902839  -0.32530276  0.36206673 -1.81680732]\n",
    "#   [-0.78322585  0.77552733  0.10999834 -1.99478335]]\n",
    "\n",
    "#  [[ 0.42654637 -2.00054199 -0.73081536  1.5650001 ]\n",
    "#   [ 0.52327309  0.44793719 -0.69319204 -0.50252064]\n",
    "#   [ 0.75281488 -0.98192208 -1.09342367 -0.16395248]\n",
    "#   [-0.39731477  0.8379485   0.28013044  0.46306382]]\n",
    "\n",
    "#  [[-0.37884152 -0.76614664 -0.70402131 -0.20758354]\n",
    "#   [-1.08024839 -0.23268198 -1.57187888 -0.06078278]\n",
    "#   [-1.20464148 -0.08984497 -0.47294482 -0.68721336]\n",
    "#   [ 1.32338635 -1.04715013 -0.619475   -0.83355595]]\n",
    "\n",
    "#  [[ 0.40107191  0.43863124  1.61187035 -1.19535028]\n",
    "#   [ 0.95272223 -1.06955353 -0.78299704  1.51630909]\n",
    "#   [-0.74651708  0.84885255  1.47740253  0.06694602]\n",
    "#   [ 0.4545381  -1.94715794 -1.0914511   0.5649201 ]]]"
   ]
  },
  {
   "cell_type": "markdown",
   "id": "bd7ae615",
   "metadata": {},
   "source": [
    "#### Question 8\n",
    "8. Generate `n` evenly spaced intervals between 0. and 1.  "
   ]
  },
  {
   "cell_type": "code",
   "execution_count": 9,
   "id": "b0db890f",
   "metadata": {},
   "outputs": [
    {
     "name": "stdout",
     "output_type": "stream",
     "text": [
      "q8 is\n",
      "[0.  0.1 0.2 0.3 0.4 0.5 0.6 0.7 0.8 0.9 1. ]\n"
     ]
    }
   ],
   "source": [
    "# Q8\n",
    "# q8 = np.arange(0,10,1) # this is for integer\n",
    "q8 = np.linspace(0, 1, 11) # this is for non-integer step, such as 0.1\n",
    "# np.linspace(start, stop, num), \n",
    "# num: Number of samples to generate. Default is 50. Must be non-negative.\n",
    "# reference: https://numpy.org/doc/stable/reference/generated/numpy.linspace.html#numpy.linspace\n",
    "\n",
    "print(\"q8 is\")\n",
    "print(q8)\n",
    "\n",
    "# Sample answer:\n",
    "#  a8 is \n",
    "# [0.  0.1 0.2 0.3 0.4 0.5 0.6 0.7 0.8 0.9 1. ]"
   ]
  },
  {
   "cell_type": "markdown",
   "id": "46755ce2",
   "metadata": {},
   "source": [
    "#### Question 9\n",
    "9. Create a vector and then reverse the vector (first element becomes last)"
   ]
  },
  {
   "cell_type": "code",
   "execution_count": 10,
   "id": "c008aea5",
   "metadata": {},
   "outputs": [
    {
     "name": "stdout",
     "output_type": "stream",
     "text": [
      "q9 is\n",
      "[0 1 2 3 4 5 6 7 8 9]\n",
      "the reverse of q9 is\n",
      "[9 8 7 6 5 4 3 2 1 0]\n"
     ]
    }
   ],
   "source": [
    "# Q9\n",
    "q9 = np.arange(10)\n",
    "print(\"q9 is\")\n",
    "print(q9)\n",
    "print(\"the reverse of q9 is\")\n",
    "print(q9[::-1])\n",
    "\n",
    "# Sample answer:\n",
    "# a9 is \n",
    "# [0 1 2 3 4 5 6 7 8 9]\n",
    "# the reverse of a9 is \n",
    "# [9 8 7 6 5 4 3 2 1 0]"
   ]
  }
 ],
 "metadata": {
  "kernelspec": {
   "display_name": "Python 3 (ipykernel)",
   "language": "python",
   "name": "python3"
  },
  "language_info": {
   "codemirror_mode": {
    "name": "ipython",
    "version": 3
   },
   "file_extension": ".py",
   "mimetype": "text/x-python",
   "name": "python",
   "nbconvert_exporter": "python",
   "pygments_lexer": "ipython3",
   "version": "3.9.13"
  }
 },
 "nbformat": 4,
 "nbformat_minor": 5
}
