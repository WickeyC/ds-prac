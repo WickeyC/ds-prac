{
 "cells": [
  {
   "cell_type": "markdown",
   "metadata": {
    "colab_type": "text",
    "id": "woP_3InrzRN-"
   },
   "source": [
    "# 5.0 Supervised Learning"
   ]
  },
  {
   "cell_type": "markdown",
   "metadata": {
    "colab_type": "text",
    "id": "rSBvHmT6zROB"
   },
   "source": [
    "### Simple Demo : [IRIS](https://archive.ics.uci.edu/ml/datasets/Iris) dataset "
   ]
  },
  {
   "cell_type": "code",
   "execution_count": 1,
   "metadata": {
    "colab": {
     "base_uri": "https://localhost:8080/",
     "height": 71
    },
    "colab_type": "code",
    "executionInfo": {
     "elapsed": 2736,
     "status": "ok",
     "timestamp": 1596863367305,
     "user": {
      "displayName": "YONG POH YU",
      "photoUrl": "https://lh3.googleusercontent.com/a-/AOh14Ggm8MLlDEFXwbBGZ_6JuVPq1RxXTXVK7REHsxrG=s64",
      "userId": "15844820659946946317"
     },
     "user_tz": -480
    },
    "id": "FdVlxYNIzROD",
    "outputId": "d2c74490-8fcb-43f3-dc36-4ee442fa9172",
    "scrolled": true
   },
   "outputs": [
    {
     "name": "stderr",
     "output_type": "stream",
     "text": [
      "/usr/local/lib/python3.6/dist-packages/statsmodels/tools/_testing.py:19: FutureWarning: pandas.util.testing is deprecated. Use the functions in the public API at pandas.testing instead.\n",
      "  import pandas.util.testing as tm\n"
     ]
    }
   ],
   "source": [
    "import seaborn as sns\n",
    "iris = sns.load_dataset('iris')\n",
    "import pandas as pd\n",
    "\n",
    "X_iris = iris.drop('species', axis=1)\n",
    "y_iris = iris['species']"
   ]
  },
  {
   "cell_type": "code",
   "execution_count": 2,
   "metadata": {
    "colab": {},
    "colab_type": "code",
    "executionInfo": {
     "elapsed": 1674,
     "status": "ok",
     "timestamp": 1596863487469,
     "user": {
      "displayName": "YONG POH YU",
      "photoUrl": "https://lh3.googleusercontent.com/a-/AOh14Ggm8MLlDEFXwbBGZ_6JuVPq1RxXTXVK7REHsxrG=s64",
      "userId": "15844820659946946317"
     },
     "user_tz": -480
    },
    "id": "bEgScdJszROM"
   },
   "outputs": [],
   "source": [
    "from sklearn.model_selection import train_test_split\n",
    "Xtrain, Xtest, ytrain, ytest = train_test_split(X_iris, y_iris,random_state=1)"
   ]
  },
  {
   "cell_type": "code",
   "execution_count": 3,
   "metadata": {
    "colab": {},
    "colab_type": "code",
    "executionInfo": {
     "elapsed": 2486,
     "status": "ok",
     "timestamp": 1596863492072,
     "user": {
      "displayName": "YONG POH YU",
      "photoUrl": "https://lh3.googleusercontent.com/a-/AOh14Ggm8MLlDEFXwbBGZ_6JuVPq1RxXTXVK7REHsxrG=s64",
      "userId": "15844820659946946317"
     },
     "user_tz": -480
    },
    "id": "uywtSZWczROU"
   },
   "outputs": [],
   "source": [
    "from sklearn.naive_bayes import GaussianNB # 1. choose model class\n",
    "model = GaussianNB()                       # 2. instantiate model\n",
    "model.fit(Xtrain, ytrain)                  # 3. fit model to data\n",
    "y_model = model.predict(Xtest)             # 4. predict on new data"
   ]
  },
  {
   "cell_type": "code",
   "execution_count": 4,
   "metadata": {
    "colab": {
     "base_uri": "https://localhost:8080/",
     "height": 34
    },
    "colab_type": "code",
    "executionInfo": {
     "elapsed": 1718,
     "status": "ok",
     "timestamp": 1596863497303,
     "user": {
      "displayName": "YONG POH YU",
      "photoUrl": "https://lh3.googleusercontent.com/a-/AOh14Ggm8MLlDEFXwbBGZ_6JuVPq1RxXTXVK7REHsxrG=s64",
      "userId": "15844820659946946317"
     },
     "user_tz": -480
    },
    "id": "4pznqDRxzROb",
    "outputId": "6d9bae12-e16c-440e-cbd2-50473aa5bef7",
    "scrolled": true
   },
   "outputs": [
    {
     "data": {
      "text/plain": [
       "0.9736842105263158"
      ]
     },
     "execution_count": 4,
     "metadata": {
      "tags": []
     },
     "output_type": "execute_result"
    }
   ],
   "source": [
    "from sklearn.metrics import accuracy_score\n",
    "accuracy_score(ytest, y_model)"
   ]
  },
  {
   "cell_type": "markdown",
   "metadata": {
    "colab_type": "text",
    "id": "lZtXBllkzROj"
   },
   "source": [
    "GaussianNB: (shhh.... I am **naive** but I am **smart**!)"
   ]
  },
  {
   "cell_type": "markdown",
   "metadata": {
    "colab_type": "text",
    "id": "B5D0xzCTzROk"
   },
   "source": [
    "## Next, KNN Classifier\n",
    "\n",
    "more [info](https://kevinzakka.github.io/2016/07/13/k-nearest-neighbor/)"
   ]
  },
  {
   "cell_type": "code",
   "execution_count": 5,
   "metadata": {
    "colab": {},
    "colab_type": "code",
    "executionInfo": {
     "elapsed": 874,
     "status": "ok",
     "timestamp": 1596863534327,
     "user": {
      "displayName": "YONG POH YU",
      "photoUrl": "https://lh3.googleusercontent.com/a-/AOh14Ggm8MLlDEFXwbBGZ_6JuVPq1RxXTXVK7REHsxrG=s64",
      "userId": "15844820659946946317"
     },
     "user_tz": -480
    },
    "id": "4XAsmXxpzROl"
   },
   "outputs": [],
   "source": [
    "from sklearn.neighbors import KNeighborsClassifier\n",
    "\n",
    "knn = KNeighborsClassifier(n_neighbors = 5)\n",
    "\n"
   ]
  },
  {
   "cell_type": "code",
   "execution_count": 6,
   "metadata": {
    "colab": {
     "base_uri": "https://localhost:8080/",
     "height": 69
    },
    "colab_type": "code",
    "executionInfo": {
     "elapsed": 885,
     "status": "ok",
     "timestamp": 1596863664632,
     "user": {
      "displayName": "YONG POH YU",
      "photoUrl": "https://lh3.googleusercontent.com/a-/AOh14Ggm8MLlDEFXwbBGZ_6JuVPq1RxXTXVK7REHsxrG=s64",
      "userId": "15844820659946946317"
     },
     "user_tz": -480
    },
    "id": "DWRg55I2zROs",
    "outputId": "a126aff7-cb2a-4430-8ec2-c8b7640baacf"
   },
   "outputs": [
    {
     "data": {
      "text/plain": [
       "KNeighborsClassifier(algorithm='auto', leaf_size=30, metric='minkowski',\n",
       "                     metric_params=None, n_jobs=None, n_neighbors=5, p=2,\n",
       "                     weights='uniform')"
      ]
     },
     "execution_count": 6,
     "metadata": {
      "tags": []
     },
     "output_type": "execute_result"
    }
   ],
   "source": [
    "knn.fit(Xtrain, ytrain)"
   ]
  },
  {
   "cell_type": "code",
   "execution_count": 7,
   "metadata": {
    "colab": {
     "base_uri": "https://localhost:8080/",
     "height": 34
    },
    "colab_type": "code",
    "executionInfo": {
     "elapsed": 1071,
     "status": "ok",
     "timestamp": 1596863667342,
     "user": {
      "displayName": "YONG POH YU",
      "photoUrl": "https://lh3.googleusercontent.com/a-/AOh14Ggm8MLlDEFXwbBGZ_6JuVPq1RxXTXVK7REHsxrG=s64",
      "userId": "15844820659946946317"
     },
     "user_tz": -480
    },
    "id": "gCCBTPl1zROw",
    "outputId": "25125059-c3a4-4c50-fcb8-4c45191b62b7"
   },
   "outputs": [
    {
     "data": {
      "text/plain": [
       "1.0"
      ]
     },
     "execution_count": 7,
     "metadata": {
      "tags": []
     },
     "output_type": "execute_result"
    }
   ],
   "source": [
    "knn.score(Xtest, ytest)"
   ]
  },
  {
   "cell_type": "markdown",
   "metadata": {
    "colab_type": "text",
    "id": "z7hT62FZzRO0"
   },
   "source": [
    "knn: hahaha, I am smarter than you, GaussianNB!"
   ]
  },
  {
   "cell_type": "markdown",
   "metadata": {
    "colab_type": "text",
    "id": "yaB673dezRO1"
   },
   "source": [
    "### Pros and Cons of KNN\n",
    "\n",
    "**Pros**\n",
    "\n",
    "One of the most attractive features of the K-nearest neighbor algorithm is that is **simple to understand and easy to implement**. \n",
    "\n",
    "**Cons**\n",
    "\n",
    "One of the obvious drawbacks of the KNN algorithm is the **computationally expensive** testing phase which is impractical in industry settings. Furthermore, KNN can suffer from **skewed class** distributions. For example, if a certain class is very frequent in the training set, it will tend to dominate the majority voting of the new example (large number = more common). Finally, the accuracy of KNN can be severely degraded with high-dimension data because there is little difference between the nearest and farthest neighbor."
   ]
  },
  {
   "cell_type": "markdown",
   "metadata": {
    "colab_type": "text",
    "id": "wlPt0mKYzRO2"
   },
   "source": [
    "## Exercise:\n",
    "\n",
    "Read the Wine Quality White dataset (``winequality.csv``) from your data folder.\n",
    "\n",
    "Perform the follwong tasks:\n",
    "- select features to be the first 11 columns while the last column to be the target\n",
    "- plot the pair plot for all features\n",
    "- separate the data to 80:20 training and testing datasets\n",
    "- create an instance of Neighbours Classifier and fit the data\n",
    "- Measure the accurary and Root Mean Square Error (RMSE) for the fitted model\n",
    "- Perform grid search to find the best parameters for KNN, for ``weights: ['uniform', 'distance']``, ``n_neighbors: [40, 60, 80, 100, 120, 140]``\n"
   ]
  },
  {
   "cell_type": "code",
   "execution_count": null,
   "metadata": {
    "colab": {},
    "colab_type": "code",
    "id": "jXxFw8BDzRO4"
   },
   "outputs": [],
   "source": [
    "from sklearn.neighbors import KNeighborsClassifier\n",
    "from sklearn.model_selection import train_test_split\n",
    "from sklearn.metrics import mean_squared_error\n",
    "from sklearn.model_selection import GridSearchCV\n",
    "\n",
    "import pandas as pd\n",
    "\n",
    "df = pd.read_csv('winequality.csv')"
   ]
  },
  {
   "cell_type": "code",
   "execution_count": null,
   "metadata": {
    "colab": {},
    "colab_type": "code",
    "id": "SVtF057_zRO9",
    "outputId": "05581ae4-05bb-40dc-f413-262f34e9b9a0",
    "scrolled": true
   },
   "outputs": [
    {
     "name": "stdout",
     "output_type": "stream",
     "text": [
      "Score: 0.4995918367346939\n",
      "RMSE: 0.9328472981322575\n",
      "GridSearchCV(cv=None, error_score='raise',\n",
      "       estimator=KNeighborsClassifier(algorithm='auto', leaf_size=30, metric='minkowski',\n",
      "           metric_params=None, n_jobs=1, n_neighbors=5, p=2,\n",
      "           weights='uniform'),\n",
      "       fit_params=None, iid=True, n_jobs=1,\n",
      "       param_grid=[{'weights': ['uniform', 'distance'], 'n_neighbors': [40, 60, 80, 100, 120, 140]}],\n",
      "       pre_dispatch='2*n_jobs', refit=True, return_train_score='warn',\n",
      "       scoring=None, verbose=0)\n",
      "0.5687448951810509\n",
      "distance\n",
      "100\n"
     ]
    }
   ],
   "source": []
  },
  {
   "cell_type": "markdown",
   "metadata": {
    "colab_type": "text",
    "id": "NGtWryqDzRPD"
   },
   "source": [
    "# SVM"
   ]
  },
  {
   "cell_type": "code",
   "execution_count": 8,
   "metadata": {
    "colab": {
     "base_uri": "https://localhost:8080/",
     "height": 69
    },
    "colab_type": "code",
    "executionInfo": {
     "elapsed": 918,
     "status": "ok",
     "timestamp": 1596864191662,
     "user": {
      "displayName": "YONG POH YU",
      "photoUrl": "https://lh3.googleusercontent.com/a-/AOh14Ggm8MLlDEFXwbBGZ_6JuVPq1RxXTXVK7REHsxrG=s64",
      "userId": "15844820659946946317"
     },
     "user_tz": -480
    },
    "id": "rrmkSiKZzRPE",
    "outputId": "ea4aa020-9f6c-4c93-c6ef-b62c1d72e416",
    "scrolled": true
   },
   "outputs": [
    {
     "name": "stdout",
     "output_type": "stream",
     "text": [
      "Breast cancer dataset\n",
      "Accuracy of RBF SVC classifier on training set: 0.90\n",
      "Accuracy of RBF SVC classifier on test set: 0.94\n"
     ]
    }
   ],
   "source": [
    "from sklearn.svm import SVC\n",
    "from sklearn.model_selection import train_test_split\n",
    "from sklearn.datasets import load_breast_cancer\n",
    "\n",
    "\n",
    "cancer = load_breast_cancer()\n",
    "(X_cancer, y_cancer) = load_breast_cancer(return_X_y = True)\n",
    "X_train, X_test, y_train, y_test = train_test_split(X_cancer, y_cancer, random_state = 0)\n",
    "\n",
    "\n",
    "clf = SVC(kernel='rbf', C=1).fit(X_train, y_train)\n",
    "print('Breast cancer dataset')\n",
    "print('Accuracy of RBF SVC classifier on training set: {:.2f}'\n",
    "     .format(clf.score(X_train, y_train)))\n",
    "print('Accuracy of RBF SVC classifier on test set: {:.2f}'\n",
    "     .format(clf.score(X_test, y_test)))"
   ]
  },
  {
   "cell_type": "code",
   "execution_count": null,
   "metadata": {
    "colab": {
     "base_uri": "https://localhost:8080/",
     "height": 242
    },
    "colab_type": "code",
    "executionInfo": {
     "elapsed": 759,
     "status": "ok",
     "timestamp": 1596516288559,
     "user": {
      "displayName": "YONG POH YU",
      "photoUrl": "https://lh3.googleusercontent.com/a-/AOh14Ggm8MLlDEFXwbBGZ_6JuVPq1RxXTXVK7REHsxrG=s64",
      "userId": "15844820659946946317"
     },
     "user_tz": -480
    },
    "id": "yQ-MGcCGySuc",
    "outputId": "88505067-83e9-4766-f2d5-39b3400f9291"
   },
   "outputs": [
    {
     "data": {
      "text/plain": [
       "array([[1.185e+01, 1.746e+01, 7.554e+01, ..., 9.140e-02, 3.101e-01,\n",
       "        7.007e-02],\n",
       "       [1.122e+01, 1.986e+01, 7.194e+01, ..., 2.022e-02, 3.292e-01,\n",
       "        6.522e-02],\n",
       "       [2.013e+01, 2.825e+01, 1.312e+02, ..., 1.628e-01, 2.572e-01,\n",
       "        6.637e-02],\n",
       "       ...,\n",
       "       [9.436e+00, 1.832e+01, 5.982e+01, ..., 5.052e-02, 2.454e-01,\n",
       "        8.136e-02],\n",
       "       [9.720e+00, 1.822e+01, 6.073e+01, ..., 0.000e+00, 1.909e-01,\n",
       "        6.559e-02],\n",
       "       [1.151e+01, 2.393e+01, 7.452e+01, ..., 9.653e-02, 2.112e-01,\n",
       "        8.732e-02]])"
      ]
     },
     "execution_count": 10,
     "metadata": {
      "tags": []
     },
     "output_type": "execute_result"
    }
   ],
   "source": [
    "X_train"
   ]
  },
  {
   "cell_type": "markdown",
   "metadata": {
    "colab_type": "text",
    "id": "vlAZoS7nzRPK"
   },
   "source": [
    "### C parameter\n",
    "\n",
    "Try the following codes, express your findings."
   ]
  },
  {
   "cell_type": "code",
   "execution_count": 15,
   "metadata": {
    "colab": {
     "base_uri": "https://localhost:8080/",
     "height": 69
    },
    "colab_type": "code",
    "executionInfo": {
     "elapsed": 837,
     "status": "ok",
     "timestamp": 1596864338815,
     "user": {
      "displayName": "YONG POH YU",
      "photoUrl": "https://lh3.googleusercontent.com/a-/AOh14Ggm8MLlDEFXwbBGZ_6JuVPq1RxXTXVK7REHsxrG=s64",
      "userId": "15844820659946946317"
     },
     "user_tz": -480
    },
    "id": "s2KXiJOQzRPM",
    "outputId": "156ad343-77a1-4dfa-8a40-e4c80dad5e4e",
    "scrolled": true
   },
   "outputs": [
    {
     "name": "stdout",
     "output_type": "stream",
     "text": [
      "Breast cancer dataset\n",
      "Accuracy of RBF SVC classifier on training set: 0.94\n",
      "Accuracy of RBF SVC classifier on test set: 0.94\n"
     ]
    }
   ],
   "source": [
    "clf = SVC(kernel='rbf', C=100).fit(X_train, y_train)\n",
    "print('Breast cancer dataset')\n",
    "print('Accuracy of RBF SVC classifier on training set: {:.2f}'\n",
    "     .format(clf.score(X_train, y_train)))\n",
    "print('Accuracy of RBF SVC classifier on test set: {:.2f}'\n",
    "     .format(clf.score(X_test, y_test)))"
   ]
  },
  {
   "cell_type": "markdown",
   "metadata": {
    "colab_type": "text",
    "id": "aDYObseKzRPS"
   },
   "source": [
    "### MinMaxScaler\n",
    "\n",
    "SVM is sensitive to distance/length. Try the following codes and express your findings. "
   ]
  },
  {
   "cell_type": "code",
   "execution_count": 1,
   "metadata": {
    "colab": {
     "base_uri": "https://localhost:8080/",
     "height": 69
    },
    "colab_type": "code",
    "executionInfo": {
     "elapsed": 882,
     "status": "ok",
     "timestamp": 1596864758053,
     "user": {
      "displayName": "YONG POH YU",
      "photoUrl": "https://lh3.googleusercontent.com/a-/AOh14Ggm8MLlDEFXwbBGZ_6JuVPq1RxXTXVK7REHsxrG=s64",
      "userId": "15844820659946946317"
     },
     "user_tz": -480
    },
    "id": "IqzTV-8fzRPT",
    "outputId": "51364440-f412-4d01-cc72-e766e160f9fe",
    "scrolled": true
   },
   "outputs": [
    {
     "ename": "NameError",
     "evalue": "name 'X_train' is not defined",
     "output_type": "error",
     "traceback": [
      "\u001b[1;31m---------------------------------------------------------------------------\u001b[0m",
      "\u001b[1;31mNameError\u001b[0m                                 Traceback (most recent call last)",
      "\u001b[1;32m~\\AppData\\Local\\Temp\\ipykernel_12956\\3764154454.py\u001b[0m in \u001b[0;36m<module>\u001b[1;34m\u001b[0m\n\u001b[0;32m      1\u001b[0m \u001b[1;32mfrom\u001b[0m \u001b[0msklearn\u001b[0m\u001b[1;33m.\u001b[0m\u001b[0mpreprocessing\u001b[0m \u001b[1;32mimport\u001b[0m \u001b[0mMinMaxScaler\u001b[0m\u001b[1;33m\u001b[0m\u001b[1;33m\u001b[0m\u001b[0m\n\u001b[0;32m      2\u001b[0m \u001b[0mscaler\u001b[0m \u001b[1;33m=\u001b[0m \u001b[0mMinMaxScaler\u001b[0m\u001b[1;33m(\u001b[0m\u001b[1;33m)\u001b[0m\u001b[1;33m\u001b[0m\u001b[1;33m\u001b[0m\u001b[0m\n\u001b[1;32m----> 3\u001b[1;33m \u001b[0mX_train_scaled\u001b[0m \u001b[1;33m=\u001b[0m \u001b[0mscaler\u001b[0m\u001b[1;33m.\u001b[0m\u001b[0mfit_transform\u001b[0m\u001b[1;33m(\u001b[0m\u001b[0mX_train\u001b[0m\u001b[1;33m)\u001b[0m\u001b[1;33m\u001b[0m\u001b[1;33m\u001b[0m\u001b[0m\n\u001b[0m\u001b[0;32m      4\u001b[0m \u001b[0mX_test_scaled\u001b[0m \u001b[1;33m=\u001b[0m \u001b[0mscaler\u001b[0m\u001b[1;33m.\u001b[0m\u001b[0mtransform\u001b[0m\u001b[1;33m(\u001b[0m\u001b[0mX_test\u001b[0m\u001b[1;33m)\u001b[0m\u001b[1;33m\u001b[0m\u001b[1;33m\u001b[0m\u001b[0m\n\u001b[0;32m      5\u001b[0m \u001b[1;33m\u001b[0m\u001b[0m\n",
      "\u001b[1;31mNameError\u001b[0m: name 'X_train' is not defined"
     ]
    }
   ],
   "source": [
    "from sklearn.preprocessing import MinMaxScaler\n",
    "scaler = MinMaxScaler()\n",
    "X_train_scaled = scaler.fit_transform(X_train)\n",
    "X_test_scaled = scaler.transform(X_test)\n",
    "\n",
    "clf = SVC(C=45).fit(X_train_scaled, y_train)\n",
    "print('Breast cancer dataset (normalized with MinMax scaling)')\n",
    "print('RBF-kernel SVC (with MinMax scaling) training set accuracy: {:.2f}'\n",
    "     .format(clf.score(X_train_scaled, y_train)))\n",
    "print('RBF-kernel SVC (with MinMax scaling) test set accuracy: {:.2f}'\n",
    "     .format(clf.score(X_test_scaled, y_test)))"
   ]
  },
  {
   "cell_type": "code",
   "execution_count": null,
   "metadata": {
    "colab": {},
    "colab_type": "code",
    "id": "wHOkUOXqy3Z2"
   },
   "outputs": [],
   "source": []
  },
  {
   "cell_type": "code",
   "execution_count": null,
   "metadata": {
    "colab": {},
    "colab_type": "code",
    "id": "CjJFjpJmzRPY"
   },
   "outputs": [],
   "source": []
  }
 ],
 "metadata": {
  "colab": {
   "name": "5.0_SupervisedLearning.ipynb",
   "provenance": []
  },
  "kernelspec": {
   "display_name": "Python 3 (ipykernel)",
   "language": "python",
   "name": "python3"
  },
  "language_info": {
   "codemirror_mode": {
    "name": "ipython",
    "version": 3
   },
   "file_extension": ".py",
   "mimetype": "text/x-python",
   "name": "python",
   "nbconvert_exporter": "python",
   "pygments_lexer": "ipython3",
   "version": "3.9.13"
  }
 },
 "nbformat": 4,
 "nbformat_minor": 1
}
