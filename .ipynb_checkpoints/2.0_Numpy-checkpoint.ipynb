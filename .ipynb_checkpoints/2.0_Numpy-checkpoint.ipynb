{
 "cells": [
  {
   "cell_type": "markdown",
   "metadata": {
    "colab_type": "text",
    "id": "4GR0MBxel8O9"
   },
   "source": [
    "# 2.0 Numpy\n",
    "\n"
   ]
  },
  {
   "cell_type": "markdown",
   "metadata": {
    "colab_type": "text",
    "id": "83aI4Nv1l8O_"
   },
   "source": [
    "[Numpy](http://www.numpy.org/) is short for _numerical python_, and provides functions that are especially useful when you have to work with large arrays and matrices of numeric data, like matrix multiplications.  \n",
    "\n",
    "The array object class is the foundation of Numpy, and Numpy arrays are like lists in Python, except that every thing inside an array must be of the same type, like int or float. As a result, arrays provide much more efficient storage and data operations, especially as the arrays grow larger in size. However, in other ways, NumPy arrays are very similar to Python's built-in list type."
   ]
  },
  {
   "cell_type": "markdown",
   "metadata": {
    "colab_type": "text",
    "id": "-HlHMXcel8PA"
   },
   "source": [
    "### Create array from lists:"
   ]
  },
  {
   "cell_type": "code",
   "execution_count": null,
   "metadata": {
    "colab": {},
    "colab_type": "code",
    "id": "_AAwXzMFl8PB",
    "outputId": "47e29913-32c4-4973-f86d-35b630963d69",
    "scrolled": false
   },
   "outputs": [
    {
     "name": "stdout",
     "output_type": "stream",
     "text": [
      "[[ 1  2  3  4  5]\n",
      " [ 6  7  8  9 10]] <class 'numpy.ndarray'>\n"
     ]
    }
   ],
   "source": [
    "import numpy as np # similar to library() in R\n",
    "\n",
    "my_list = [[1,2,3,4,5],[6,7,8,9,10]]\n",
    "\n",
    "array = np.array(my_list)\n",
    "\n",
    "print(array, type(array))"
   ]
  },
  {
   "cell_type": "code",
   "execution_count": null,
   "metadata": {
    "colab": {},
    "colab_type": "code",
    "id": "A-Ia4Qvcl8PO",
    "outputId": "5c455b63-c436-465a-dddd-3404688c274f"
   },
   "outputs": [
    {
     "name": "stdout",
     "output_type": "stream",
     "text": [
      "[[0. 0. 0. 0.]\n",
      " [0. 0. 0. 0.]\n",
      " [0. 0. 0. 0.]]\n",
      "[[1. 1.]\n",
      " [1. 1.]\n",
      " [1. 1.]\n",
      " [1. 1.]\n",
      " [1. 1.]]\n"
     ]
    }
   ],
   "source": [
    "print(np.zeros((3,4)))\n",
    "print(np.ones((5,2)))\n"
   ]
  },
  {
   "cell_type": "code",
   "execution_count": null,
   "metadata": {
    "colab": {},
    "colab_type": "code",
    "id": "juFVXxeil8PU",
    "outputId": "72059140-4deb-44d9-e1f2-ccfaa111b24c",
    "scrolled": true
   },
   "outputs": [
    {
     "name": "stdout",
     "output_type": "stream",
     "text": [
      "[   0    1    2 ... 9997 9998 9999]\n"
     ]
    }
   ],
   "source": [
    "print(np.arange(10000))"
   ]
  },
  {
   "cell_type": "code",
   "execution_count": null,
   "metadata": {
    "colab": {},
    "colab_type": "code",
    "id": "HUDAyX3jl8PY",
    "outputId": "127a6732-74a2-408d-91b7-7c8bc4d15502",
    "scrolled": true
   },
   "outputs": [
    {
     "data": {
      "text/plain": [
       "array([[0.36187763, 0.36157215, 0.8857897 ],\n",
       "       [0.24185757, 0.64562173, 0.16151411],\n",
       "       [0.54631259, 0.86169173, 0.3351552 ]])"
      ]
     },
     "execution_count": 5,
     "metadata": {
      "tags": []
     },
     "output_type": "execute_result"
    }
   ],
   "source": [
    "np.random.random((3, 3))"
   ]
  },
  {
   "cell_type": "markdown",
   "metadata": {
    "colab_type": "text",
    "id": "X-yKBqRvl8Pc"
   },
   "source": [
    "### Exercise:\n",
    "Create a 3x3 array of normally distributed random values with mean 0 and standard deviation 1"
   ]
  },
  {
   "cell_type": "code",
   "execution_count": null,
   "metadata": {
    "colab": {},
    "colab_type": "code",
    "id": "yXa3AulAl8Pd",
    "outputId": "6263080c-81ba-4394-87f0-e0204daea123",
    "scrolled": true
   },
   "outputs": [
    {
     "data": {
      "text/plain": [
       "array([[-0.06853059, -0.94239075, -0.71156639],\n",
       "       [-1.85399979,  2.21686759, -0.75593635],\n",
       "       [-1.00480399,  0.70835068, -1.02972119]])"
      ]
     },
     "execution_count": 6,
     "metadata": {
      "tags": []
     },
     "output_type": "execute_result"
    }
   ],
   "source": [
    "\n"
   ]
  },
  {
   "cell_type": "markdown",
   "metadata": {
    "colab_type": "text",
    "id": "3yFz4MKMl8Pg"
   },
   "source": [
    "### Vectorization"
   ]
  },
  {
   "cell_type": "code",
   "execution_count": null,
   "metadata": {
    "colab": {},
    "colab_type": "code",
    "id": "JJgaEQINl8Ph",
    "outputId": "0fc8667a-116a-4661-f99f-7ba1b437c74a"
   },
   "outputs": [
    {
     "data": {
      "text/plain": [
       "[1, 2, 3, 4, 5, 1, 2, 3, 4, 5]"
      ]
     },
     "execution_count": 7,
     "metadata": {
      "tags": []
     },
     "output_type": "execute_result"
    }
   ],
   "source": [
    "my_list = [1,2,3,4,5]\n",
    "\n",
    "my_list + my_list"
   ]
  },
  {
   "cell_type": "markdown",
   "metadata": {
    "colab_type": "text",
    "id": "AVLJ7fOGl8Pl"
   },
   "source": [
    "### try:\n",
    "np.array(my_list) + np.array(my_list)"
   ]
  },
  {
   "cell_type": "code",
   "execution_count": null,
   "metadata": {
    "colab": {},
    "colab_type": "code",
    "id": "wD7-gVcZl8Pm",
    "outputId": "58bdabc0-40c6-44cd-d7fa-4bd077f10bb7",
    "scrolled": true
   },
   "outputs": [
    {
     "data": {
      "text/plain": [
       "array([ 2,  4,  6,  8, 10])"
      ]
     },
     "execution_count": 8,
     "metadata": {
      "tags": []
     },
     "output_type": "execute_result"
    }
   ],
   "source": [
    "np.array(my_list) + np.array(my_list)"
   ]
  },
  {
   "cell_type": "code",
   "execution_count": null,
   "metadata": {
    "colab": {},
    "colab_type": "code",
    "id": "H2MqQJF1l8Pp",
    "outputId": "30bc8827-7c72-4cec-a30d-41de99c34be1",
    "scrolled": true
   },
   "outputs": [
    {
     "name": "stdout",
     "output_type": "stream",
     "text": [
      "[2, 4, 6, 8, 10]\n"
     ]
    }
   ],
   "source": [
    "print([x*2 for x in my_list])"
   ]
  },
  {
   "cell_type": "code",
   "execution_count": null,
   "metadata": {
    "colab": {},
    "colab_type": "code",
    "id": "YA7TGcvPl8Pt",
    "outputId": "1a38aa23-f8a6-464e-e6b8-ffa5e24cbaf7",
    "scrolled": true
   },
   "outputs": [
    {
     "data": {
      "text/plain": [
       "array([[0.30165574, 0.53969401, 0.5827302 ],\n",
       "       [0.86786663, 0.4574494 , 0.03744257],\n",
       "       [0.9767365 , 0.81606169, 0.59997511]])"
      ]
     },
     "execution_count": 10,
     "metadata": {
      "tags": []
     },
     "output_type": "execute_result"
    }
   ],
   "source": [
    "np.random.random((3, 3))"
   ]
  },
  {
   "cell_type": "markdown",
   "metadata": {
    "colab_type": "text",
    "id": "i6YwCqb0l8Px"
   },
   "source": [
    "### indexing\n"
   ]
  },
  {
   "cell_type": "code",
   "execution_count": null,
   "metadata": {
    "colab": {},
    "colab_type": "code",
    "id": "jXvZMfeAl8Py",
    "outputId": "35193ee8-cc9a-4fef-9634-a9af7294b10b"
   },
   "outputs": [
    {
     "data": {
      "text/plain": [
       "array([[0.56711767, 0.29745544, 0.80214092],\n",
       "       [0.05065611, 0.98701317, 0.43131841],\n",
       "       [0.84975935, 0.87927437, 0.81053322]])"
      ]
     },
     "execution_count": 11,
     "metadata": {
      "tags": []
     },
     "output_type": "execute_result"
    }
   ],
   "source": [
    "rand_num = np.random.random((3, 3))\n",
    "\n",
    "rand_num"
   ]
  },
  {
   "cell_type": "code",
   "execution_count": null,
   "metadata": {
    "colab": {},
    "colab_type": "code",
    "id": "QsdVSrw1l8P2",
    "outputId": "db939856-0540-4d1d-91e0-bb352fbbc137",
    "scrolled": true
   },
   "outputs": [
    {
     "data": {
      "text/plain": [
       "array([[0.56711767],\n",
       "       [0.05065611],\n",
       "       [0.84975935]])"
      ]
     },
     "execution_count": 12,
     "metadata": {
      "tags": []
     },
     "output_type": "execute_result"
    }
   ],
   "source": [
    "rand_num[:,0:1]"
   ]
  },
  {
   "cell_type": "code",
   "execution_count": null,
   "metadata": {
    "colab": {},
    "colab_type": "code",
    "id": "cnyceNcOl8P6",
    "outputId": "84aa6bd7-f5e4-4d88-9617-1ae83207e65b",
    "scrolled": true
   },
   "outputs": [
    {
     "data": {
      "text/plain": [
       "array([[0.56711767, 0.29745544, 0.80214092],\n",
       "       [0.05065611, 0.98701317, 0.43131841],\n",
       "       [0.84975935, 0.87927437, 0.81053322]])"
      ]
     },
     "execution_count": 13,
     "metadata": {
      "tags": []
     },
     "output_type": "execute_result"
    }
   ],
   "source": [
    "rand_num[:,0:3]"
   ]
  },
  {
   "cell_type": "code",
   "execution_count": null,
   "metadata": {
    "colab": {},
    "colab_type": "code",
    "id": "0Ej4EAm4l8P8",
    "outputId": "5d27a2a3-e972-412a-d8be-c7273f20d5f8"
   },
   "outputs": [
    {
     "data": {
      "text/plain": [
       "array([0.56711767, 0.29745544, 0.43131841])"
      ]
     },
     "execution_count": 14,
     "metadata": {
      "tags": []
     },
     "output_type": "execute_result"
    }
   ],
   "source": [
    "mask = (0.2 < rand_num) * (rand_num < 0.7)\n",
    "rand_num[mask]"
   ]
  },
  {
   "cell_type": "code",
   "execution_count": null,
   "metadata": {
    "colab": {},
    "colab_type": "code",
    "id": "GNil1f6kl8P_",
    "outputId": "f1834a09-46f0-4455-b446-ce519d007369"
   },
   "outputs": [
    {
     "data": {
      "text/plain": [
       "(array([0, 0, 2], dtype=int64), array([1, 2, 2], dtype=int64))"
      ]
     },
     "execution_count": 112,
     "metadata": {
      "tags": []
     },
     "output_type": "execute_result"
    }
   ],
   "source": [
    "np.where(mask)"
   ]
  },
  {
   "cell_type": "code",
   "execution_count": null,
   "metadata": {
    "colab": {},
    "colab_type": "code",
    "id": "kM1utucAl8QC",
    "outputId": "85f560d2-8988-4a44-9c11-4d8d0cd95273",
    "scrolled": true
   },
   "outputs": [
    {
     "data": {
      "text/plain": [
       "array([[0.32162246, 0.08847974, 0.64343006],\n",
       "       [0.00256604, 0.974195  , 0.18603557],\n",
       "       [0.72209095, 0.77312342, 0.6569641 ]])"
      ]
     },
     "execution_count": 15,
     "metadata": {
      "tags": []
     },
     "output_type": "execute_result"
    }
   ],
   "source": [
    "rand_num*rand_num"
   ]
  },
  {
   "cell_type": "markdown",
   "metadata": {
    "colab_type": "text",
    "id": "0ObVgGx8l8QG"
   },
   "source": [
    "### Matrix multiplication"
   ]
  },
  {
   "cell_type": "code",
   "execution_count": null,
   "metadata": {
    "colab": {},
    "colab_type": "code",
    "id": "HvUrJjW3l8QG",
    "outputId": "d0d6a887-0643-4d2d-da4e-3eaf69292b43",
    "scrolled": true
   },
   "outputs": [
    {
     "data": {
      "text/plain": [
       "array([[1.01831714, 1.16758664, 1.23336817],\n",
       "       [0.44524307, 1.36851016, 0.8159482 ],\n",
       "       [1.21521234, 1.83330202, 1.71783808]])"
      ]
     },
     "execution_count": 17,
     "metadata": {
      "tags": []
     },
     "output_type": "execute_result"
    }
   ],
   "source": [
    "np.dot(rand_num,rand_num)"
   ]
  },
  {
   "cell_type": "markdown",
   "metadata": {
    "colab_type": "text",
    "id": "t76lbBDll8QJ"
   },
   "source": [
    "### Array Concatenation and Splitting\n",
    "\n",
    "np.concatenate (axis = 1)\n",
    "\n",
    "np.split\n",
    "\n",
    "np.hstack\n",
    "\n",
    "np.vstack\n",
    "\n",
    "np.dstack\n",
    "\n",
    "np.floor\n",
    "\n",
    "np.hsplit\n",
    "\n",
    "np.vsplit\n",
    "\n",
    "np.dsplit"
   ]
  },
  {
   "cell_type": "code",
   "execution_count": null,
   "metadata": {
    "colab": {},
    "colab_type": "code",
    "id": "SDMsPkwUl8QJ",
    "outputId": "dc779f4d-2e90-4fb6-f5bc-390e07b36a53",
    "scrolled": true
   },
   "outputs": [
    {
     "name": "stdout",
     "output_type": "stream",
     "text": [
      "[0 1 2 3 4]\n",
      "\n"
     ]
    },
    {
     "data": {
      "text/plain": [
       "array([0, 1, 2, 3, 4, 0, 1, 2, 3, 4])"
      ]
     },
     "execution_count": 25,
     "metadata": {
      "tags": []
     },
     "output_type": "execute_result"
    }
   ],
   "source": [
    "a = np.arange(5)\n",
    "print(a)\n",
    "print()\n",
    "\n",
    "np.hstack((a,a))"
   ]
  },
  {
   "cell_type": "markdown",
   "metadata": {
    "colab_type": "text",
    "id": "FEMuxRxQl8QM"
   },
   "source": [
    "## **Exercises:**\n",
    "\n",
    "\n",
    "1. Create a 3x3 matrix with values ranging from 0 to 8\n",
    "2. Create a 10x10 array with random values and find the minimum and maximum values\n",
    "3. Create a 8x8 matrix and fill it with a checkerboard pattern \n",
    "3. Create random vector of size 10 and replace the maximum value by 0\n",
    "4. Create a $4 * 4$ identity matrix.\n",
    "5. Generate the 2D array\n",
    "6. Generate a random $4 \\times 4 \\times 4$ array of Gaussianly distributed numbers.   \n",
    "7. Generate `n` evenly spaced intervals between 0. and 1.  \n",
    "8. Create a vector and then reverse the vector (first element becomes last)\n",
    "\n",
    "\n",
    "Please feel free to discuss with all of us or refer to Prof Google. "
   ]
  },
  {
   "cell_type": "code",
   "execution_count": null,
   "metadata": {
    "colab": {},
    "colab_type": "code",
    "id": "VAyKaH1Kl8QN",
    "outputId": "90d86eb3-b843-4ba8-ec0a-936e9b218361",
    "scrolled": true
   },
   "outputs": [
    {
     "name": "stdout",
     "output_type": "stream",
     "text": [
      "a1 is [[0 1 2]\n",
      " [3 4 5]\n",
      " [6 7 8]]\n",
      "\n",
      "\n",
      "max value of a2 is 0.9992937628379465\n",
      "min value of a2 is 0.012441575894276191\n",
      "\n",
      "\n",
      "a3 is \n",
      "[[1. 1. 1. 1. 1. 1. 1. 1.]\n",
      " [0. 0. 0. 0. 0. 0. 0. 0.]\n",
      " [1. 1. 1. 1. 1. 1. 1. 1.]\n",
      " [0. 0. 0. 0. 0. 0. 0. 0.]\n",
      " [1. 1. 1. 1. 1. 1. 1. 1.]\n",
      " [0. 0. 0. 0. 0. 0. 0. 0.]\n",
      " [1. 1. 1. 1. 1. 1. 1. 1.]\n",
      " [0. 0. 0. 0. 0. 0. 0. 0.]]\n",
      "\n",
      "\n",
      "original a4 is \n",
      "[0.32642686 0.842169   0.3270934  0.76815538 0.72293528 0.72772311\n",
      " 0.31843191 0.41676299 0.0269001  0.44165806]\n",
      "new a4 is \n",
      "[0.32642686 0.         0.3270934  0.76815538 0.72293528 0.72772311\n",
      " 0.31843191 0.41676299 0.0269001  0.44165806]\n",
      "\n",
      "\n",
      "matrix identity a5 is \n",
      "[[1. 0. 0. 0.]\n",
      " [0. 1. 0. 0.]\n",
      " [0. 0. 1. 0.]\n",
      " [0. 0. 0. 1.]]\n",
      "\n",
      "\n",
      "2-D array a6 is \n",
      "[[0.51586491 0.66398948 0.97664544]\n",
      " [0.04570482 0.89286948 0.96746235]\n",
      " [0.58957188 0.62527391 0.15207168]]\n",
      "\n",
      "\n",
      "3-D array a7 is \n",
      "[[[ 1.24532934 -0.21856698 -0.73979455  0.97734318]\n",
      "  [-0.39611546  2.08889299  1.5800086  -1.49495715]\n",
      "  [-0.4902839  -0.32530276  0.36206673 -1.81680732]\n",
      "  [-0.78322585  0.77552733  0.10999834 -1.99478335]]\n",
      "\n",
      " [[ 0.42654637 -2.00054199 -0.73081536  1.5650001 ]\n",
      "  [ 0.52327309  0.44793719 -0.69319204 -0.50252064]\n",
      "  [ 0.75281488 -0.98192208 -1.09342367 -0.16395248]\n",
      "  [-0.39731477  0.8379485   0.28013044  0.46306382]]\n",
      "\n",
      " [[-0.37884152 -0.76614664 -0.70402131 -0.20758354]\n",
      "  [-1.08024839 -0.23268198 -1.57187888 -0.06078278]\n",
      "  [-1.20464148 -0.08984497 -0.47294482 -0.68721336]\n",
      "  [ 1.32338635 -1.04715013 -0.619475   -0.83355595]]\n",
      "\n",
      " [[ 0.40107191  0.43863124  1.61187035 -1.19535028]\n",
      "  [ 0.95272223 -1.06955353 -0.78299704  1.51630909]\n",
      "  [-0.74651708  0.84885255  1.47740253  0.06694602]\n",
      "  [ 0.4545381  -1.94715794 -1.0914511   0.5649201 ]]]\n",
      "\n",
      "\n",
      " a8 is \n",
      "[0.  0.1 0.2 0.3 0.4 0.5 0.6 0.7 0.8 0.9 1. ]\n",
      "\n",
      "\n",
      "a9 is \n",
      "[0 1 2 3 4 5 6 7 8 9]\n",
      "the reverse of a9 is \n",
      "[9 8 7 6 5 4 3 2 1 0]\n"
     ]
    }
   ],
   "source": []
  },
  {
   "cell_type": "markdown",
   "metadata": {
    "colab_type": "text",
    "id": "YP6-ConXl8QP"
   },
   "source": [
    "### Data aggregation functions\n",
    "\n",
    "NumPy provides many other aggregation functions, but we won't discuss them in detail here.\n",
    "Additionally, most aggregates have a ``NaN``-safe counterpart that computes the result while ignoring missing values, which are marked by the special IEEE floating-point ``NaN`` value (for a fuller discussion of missing data.\n",
    "The following table provides a list of useful aggregation functions available in NumPy:\n",
    "\n",
    "|Function Name      |   NaN-safe Version  | Description                                   |\n",
    "|-------------------|---------------------|-----------------------------------------------|\n",
    "| ``np.sum``        | ``np.nansum``       | Compute sum of elements                       |\n",
    "| ``np.prod``       | ``np.nanprod``      | Compute product of elements                   |\n",
    "| ``np.mean``       | ``np.nanmean``      | Compute mean of elements                      |\n",
    "| ``np.std``        | ``np.nanstd``       | Compute standard deviation                    |\n",
    "| ``np.var``        | ``np.nanvar``       | Compute variance                              |\n",
    "| ``np.min``        | ``np.nanmin``       | Find minimum value                            |\n",
    "| ``np.max``        | ``np.nanmax``       | Find maximum value                            |\n",
    "| ``np.argmin``     | ``np.nanargmin``    | Find index of minimum value                   |\n",
    "| ``np.argmax``     | ``np.nanargmax``    | Find index of maximum value                   |\n",
    "| ``np.median``     | ``np.nanmedian``    | Compute median of elements                    |\n",
    "| ``np.percentile`` | ``np.nanpercentile``| Compute rank-based statistics of elements     |\n",
    "| ``np.any``        | N/A                 | Evaluate whether any elements are true        |\n",
    "| ``np.all``        | N/A                 | Evaluate whether all elements are true        |\n",
    "\n",
    "Source: Python Data Science Handbook"
   ]
  },
  {
   "cell_type": "code",
   "execution_count": null,
   "metadata": {
    "colab": {},
    "colab_type": "code",
    "id": "80ehjVK2l8QQ",
    "outputId": "927cd8dc-4dce-4682-a9b7-cf3eaccb85af",
    "scrolled": true
   },
   "outputs": [
    {
     "data": {
      "text/plain": [
       "array([[0.69208244, 0.68317321, 0.95399747],\n",
       "       [0.84600935, 0.24768166, 0.67441559],\n",
       "       [0.24156595, 0.06496905, 0.04510782]])"
      ]
     },
     "execution_count": 29,
     "metadata": {
      "tags": []
     },
     "output_type": "execute_result"
    }
   ],
   "source": [
    "m = np.random.rand(3,3)\n",
    "m"
   ]
  },
  {
   "cell_type": "code",
   "execution_count": null,
   "metadata": {
    "colab": {},
    "colab_type": "code",
    "id": "YvIyalMql8QT",
    "outputId": "7bdd29d8-1140-4edf-8921-152dbf7fe5f2"
   },
   "outputs": [
    {
     "name": "stdout",
     "output_type": "stream",
     "text": [
      "0.4943336161230445\n",
      "0.4943336161230445\n"
     ]
    }
   ],
   "source": [
    "print(m.mean())\n",
    "print(np.mean(m))"
   ]
  }
 ],
 "metadata": {
  "colab": {
   "name": "2.0_Numpy.ipynb",
   "provenance": []
  },
  "kernelspec": {
   "display_name": "Python 3 (ipykernel)",
   "language": "python",
   "name": "python3"
  },
  "language_info": {
   "codemirror_mode": {
    "name": "ipython",
    "version": 3
   },
   "file_extension": ".py",
   "mimetype": "text/x-python",
   "name": "python",
   "nbconvert_exporter": "python",
   "pygments_lexer": "ipython3",
   "version": "3.9.13"
  }
 },
 "nbformat": 4,
 "nbformat_minor": 1
}
